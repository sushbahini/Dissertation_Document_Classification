{
  "nbformat": 4,
  "nbformat_minor": 0,
  "metadata": {
    "kernelspec": {
      "display_name": "Python 3",
      "language": "python",
      "name": "python3"
    },
    "language_info": {
      "codemirror_mode": {
        "name": "ipython",
        "version": 3
      },
      "file_extension": ".py",
      "mimetype": "text/x-python",
      "name": "python",
      "nbconvert_exporter": "python",
      "pygments_lexer": "ipython3",
      "version": "3.7.4"
    },
    "colab": {
      "name": "Dissertation_Final .ipynb",
      "provenance": [],
      "collapsed_sections": []
    },
    "accelerator": "GPU",
    "widgets": {
      "application/vnd.jupyter.widget-state+json": {
        "446eb73c3a1f4da183cc5412a6502076": {
          "model_module": "@jupyter-widgets/controls",
          "model_name": "HBoxModel",
          "state": {
            "_view_name": "HBoxView",
            "_dom_classes": [],
            "_model_name": "HBoxModel",
            "_view_module": "@jupyter-widgets/controls",
            "_model_module_version": "1.5.0",
            "_view_count": null,
            "_view_module_version": "1.5.0",
            "box_style": "",
            "layout": "IPY_MODEL_f1985ba94266464d83caeb9d7e216ac0",
            "_model_module": "@jupyter-widgets/controls",
            "children": [
              "IPY_MODEL_fe31aaa4726d436da5872811ea0bf73a",
              "IPY_MODEL_2d3a1323f3c747fe9d77d7fe69b9c59b"
            ]
          }
        },
        "f1985ba94266464d83caeb9d7e216ac0": {
          "model_module": "@jupyter-widgets/base",
          "model_name": "LayoutModel",
          "state": {
            "_view_name": "LayoutView",
            "grid_template_rows": null,
            "right": null,
            "justify_content": null,
            "_view_module": "@jupyter-widgets/base",
            "overflow": null,
            "_model_module_version": "1.2.0",
            "_view_count": null,
            "flex_flow": null,
            "width": null,
            "min_width": null,
            "border": null,
            "align_items": null,
            "bottom": null,
            "_model_module": "@jupyter-widgets/base",
            "top": null,
            "grid_column": null,
            "overflow_y": null,
            "overflow_x": null,
            "grid_auto_flow": null,
            "grid_area": null,
            "grid_template_columns": null,
            "flex": null,
            "_model_name": "LayoutModel",
            "justify_items": null,
            "grid_row": null,
            "max_height": null,
            "align_content": null,
            "visibility": null,
            "align_self": null,
            "height": null,
            "min_height": null,
            "padding": null,
            "grid_auto_rows": null,
            "grid_gap": null,
            "max_width": null,
            "order": null,
            "_view_module_version": "1.2.0",
            "grid_template_areas": null,
            "object_position": null,
            "object_fit": null,
            "grid_auto_columns": null,
            "margin": null,
            "display": null,
            "left": null
          }
        },
        "fe31aaa4726d436da5872811ea0bf73a": {
          "model_module": "@jupyter-widgets/controls",
          "model_name": "FloatProgressModel",
          "state": {
            "_view_name": "ProgressView",
            "style": "IPY_MODEL_176802e2c63f46f6a820ab5d68899871",
            "_dom_classes": [],
            "description": "Downloading: 100%",
            "_model_name": "FloatProgressModel",
            "bar_style": "success",
            "max": 231508,
            "_view_module": "@jupyter-widgets/controls",
            "_model_module_version": "1.5.0",
            "value": 231508,
            "_view_count": null,
            "_view_module_version": "1.5.0",
            "orientation": "horizontal",
            "min": 0,
            "description_tooltip": null,
            "_model_module": "@jupyter-widgets/controls",
            "layout": "IPY_MODEL_87dde1d5dd25467ab8a4eb34b12c5404"
          }
        },
        "2d3a1323f3c747fe9d77d7fe69b9c59b": {
          "model_module": "@jupyter-widgets/controls",
          "model_name": "HTMLModel",
          "state": {
            "_view_name": "HTMLView",
            "style": "IPY_MODEL_4e8861482a3d4b2a8e11e2ad650e3ce5",
            "_dom_classes": [],
            "description": "",
            "_model_name": "HTMLModel",
            "placeholder": "​",
            "_view_module": "@jupyter-widgets/controls",
            "_model_module_version": "1.5.0",
            "value": " 232k/232k [00:00&lt;00:00, 3.03MB/s]",
            "_view_count": null,
            "_view_module_version": "1.5.0",
            "description_tooltip": null,
            "_model_module": "@jupyter-widgets/controls",
            "layout": "IPY_MODEL_48b4df83699448fdbe7a4aca990d961d"
          }
        },
        "176802e2c63f46f6a820ab5d68899871": {
          "model_module": "@jupyter-widgets/controls",
          "model_name": "ProgressStyleModel",
          "state": {
            "_view_name": "StyleView",
            "_model_name": "ProgressStyleModel",
            "description_width": "initial",
            "_view_module": "@jupyter-widgets/base",
            "_model_module_version": "1.5.0",
            "_view_count": null,
            "_view_module_version": "1.2.0",
            "bar_color": null,
            "_model_module": "@jupyter-widgets/controls"
          }
        },
        "87dde1d5dd25467ab8a4eb34b12c5404": {
          "model_module": "@jupyter-widgets/base",
          "model_name": "LayoutModel",
          "state": {
            "_view_name": "LayoutView",
            "grid_template_rows": null,
            "right": null,
            "justify_content": null,
            "_view_module": "@jupyter-widgets/base",
            "overflow": null,
            "_model_module_version": "1.2.0",
            "_view_count": null,
            "flex_flow": null,
            "width": null,
            "min_width": null,
            "border": null,
            "align_items": null,
            "bottom": null,
            "_model_module": "@jupyter-widgets/base",
            "top": null,
            "grid_column": null,
            "overflow_y": null,
            "overflow_x": null,
            "grid_auto_flow": null,
            "grid_area": null,
            "grid_template_columns": null,
            "flex": null,
            "_model_name": "LayoutModel",
            "justify_items": null,
            "grid_row": null,
            "max_height": null,
            "align_content": null,
            "visibility": null,
            "align_self": null,
            "height": null,
            "min_height": null,
            "padding": null,
            "grid_auto_rows": null,
            "grid_gap": null,
            "max_width": null,
            "order": null,
            "_view_module_version": "1.2.0",
            "grid_template_areas": null,
            "object_position": null,
            "object_fit": null,
            "grid_auto_columns": null,
            "margin": null,
            "display": null,
            "left": null
          }
        },
        "4e8861482a3d4b2a8e11e2ad650e3ce5": {
          "model_module": "@jupyter-widgets/controls",
          "model_name": "DescriptionStyleModel",
          "state": {
            "_view_name": "StyleView",
            "_model_name": "DescriptionStyleModel",
            "description_width": "",
            "_view_module": "@jupyter-widgets/base",
            "_model_module_version": "1.5.0",
            "_view_count": null,
            "_view_module_version": "1.2.0",
            "_model_module": "@jupyter-widgets/controls"
          }
        },
        "48b4df83699448fdbe7a4aca990d961d": {
          "model_module": "@jupyter-widgets/base",
          "model_name": "LayoutModel",
          "state": {
            "_view_name": "LayoutView",
            "grid_template_rows": null,
            "right": null,
            "justify_content": null,
            "_view_module": "@jupyter-widgets/base",
            "overflow": null,
            "_model_module_version": "1.2.0",
            "_view_count": null,
            "flex_flow": null,
            "width": null,
            "min_width": null,
            "border": null,
            "align_items": null,
            "bottom": null,
            "_model_module": "@jupyter-widgets/base",
            "top": null,
            "grid_column": null,
            "overflow_y": null,
            "overflow_x": null,
            "grid_auto_flow": null,
            "grid_area": null,
            "grid_template_columns": null,
            "flex": null,
            "_model_name": "LayoutModel",
            "justify_items": null,
            "grid_row": null,
            "max_height": null,
            "align_content": null,
            "visibility": null,
            "align_self": null,
            "height": null,
            "min_height": null,
            "padding": null,
            "grid_auto_rows": null,
            "grid_gap": null,
            "max_width": null,
            "order": null,
            "_view_module_version": "1.2.0",
            "grid_template_areas": null,
            "object_position": null,
            "object_fit": null,
            "grid_auto_columns": null,
            "margin": null,
            "display": null,
            "left": null
          }
        },
        "b5aa4cf62871441ba658b5226e36d41b": {
          "model_module": "@jupyter-widgets/controls",
          "model_name": "HBoxModel",
          "state": {
            "_view_name": "HBoxView",
            "_dom_classes": [],
            "_model_name": "HBoxModel",
            "_view_module": "@jupyter-widgets/controls",
            "_model_module_version": "1.5.0",
            "_view_count": null,
            "_view_module_version": "1.5.0",
            "box_style": "",
            "layout": "IPY_MODEL_c1a2f65a5790452daa2dd848f19b98da",
            "_model_module": "@jupyter-widgets/controls",
            "children": [
              "IPY_MODEL_ebe1b219b4cb4bba8eb68cd6f59291e3",
              "IPY_MODEL_20bdb8919ca749a1869480cabab18a48"
            ]
          }
        },
        "c1a2f65a5790452daa2dd848f19b98da": {
          "model_module": "@jupyter-widgets/base",
          "model_name": "LayoutModel",
          "state": {
            "_view_name": "LayoutView",
            "grid_template_rows": null,
            "right": null,
            "justify_content": null,
            "_view_module": "@jupyter-widgets/base",
            "overflow": null,
            "_model_module_version": "1.2.0",
            "_view_count": null,
            "flex_flow": null,
            "width": null,
            "min_width": null,
            "border": null,
            "align_items": null,
            "bottom": null,
            "_model_module": "@jupyter-widgets/base",
            "top": null,
            "grid_column": null,
            "overflow_y": null,
            "overflow_x": null,
            "grid_auto_flow": null,
            "grid_area": null,
            "grid_template_columns": null,
            "flex": null,
            "_model_name": "LayoutModel",
            "justify_items": null,
            "grid_row": null,
            "max_height": null,
            "align_content": null,
            "visibility": null,
            "align_self": null,
            "height": null,
            "min_height": null,
            "padding": null,
            "grid_auto_rows": null,
            "grid_gap": null,
            "max_width": null,
            "order": null,
            "_view_module_version": "1.2.0",
            "grid_template_areas": null,
            "object_position": null,
            "object_fit": null,
            "grid_auto_columns": null,
            "margin": null,
            "display": null,
            "left": null
          }
        },
        "ebe1b219b4cb4bba8eb68cd6f59291e3": {
          "model_module": "@jupyter-widgets/controls",
          "model_name": "FloatProgressModel",
          "state": {
            "_view_name": "ProgressView",
            "style": "IPY_MODEL_80d953fef66643a2ac40bad050693d27",
            "_dom_classes": [],
            "description": "Downloading: 100%",
            "_model_name": "FloatProgressModel",
            "bar_style": "success",
            "max": 433,
            "_view_module": "@jupyter-widgets/controls",
            "_model_module_version": "1.5.0",
            "value": 433,
            "_view_count": null,
            "_view_module_version": "1.5.0",
            "orientation": "horizontal",
            "min": 0,
            "description_tooltip": null,
            "_model_module": "@jupyter-widgets/controls",
            "layout": "IPY_MODEL_ab4e68084e144a98952e336e26a1f77e"
          }
        },
        "20bdb8919ca749a1869480cabab18a48": {
          "model_module": "@jupyter-widgets/controls",
          "model_name": "HTMLModel",
          "state": {
            "_view_name": "HTMLView",
            "style": "IPY_MODEL_c623b86e2d1e4b00a7dd4f4023ddb95c",
            "_dom_classes": [],
            "description": "",
            "_model_name": "HTMLModel",
            "placeholder": "​",
            "_view_module": "@jupyter-widgets/controls",
            "_model_module_version": "1.5.0",
            "value": " 433/433 [00:00&lt;00:00, 2.32kB/s]",
            "_view_count": null,
            "_view_module_version": "1.5.0",
            "description_tooltip": null,
            "_model_module": "@jupyter-widgets/controls",
            "layout": "IPY_MODEL_c62b85fe7af84838b0ae3e309efe8d87"
          }
        },
        "80d953fef66643a2ac40bad050693d27": {
          "model_module": "@jupyter-widgets/controls",
          "model_name": "ProgressStyleModel",
          "state": {
            "_view_name": "StyleView",
            "_model_name": "ProgressStyleModel",
            "description_width": "initial",
            "_view_module": "@jupyter-widgets/base",
            "_model_module_version": "1.5.0",
            "_view_count": null,
            "_view_module_version": "1.2.0",
            "bar_color": null,
            "_model_module": "@jupyter-widgets/controls"
          }
        },
        "ab4e68084e144a98952e336e26a1f77e": {
          "model_module": "@jupyter-widgets/base",
          "model_name": "LayoutModel",
          "state": {
            "_view_name": "LayoutView",
            "grid_template_rows": null,
            "right": null,
            "justify_content": null,
            "_view_module": "@jupyter-widgets/base",
            "overflow": null,
            "_model_module_version": "1.2.0",
            "_view_count": null,
            "flex_flow": null,
            "width": null,
            "min_width": null,
            "border": null,
            "align_items": null,
            "bottom": null,
            "_model_module": "@jupyter-widgets/base",
            "top": null,
            "grid_column": null,
            "overflow_y": null,
            "overflow_x": null,
            "grid_auto_flow": null,
            "grid_area": null,
            "grid_template_columns": null,
            "flex": null,
            "_model_name": "LayoutModel",
            "justify_items": null,
            "grid_row": null,
            "max_height": null,
            "align_content": null,
            "visibility": null,
            "align_self": null,
            "height": null,
            "min_height": null,
            "padding": null,
            "grid_auto_rows": null,
            "grid_gap": null,
            "max_width": null,
            "order": null,
            "_view_module_version": "1.2.0",
            "grid_template_areas": null,
            "object_position": null,
            "object_fit": null,
            "grid_auto_columns": null,
            "margin": null,
            "display": null,
            "left": null
          }
        },
        "c623b86e2d1e4b00a7dd4f4023ddb95c": {
          "model_module": "@jupyter-widgets/controls",
          "model_name": "DescriptionStyleModel",
          "state": {
            "_view_name": "StyleView",
            "_model_name": "DescriptionStyleModel",
            "description_width": "",
            "_view_module": "@jupyter-widgets/base",
            "_model_module_version": "1.5.0",
            "_view_count": null,
            "_view_module_version": "1.2.0",
            "_model_module": "@jupyter-widgets/controls"
          }
        },
        "c62b85fe7af84838b0ae3e309efe8d87": {
          "model_module": "@jupyter-widgets/base",
          "model_name": "LayoutModel",
          "state": {
            "_view_name": "LayoutView",
            "grid_template_rows": null,
            "right": null,
            "justify_content": null,
            "_view_module": "@jupyter-widgets/base",
            "overflow": null,
            "_model_module_version": "1.2.0",
            "_view_count": null,
            "flex_flow": null,
            "width": null,
            "min_width": null,
            "border": null,
            "align_items": null,
            "bottom": null,
            "_model_module": "@jupyter-widgets/base",
            "top": null,
            "grid_column": null,
            "overflow_y": null,
            "overflow_x": null,
            "grid_auto_flow": null,
            "grid_area": null,
            "grid_template_columns": null,
            "flex": null,
            "_model_name": "LayoutModel",
            "justify_items": null,
            "grid_row": null,
            "max_height": null,
            "align_content": null,
            "visibility": null,
            "align_self": null,
            "height": null,
            "min_height": null,
            "padding": null,
            "grid_auto_rows": null,
            "grid_gap": null,
            "max_width": null,
            "order": null,
            "_view_module_version": "1.2.0",
            "grid_template_areas": null,
            "object_position": null,
            "object_fit": null,
            "grid_auto_columns": null,
            "margin": null,
            "display": null,
            "left": null
          }
        },
        "3d50f8dd0b5144509da7f3151e046bc2": {
          "model_module": "@jupyter-widgets/controls",
          "model_name": "HBoxModel",
          "state": {
            "_view_name": "HBoxView",
            "_dom_classes": [],
            "_model_name": "HBoxModel",
            "_view_module": "@jupyter-widgets/controls",
            "_model_module_version": "1.5.0",
            "_view_count": null,
            "_view_module_version": "1.5.0",
            "box_style": "",
            "layout": "IPY_MODEL_e49da5d5e093459f8c647d0180c92ea3",
            "_model_module": "@jupyter-widgets/controls",
            "children": [
              "IPY_MODEL_e66df34851cb4cf6b919f120547d2d4b",
              "IPY_MODEL_76780c233ddd4c45a25336cf5ee9e343"
            ]
          }
        },
        "e49da5d5e093459f8c647d0180c92ea3": {
          "model_module": "@jupyter-widgets/base",
          "model_name": "LayoutModel",
          "state": {
            "_view_name": "LayoutView",
            "grid_template_rows": null,
            "right": null,
            "justify_content": null,
            "_view_module": "@jupyter-widgets/base",
            "overflow": null,
            "_model_module_version": "1.2.0",
            "_view_count": null,
            "flex_flow": null,
            "width": null,
            "min_width": null,
            "border": null,
            "align_items": null,
            "bottom": null,
            "_model_module": "@jupyter-widgets/base",
            "top": null,
            "grid_column": null,
            "overflow_y": null,
            "overflow_x": null,
            "grid_auto_flow": null,
            "grid_area": null,
            "grid_template_columns": null,
            "flex": null,
            "_model_name": "LayoutModel",
            "justify_items": null,
            "grid_row": null,
            "max_height": null,
            "align_content": null,
            "visibility": null,
            "align_self": null,
            "height": null,
            "min_height": null,
            "padding": null,
            "grid_auto_rows": null,
            "grid_gap": null,
            "max_width": null,
            "order": null,
            "_view_module_version": "1.2.0",
            "grid_template_areas": null,
            "object_position": null,
            "object_fit": null,
            "grid_auto_columns": null,
            "margin": null,
            "display": null,
            "left": null
          }
        },
        "e66df34851cb4cf6b919f120547d2d4b": {
          "model_module": "@jupyter-widgets/controls",
          "model_name": "FloatProgressModel",
          "state": {
            "_view_name": "ProgressView",
            "style": "IPY_MODEL_add53a00d1794942b61cc98be7dae988",
            "_dom_classes": [],
            "description": "Downloading: 100%",
            "_model_name": "FloatProgressModel",
            "bar_style": "success",
            "max": 440473133,
            "_view_module": "@jupyter-widgets/controls",
            "_model_module_version": "1.5.0",
            "value": 440473133,
            "_view_count": null,
            "_view_module_version": "1.5.0",
            "orientation": "horizontal",
            "min": 0,
            "description_tooltip": null,
            "_model_module": "@jupyter-widgets/controls",
            "layout": "IPY_MODEL_d950589538eb48fc83645e3a8e024ac2"
          }
        },
        "76780c233ddd4c45a25336cf5ee9e343": {
          "model_module": "@jupyter-widgets/controls",
          "model_name": "HTMLModel",
          "state": {
            "_view_name": "HTMLView",
            "style": "IPY_MODEL_5c7679b9e9f44870b5a4bff811a3a223",
            "_dom_classes": [],
            "description": "",
            "_model_name": "HTMLModel",
            "placeholder": "​",
            "_view_module": "@jupyter-widgets/controls",
            "_model_module_version": "1.5.0",
            "value": " 440M/440M [00:47&lt;00:00, 9.35MB/s]",
            "_view_count": null,
            "_view_module_version": "1.5.0",
            "description_tooltip": null,
            "_model_module": "@jupyter-widgets/controls",
            "layout": "IPY_MODEL_f32a87c0741e4c008969958b29b07a51"
          }
        },
        "add53a00d1794942b61cc98be7dae988": {
          "model_module": "@jupyter-widgets/controls",
          "model_name": "ProgressStyleModel",
          "state": {
            "_view_name": "StyleView",
            "_model_name": "ProgressStyleModel",
            "description_width": "initial",
            "_view_module": "@jupyter-widgets/base",
            "_model_module_version": "1.5.0",
            "_view_count": null,
            "_view_module_version": "1.2.0",
            "bar_color": null,
            "_model_module": "@jupyter-widgets/controls"
          }
        },
        "d950589538eb48fc83645e3a8e024ac2": {
          "model_module": "@jupyter-widgets/base",
          "model_name": "LayoutModel",
          "state": {
            "_view_name": "LayoutView",
            "grid_template_rows": null,
            "right": null,
            "justify_content": null,
            "_view_module": "@jupyter-widgets/base",
            "overflow": null,
            "_model_module_version": "1.2.0",
            "_view_count": null,
            "flex_flow": null,
            "width": null,
            "min_width": null,
            "border": null,
            "align_items": null,
            "bottom": null,
            "_model_module": "@jupyter-widgets/base",
            "top": null,
            "grid_column": null,
            "overflow_y": null,
            "overflow_x": null,
            "grid_auto_flow": null,
            "grid_area": null,
            "grid_template_columns": null,
            "flex": null,
            "_model_name": "LayoutModel",
            "justify_items": null,
            "grid_row": null,
            "max_height": null,
            "align_content": null,
            "visibility": null,
            "align_self": null,
            "height": null,
            "min_height": null,
            "padding": null,
            "grid_auto_rows": null,
            "grid_gap": null,
            "max_width": null,
            "order": null,
            "_view_module_version": "1.2.0",
            "grid_template_areas": null,
            "object_position": null,
            "object_fit": null,
            "grid_auto_columns": null,
            "margin": null,
            "display": null,
            "left": null
          }
        },
        "5c7679b9e9f44870b5a4bff811a3a223": {
          "model_module": "@jupyter-widgets/controls",
          "model_name": "DescriptionStyleModel",
          "state": {
            "_view_name": "StyleView",
            "_model_name": "DescriptionStyleModel",
            "description_width": "",
            "_view_module": "@jupyter-widgets/base",
            "_model_module_version": "1.5.0",
            "_view_count": null,
            "_view_module_version": "1.2.0",
            "_model_module": "@jupyter-widgets/controls"
          }
        },
        "f32a87c0741e4c008969958b29b07a51": {
          "model_module": "@jupyter-widgets/base",
          "model_name": "LayoutModel",
          "state": {
            "_view_name": "LayoutView",
            "grid_template_rows": null,
            "right": null,
            "justify_content": null,
            "_view_module": "@jupyter-widgets/base",
            "overflow": null,
            "_model_module_version": "1.2.0",
            "_view_count": null,
            "flex_flow": null,
            "width": null,
            "min_width": null,
            "border": null,
            "align_items": null,
            "bottom": null,
            "_model_module": "@jupyter-widgets/base",
            "top": null,
            "grid_column": null,
            "overflow_y": null,
            "overflow_x": null,
            "grid_auto_flow": null,
            "grid_area": null,
            "grid_template_columns": null,
            "flex": null,
            "_model_name": "LayoutModel",
            "justify_items": null,
            "grid_row": null,
            "max_height": null,
            "align_content": null,
            "visibility": null,
            "align_self": null,
            "height": null,
            "min_height": null,
            "padding": null,
            "grid_auto_rows": null,
            "grid_gap": null,
            "max_width": null,
            "order": null,
            "_view_module_version": "1.2.0",
            "grid_template_areas": null,
            "object_position": null,
            "object_fit": null,
            "grid_auto_columns": null,
            "margin": null,
            "display": null,
            "left": null
          }
        }
      }
    }
  },
  "cells": [
    {
      "cell_type": "markdown",
      "metadata": {
        "id": "-1qf_YgMlzYv"
      },
      "source": [
        "# SetUp"
      ]
    },
    {
      "cell_type": "code",
      "metadata": {
        "id": "fuVFbQuPl93n",
        "colab": {
          "base_uri": "https://localhost:8080/"
        },
        "outputId": "325f1408-9ccf-45cb-c60e-1f01874795a7"
      },
      "source": [
        "# Mounting the drive \n",
        "from google.colab import drive\n",
        "drive.mount('/content/drive')"
      ],
      "execution_count": null,
      "outputs": [
        {
          "output_type": "stream",
          "text": [
            "Drive already mounted at /content/drive; to attempt to forcibly remount, call drive.mount(\"/content/drive\", force_remount=True).\n"
          ],
          "name": "stdout"
        }
      ]
    },
    {
      "cell_type": "code",
      "metadata": {
        "id": "cmXZSRqRlzY1",
        "colab": {
          "base_uri": "https://localhost:8080/"
        },
        "outputId": "ab59cb35-6c0d-4c91-8a18-fdeda8582ff3"
      },
      "source": [
        "# Checking for the GPU\n",
        "import torch\n",
        "\n",
        "# If there's a GPU available...\n",
        "if torch.cuda.is_available():    \n",
        "\n",
        "    # Tell PyTorch to use the GPU.    \n",
        "    device = torch.device(\"cuda\")\n",
        "\n",
        "    print('There are %d GPU(s) available.' % torch.cuda.device_count())\n",
        "\n",
        "    print('We will use the GPU:', torch.cuda.get_device_name(0))\n",
        "\n",
        "# If not...\n",
        "else:\n",
        "    print('No GPU available, using the CPU instead.')\n",
        "    device = torch.device(\"cpu\")"
      ],
      "execution_count": null,
      "outputs": [
        {
          "output_type": "stream",
          "text": [
            "There are 1 GPU(s) available.\n",
            "We will use the GPU: Tesla T4\n"
          ],
          "name": "stdout"
        }
      ]
    },
    {
      "cell_type": "markdown",
      "metadata": {
        "id": "Bjm0miMLlzY4"
      },
      "source": [
        "# Loading the data"
      ]
    },
    {
      "cell_type": "code",
      "metadata": {
        "id": "9EYtQoPalzY5"
      },
      "source": [
        "# Loading the libraries\n",
        "import numpy as np # linear algebra\n",
        "import pandas as pd # data processing, CSV file I/O (e.g. pd.read_csv)\n",
        "import glob\n",
        "import json\n",
        "\n",
        "import matplotlib.pyplot as plt\n",
        "plt.style.use('ggplot')"
      ],
      "execution_count": null,
      "outputs": []
    },
    {
      "cell_type": "code",
      "metadata": {
        "id": "qTbs18Q2lzY8",
        "outputId": "9c2769ab-ede3-4a13-ab0b-fedcac5dc3dd"
      },
      "source": [
        "# Loading the dataset\n",
        "meta_df = pd.read_csv('metadata.csv',\n",
        "                      dtype={'pubmed_id': str,'mag_id': str, 's2_id': str})\n",
        "meta_df.head()"
      ],
      "execution_count": null,
      "outputs": [
        {
          "output_type": "stream",
          "text": [
            "C:\\Users\\sushb\\AppData\\Local\\Continuum\\anaconda3\\lib\\site-packages\\IPython\\core\\interactiveshell.py:3058: DtypeWarning: Columns (5,13,14,16) have mixed types.Specify dtype option on import or set low_memory=False.\n",
            "  interactivity=interactivity, compiler=compiler, result=result)\n"
          ],
          "name": "stderr"
        },
        {
          "output_type": "execute_result",
          "data": {
            "text/html": [
              "<div>\n",
              "<style scoped>\n",
              "    .dataframe tbody tr th:only-of-type {\n",
              "        vertical-align: middle;\n",
              "    }\n",
              "\n",
              "    .dataframe tbody tr th {\n",
              "        vertical-align: top;\n",
              "    }\n",
              "\n",
              "    .dataframe thead th {\n",
              "        text-align: right;\n",
              "    }\n",
              "</style>\n",
              "<table border=\"1\" class=\"dataframe\">\n",
              "  <thead>\n",
              "    <tr style=\"text-align: right;\">\n",
              "      <th></th>\n",
              "      <th>cord_uid</th>\n",
              "      <th>sha</th>\n",
              "      <th>source_x</th>\n",
              "      <th>title</th>\n",
              "      <th>doi</th>\n",
              "      <th>pmcid</th>\n",
              "      <th>pubmed_id</th>\n",
              "      <th>license</th>\n",
              "      <th>abstract</th>\n",
              "      <th>publish_time</th>\n",
              "      <th>authors</th>\n",
              "      <th>journal</th>\n",
              "      <th>mag_id</th>\n",
              "      <th>who_covidence_id</th>\n",
              "      <th>arxiv_id</th>\n",
              "      <th>pdf_json_files</th>\n",
              "      <th>pmc_json_files</th>\n",
              "      <th>url</th>\n",
              "      <th>s2_id</th>\n",
              "    </tr>\n",
              "  </thead>\n",
              "  <tbody>\n",
              "    <tr>\n",
              "      <th>0</th>\n",
              "      <td>ug7v899j</td>\n",
              "      <td>d1aafb70c066a2068b02786f8929fd9c900897fb</td>\n",
              "      <td>PMC</td>\n",
              "      <td>Clinical features of culture-proven Mycoplasma...</td>\n",
              "      <td>10.1186/1471-2334-1-6</td>\n",
              "      <td>PMC35282</td>\n",
              "      <td>11472636</td>\n",
              "      <td>no-cc</td>\n",
              "      <td>OBJECTIVE: This retrospective chart review des...</td>\n",
              "      <td>2001-07-04</td>\n",
              "      <td>Madani, Tariq A; Al-Ghamdi, Aisha A</td>\n",
              "      <td>BMC Infect Dis</td>\n",
              "      <td>NaN</td>\n",
              "      <td>NaN</td>\n",
              "      <td>NaN</td>\n",
              "      <td>document_parses/pdf_json/d1aafb70c066a2068b027...</td>\n",
              "      <td>document_parses/pmc_json/PMC35282.xml.json</td>\n",
              "      <td>https://www.ncbi.nlm.nih.gov/pmc/articles/PMC3...</td>\n",
              "      <td>NaN</td>\n",
              "    </tr>\n",
              "    <tr>\n",
              "      <th>1</th>\n",
              "      <td>02tnwd4m</td>\n",
              "      <td>6b0567729c2143a66d737eb0a2f63f2dce2e5a7d</td>\n",
              "      <td>PMC</td>\n",
              "      <td>Nitric oxide: a pro-inflammatory mediator in l...</td>\n",
              "      <td>10.1186/rr14</td>\n",
              "      <td>PMC59543</td>\n",
              "      <td>11667967</td>\n",
              "      <td>no-cc</td>\n",
              "      <td>Inflammatory diseases of the respiratory tract...</td>\n",
              "      <td>2000-08-15</td>\n",
              "      <td>Vliet, Albert van der; Eiserich, Jason P; Cros...</td>\n",
              "      <td>Respir Res</td>\n",
              "      <td>NaN</td>\n",
              "      <td>NaN</td>\n",
              "      <td>NaN</td>\n",
              "      <td>document_parses/pdf_json/6b0567729c2143a66d737...</td>\n",
              "      <td>document_parses/pmc_json/PMC59543.xml.json</td>\n",
              "      <td>https://www.ncbi.nlm.nih.gov/pmc/articles/PMC5...</td>\n",
              "      <td>NaN</td>\n",
              "    </tr>\n",
              "    <tr>\n",
              "      <th>2</th>\n",
              "      <td>ejv2xln0</td>\n",
              "      <td>06ced00a5fc04215949aa72528f2eeaae1d58927</td>\n",
              "      <td>PMC</td>\n",
              "      <td>Surfactant protein-D and pulmonary host defense</td>\n",
              "      <td>10.1186/rr19</td>\n",
              "      <td>PMC59549</td>\n",
              "      <td>11667972</td>\n",
              "      <td>no-cc</td>\n",
              "      <td>Surfactant protein-D (SP-D) participates in th...</td>\n",
              "      <td>2000-08-25</td>\n",
              "      <td>Crouch, Erika C</td>\n",
              "      <td>Respir Res</td>\n",
              "      <td>NaN</td>\n",
              "      <td>NaN</td>\n",
              "      <td>NaN</td>\n",
              "      <td>document_parses/pdf_json/06ced00a5fc04215949aa...</td>\n",
              "      <td>document_parses/pmc_json/PMC59549.xml.json</td>\n",
              "      <td>https://www.ncbi.nlm.nih.gov/pmc/articles/PMC5...</td>\n",
              "      <td>NaN</td>\n",
              "    </tr>\n",
              "    <tr>\n",
              "      <th>3</th>\n",
              "      <td>2b73a28n</td>\n",
              "      <td>348055649b6b8cf2b9a376498df9bf41f7123605</td>\n",
              "      <td>PMC</td>\n",
              "      <td>Role of endothelin-1 in lung disease</td>\n",
              "      <td>10.1186/rr44</td>\n",
              "      <td>PMC59574</td>\n",
              "      <td>11686871</td>\n",
              "      <td>no-cc</td>\n",
              "      <td>Endothelin-1 (ET-1) is a 21 amino acid peptide...</td>\n",
              "      <td>2001-02-22</td>\n",
              "      <td>Fagan, Karen A; McMurtry, Ivan F; Rodman, David M</td>\n",
              "      <td>Respir Res</td>\n",
              "      <td>NaN</td>\n",
              "      <td>NaN</td>\n",
              "      <td>NaN</td>\n",
              "      <td>document_parses/pdf_json/348055649b6b8cf2b9a37...</td>\n",
              "      <td>document_parses/pmc_json/PMC59574.xml.json</td>\n",
              "      <td>https://www.ncbi.nlm.nih.gov/pmc/articles/PMC5...</td>\n",
              "      <td>NaN</td>\n",
              "    </tr>\n",
              "    <tr>\n",
              "      <th>4</th>\n",
              "      <td>9785vg6d</td>\n",
              "      <td>5f48792a5fa08bed9f56016f4981ae2ca6031b32</td>\n",
              "      <td>PMC</td>\n",
              "      <td>Gene expression in epithelial cells in respons...</td>\n",
              "      <td>10.1186/rr61</td>\n",
              "      <td>PMC59580</td>\n",
              "      <td>11686888</td>\n",
              "      <td>no-cc</td>\n",
              "      <td>Respiratory syncytial virus (RSV) and pneumoni...</td>\n",
              "      <td>2001-05-11</td>\n",
              "      <td>Domachowske, Joseph B; Bonville, Cynthia A; Ro...</td>\n",
              "      <td>Respir Res</td>\n",
              "      <td>NaN</td>\n",
              "      <td>NaN</td>\n",
              "      <td>NaN</td>\n",
              "      <td>document_parses/pdf_json/5f48792a5fa08bed9f560...</td>\n",
              "      <td>document_parses/pmc_json/PMC59580.xml.json</td>\n",
              "      <td>https://www.ncbi.nlm.nih.gov/pmc/articles/PMC5...</td>\n",
              "      <td>NaN</td>\n",
              "    </tr>\n",
              "  </tbody>\n",
              "</table>\n",
              "</div>"
            ],
            "text/plain": [
              "   cord_uid                                       sha source_x  \\\n",
              "0  ug7v899j  d1aafb70c066a2068b02786f8929fd9c900897fb      PMC   \n",
              "1  02tnwd4m  6b0567729c2143a66d737eb0a2f63f2dce2e5a7d      PMC   \n",
              "2  ejv2xln0  06ced00a5fc04215949aa72528f2eeaae1d58927      PMC   \n",
              "3  2b73a28n  348055649b6b8cf2b9a376498df9bf41f7123605      PMC   \n",
              "4  9785vg6d  5f48792a5fa08bed9f56016f4981ae2ca6031b32      PMC   \n",
              "\n",
              "                                               title                    doi  \\\n",
              "0  Clinical features of culture-proven Mycoplasma...  10.1186/1471-2334-1-6   \n",
              "1  Nitric oxide: a pro-inflammatory mediator in l...           10.1186/rr14   \n",
              "2    Surfactant protein-D and pulmonary host defense           10.1186/rr19   \n",
              "3               Role of endothelin-1 in lung disease           10.1186/rr44   \n",
              "4  Gene expression in epithelial cells in respons...           10.1186/rr61   \n",
              "\n",
              "      pmcid pubmed_id license  \\\n",
              "0  PMC35282  11472636   no-cc   \n",
              "1  PMC59543  11667967   no-cc   \n",
              "2  PMC59549  11667972   no-cc   \n",
              "3  PMC59574  11686871   no-cc   \n",
              "4  PMC59580  11686888   no-cc   \n",
              "\n",
              "                                            abstract publish_time  \\\n",
              "0  OBJECTIVE: This retrospective chart review des...   2001-07-04   \n",
              "1  Inflammatory diseases of the respiratory tract...   2000-08-15   \n",
              "2  Surfactant protein-D (SP-D) participates in th...   2000-08-25   \n",
              "3  Endothelin-1 (ET-1) is a 21 amino acid peptide...   2001-02-22   \n",
              "4  Respiratory syncytial virus (RSV) and pneumoni...   2001-05-11   \n",
              "\n",
              "                                             authors         journal mag_id  \\\n",
              "0                Madani, Tariq A; Al-Ghamdi, Aisha A  BMC Infect Dis    NaN   \n",
              "1  Vliet, Albert van der; Eiserich, Jason P; Cros...      Respir Res    NaN   \n",
              "2                                    Crouch, Erika C      Respir Res    NaN   \n",
              "3  Fagan, Karen A; McMurtry, Ivan F; Rodman, David M      Respir Res    NaN   \n",
              "4  Domachowske, Joseph B; Bonville, Cynthia A; Ro...      Respir Res    NaN   \n",
              "\n",
              "  who_covidence_id arxiv_id  \\\n",
              "0              NaN      NaN   \n",
              "1              NaN      NaN   \n",
              "2              NaN      NaN   \n",
              "3              NaN      NaN   \n",
              "4              NaN      NaN   \n",
              "\n",
              "                                      pdf_json_files  \\\n",
              "0  document_parses/pdf_json/d1aafb70c066a2068b027...   \n",
              "1  document_parses/pdf_json/6b0567729c2143a66d737...   \n",
              "2  document_parses/pdf_json/06ced00a5fc04215949aa...   \n",
              "3  document_parses/pdf_json/348055649b6b8cf2b9a37...   \n",
              "4  document_parses/pdf_json/5f48792a5fa08bed9f560...   \n",
              "\n",
              "                               pmc_json_files  \\\n",
              "0  document_parses/pmc_json/PMC35282.xml.json   \n",
              "1  document_parses/pmc_json/PMC59543.xml.json   \n",
              "2  document_parses/pmc_json/PMC59549.xml.json   \n",
              "3  document_parses/pmc_json/PMC59574.xml.json   \n",
              "4  document_parses/pmc_json/PMC59580.xml.json   \n",
              "\n",
              "                                                 url s2_id  \n",
              "0  https://www.ncbi.nlm.nih.gov/pmc/articles/PMC3...   NaN  \n",
              "1  https://www.ncbi.nlm.nih.gov/pmc/articles/PMC5...   NaN  \n",
              "2  https://www.ncbi.nlm.nih.gov/pmc/articles/PMC5...   NaN  \n",
              "3  https://www.ncbi.nlm.nih.gov/pmc/articles/PMC5...   NaN  \n",
              "4  https://www.ncbi.nlm.nih.gov/pmc/articles/PMC5...   NaN  "
            ]
          },
          "metadata": {
            "tags": []
          },
          "execution_count": 2
        }
      ]
    },
    {
      "cell_type": "code",
      "metadata": {
        "id": "fP-9wibclzZB",
        "outputId": "dd5ee69f-8b23-48a6-f2d7-e45e65129f68"
      },
      "source": [
        "all_json = glob.glob('C:/Users/sushb/Downloads/551982_1490480_bundle_archive/document_parses/pdf_json/**/*.json', recursive=True)\n",
        "len(all_json)"
      ],
      "execution_count": null,
      "outputs": [
        {
          "output_type": "execute_result",
          "data": {
            "text/plain": [
              "104152"
            ]
          },
          "metadata": {
            "tags": []
          },
          "execution_count": 3
        }
      ]
    },
    {
      "cell_type": "code",
      "metadata": {
        "id": "DcAFU1yflzZD",
        "outputId": "b803759d-63bf-46fd-c9d5-1b425f1c14b6"
      },
      "source": [
        "class FileReader:\n",
        "    def __init__(self, file_path):\n",
        "        with open(file_path) as file:\n",
        "            content = json.load(file)\n",
        "            self.paper_id = content['paper_id']\n",
        "            self.abstract = []\n",
        "            self.body_text = []\n",
        "            # Abstract\n",
        "            for entry in content['abstract']:\n",
        "                self.abstract.append(entry['text'])\n",
        "            # Body text\n",
        "            for entry in content['body_text']:\n",
        "                self.body_text.append(entry['text'])\n",
        "            self.abstract = '\\n'.join(self.abstract)\n",
        "            self.body_text = '\\n'.join(self.body_text)\n",
        "    def __repr__(self):\n",
        "        return f'{self.paper_id}: {self.abstract[:200]}... {self.body_text[:200]}...'\n",
        "first_row = FileReader(all_json[0])\n",
        "print(first_row)"
      ],
      "execution_count": null,
      "outputs": [
        {
          "output_type": "stream",
          "text": [
            "0000028b5cc154f68b8a269f6578f21e31f62977: ... According to current live statistics at the time of editing this letter, Russia has been the third country in the world to be affected by COVID-19 with both new cases and death rates rising. It remain...\n"
          ],
          "name": "stdout"
        }
      ]
    },
    {
      "cell_type": "code",
      "metadata": {
        "id": "m-VA39XUlzZF"
      },
      "source": [
        "def get_breaks(content, length):\n",
        "    data = \"\"\n",
        "    words = content.split(' ')\n",
        "    total_chars = 0\n",
        "\n",
        "    # add break every length characters\n",
        "    for i in range(len(words)):\n",
        "        total_chars += len(words[i])\n",
        "        if total_chars > length:\n",
        "            data = data + \"<br>\" + words[i]\n",
        "            total_chars = 0\n",
        "        else:\n",
        "            data = data + \" \" + words[i]\n",
        "    return data"
      ],
      "execution_count": null,
      "outputs": []
    },
    {
      "cell_type": "code",
      "metadata": {
        "id": "RckF0qkclzZI",
        "outputId": "a6942f8a-1f63-4509-86fa-77208b2c4ead"
      },
      "source": [
        "# Loading the data into DataFrame\n",
        "dict_ = {'paper_id': [], 'doi':[], 'abstract': [], 'body_text': [], 'authors': [], 'title': [], 'journal': [], 'abstract_summary': []}\n",
        "for idx, entry in enumerate(all_json):\n",
        "    if idx % (len(all_json) // 10) == 0:\n",
        "        print(f'Processing index: {idx} of {len(all_json)}')\n",
        "    \n",
        "    try:\n",
        "        content = FileReader(entry)\n",
        "    except Exception as e:\n",
        "        continue  # invalid paper format, skip\n",
        "    \n",
        "    # get metadata information\n",
        "    meta_data = meta_df.loc[meta_df['sha'] == content.paper_id]\n",
        "    # no metadata, skip this paper\n",
        "    if len(meta_data) == 0:\n",
        "        continue\n",
        "    \n",
        "    dict_['abstract'].append(content.abstract)\n",
        "    dict_['paper_id'].append(content.paper_id)\n",
        "    dict_['body_text'].append(content.body_text)\n",
        "    \n",
        "    # also create a column for the summary of abstract to be used in a plot\n",
        "    if len(content.abstract) == 0: \n",
        "        # no abstract provided\n",
        "        dict_['abstract_summary'].append(\"Not provided.\")\n",
        "    elif len(content.abstract.split(' ')) > 100:\n",
        "        # abstract provided is too long for plot, take first 100 words append with ...\n",
        "        info = content.abstract.split(' ')[:100]\n",
        "        summary = get_breaks(' '.join(info), 40)\n",
        "        dict_['abstract_summary'].append(summary + \"...\")\n",
        "    else:\n",
        "        # abstract is short enough\n",
        "        summary = get_breaks(content.abstract, 40)\n",
        "        dict_['abstract_summary'].append(summary)\n",
        "        \n",
        "    # get metadata information\n",
        "    meta_data = meta_df.loc[meta_df['sha'] == content.paper_id]\n",
        "    \n",
        "    try:\n",
        "        # if more than one author\n",
        "        authors = meta_data['authors'].values[0].split(';')\n",
        "        if len(authors) > 2:\n",
        "            # if more than 2 authors, take them all with html tag breaks in between\n",
        "            dict_['authors'].append(get_breaks('. '.join(authors), 40))\n",
        "        else:\n",
        "            # authors will fit in plot\n",
        "            dict_['authors'].append(\". \".join(authors))\n",
        "    except Exception as e:\n",
        "        # if only one author - or Null valie\n",
        "        dict_['authors'].append(meta_data['authors'].values[0])\n",
        "    \n",
        "    # add the title information, add breaks when needed\n",
        "    try:\n",
        "        title = get_breaks(meta_data['title'].values[0], 40)\n",
        "        dict_['title'].append(title)\n",
        "    # if title was not provided\n",
        "    except Exception as e:\n",
        "        dict_['title'].append(meta_data['title'].values[0])\n",
        "    \n",
        "    # add the journal information\n",
        "    dict_['journal'].append(meta_data['journal'].values[0])\n",
        "    \n",
        "    # add doi\n",
        "    dict_['doi'].append(meta_data['doi'].values[0])\n",
        "    \n",
        "df_covid = pd.DataFrame(dict_, columns=['paper_id', 'doi', 'abstract', 'body_text', 'authors', 'title', 'journal', 'abstract_summary'])\n",
        "df_covid.head()"
      ],
      "execution_count": null,
      "outputs": [
        {
          "output_type": "stream",
          "text": [
            "Processing index: 0 of 104152\n",
            "Processing index: 10415 of 104152\n",
            "Processing index: 20830 of 104152\n",
            "Processing index: 31245 of 104152\n",
            "Processing index: 41660 of 104152\n",
            "Processing index: 52075 of 104152\n",
            "Processing index: 62490 of 104152\n",
            "Processing index: 72905 of 104152\n",
            "Processing index: 83320 of 104152\n",
            "Processing index: 93735 of 104152\n",
            "Processing index: 104150 of 104152\n"
          ],
          "name": "stdout"
        },
        {
          "output_type": "execute_result",
          "data": {
            "text/html": [
              "<div>\n",
              "<style scoped>\n",
              "    .dataframe tbody tr th:only-of-type {\n",
              "        vertical-align: middle;\n",
              "    }\n",
              "\n",
              "    .dataframe tbody tr th {\n",
              "        vertical-align: top;\n",
              "    }\n",
              "\n",
              "    .dataframe thead th {\n",
              "        text-align: right;\n",
              "    }\n",
              "</style>\n",
              "<table border=\"1\" class=\"dataframe\">\n",
              "  <thead>\n",
              "    <tr style=\"text-align: right;\">\n",
              "      <th></th>\n",
              "      <th>paper_id</th>\n",
              "      <th>doi</th>\n",
              "      <th>abstract</th>\n",
              "      <th>body_text</th>\n",
              "      <th>authors</th>\n",
              "      <th>title</th>\n",
              "      <th>journal</th>\n",
              "      <th>abstract_summary</th>\n",
              "    </tr>\n",
              "  </thead>\n",
              "  <tbody>\n",
              "    <tr>\n",
              "      <th>0</th>\n",
              "      <td>0001418189999fea7f7cbe3e82703d71c85a6fe5</td>\n",
              "      <td>10.1016/j.vetmic.2006.11.026</td>\n",
              "      <td>Feline infectious peritonitis virus (FIPV) pos...</td>\n",
              "      <td>Feline infectious peritonitis (FIP) is a fatal...</td>\n",
              "      <td>Cornelissen, E..  Dewerchin, H. L..  Van Hamm...</td>\n",
              "      <td>Absence of surface expression of feline&lt;br&gt;in...</td>\n",
              "      <td>Veterinary Microbiology</td>\n",
              "      <td>Feline infectious peritonitis virus (FIPV)&lt;br...</td>\n",
              "    </tr>\n",
              "    <tr>\n",
              "      <th>1</th>\n",
              "      <td>0003793cf9e709bc2b9d0c8111186f78fb73fc04</td>\n",
              "      <td>10.1016/j.msard.2020.102139</td>\n",
              "      <td></td>\n",
              "      <td>How do we protect our 'high-risk' patient popu...</td>\n",
              "      <td>Vishnevetsky, Anastasia.  Levy, Michael</td>\n",
              "      <td>Rethinking high-risk groups in COVID-19</td>\n",
              "      <td>Mult Scler Relat Disord</td>\n",
              "      <td>Not provided.</td>\n",
              "    </tr>\n",
              "    <tr>\n",
              "      <th>2</th>\n",
              "      <td>00039b94e6cb7609ecbddee1755314bcfeb77faa</td>\n",
              "      <td>10.1111/j.1365-2249.2004.02415.x</td>\n",
              "      <td>Severe acute respiratory syndrome (SARS) is a ...</td>\n",
              "      <td>Severe acute respiratory syndrome (SARS) is a ...</td>\n",
              "      <td>WONG, C K.  LAM, C W K.  WU, A K L.  IP, W K....</td>\n",
              "      <td>Plasma inflammatory cytokines and chemokines&lt;...</td>\n",
              "      <td>Clinical &amp; Experimental Immunology</td>\n",
              "      <td>Severe acute respiratory syndrome (SARS) is a...</td>\n",
              "    </tr>\n",
              "    <tr>\n",
              "      <th>3</th>\n",
              "      <td>0003ddc51c4291d742855e9ac56076a3bea33ad7</td>\n",
              "      <td>10.1016/j.bbi.2020.06.003</td>\n",
              "      <td></td>\n",
              "      <td>It is said that crisis reveals character. The ...</td>\n",
              "      <td>Ajilore, Olusola.  Thames, April D.</td>\n",
              "      <td>The Fire This Time: The Stress of Racism,&lt;br&gt;...</td>\n",
              "      <td>Brain Behav Immun</td>\n",
              "      <td>Not provided.</td>\n",
              "    </tr>\n",
              "    <tr>\n",
              "      <th>4</th>\n",
              "      <td>0004456994f6c1d5db7327990386d33c01cff32a</td>\n",
              "      <td>10.1186/1471-2334-10-8</td>\n",
              "      <td>Background: Influenza immunisation for healthc...</td>\n",
              "      <td>The German standing commission for immunisatio...</td>\n",
              "      <td>Williams, Chris J.  Schweiger, Brunhilde. &lt;br...</td>\n",
              "      <td>Seasonal influenza risk in hospital&lt;br&gt;health...</td>\n",
              "      <td>BMC Infect Dis</td>\n",
              "      <td>Background: Influenza immunisation for&lt;br&gt;hea...</td>\n",
              "    </tr>\n",
              "  </tbody>\n",
              "</table>\n",
              "</div>"
            ],
            "text/plain": [
              "                                   paper_id                               doi  \\\n",
              "0  0001418189999fea7f7cbe3e82703d71c85a6fe5      10.1016/j.vetmic.2006.11.026   \n",
              "1  0003793cf9e709bc2b9d0c8111186f78fb73fc04       10.1016/j.msard.2020.102139   \n",
              "2  00039b94e6cb7609ecbddee1755314bcfeb77faa  10.1111/j.1365-2249.2004.02415.x   \n",
              "3  0003ddc51c4291d742855e9ac56076a3bea33ad7         10.1016/j.bbi.2020.06.003   \n",
              "4  0004456994f6c1d5db7327990386d33c01cff32a            10.1186/1471-2334-10-8   \n",
              "\n",
              "                                            abstract  \\\n",
              "0  Feline infectious peritonitis virus (FIPV) pos...   \n",
              "1                                                      \n",
              "2  Severe acute respiratory syndrome (SARS) is a ...   \n",
              "3                                                      \n",
              "4  Background: Influenza immunisation for healthc...   \n",
              "\n",
              "                                           body_text  \\\n",
              "0  Feline infectious peritonitis (FIP) is a fatal...   \n",
              "1  How do we protect our 'high-risk' patient popu...   \n",
              "2  Severe acute respiratory syndrome (SARS) is a ...   \n",
              "3  It is said that crisis reveals character. The ...   \n",
              "4  The German standing commission for immunisatio...   \n",
              "\n",
              "                                             authors  \\\n",
              "0   Cornelissen, E..  Dewerchin, H. L..  Van Hamm...   \n",
              "1            Vishnevetsky, Anastasia.  Levy, Michael   \n",
              "2   WONG, C K.  LAM, C W K.  WU, A K L.  IP, W K....   \n",
              "3                Ajilore, Olusola.  Thames, April D.   \n",
              "4   Williams, Chris J.  Schweiger, Brunhilde. <br...   \n",
              "\n",
              "                                               title  \\\n",
              "0   Absence of surface expression of feline<br>in...   \n",
              "1            Rethinking high-risk groups in COVID-19   \n",
              "2   Plasma inflammatory cytokines and chemokines<...   \n",
              "3   The Fire This Time: The Stress of Racism,<br>...   \n",
              "4   Seasonal influenza risk in hospital<br>health...   \n",
              "\n",
              "                              journal  \\\n",
              "0             Veterinary Microbiology   \n",
              "1             Mult Scler Relat Disord   \n",
              "2  Clinical & Experimental Immunology   \n",
              "3                   Brain Behav Immun   \n",
              "4                      BMC Infect Dis   \n",
              "\n",
              "                                    abstract_summary  \n",
              "0   Feline infectious peritonitis virus (FIPV)<br...  \n",
              "1                                      Not provided.  \n",
              "2   Severe acute respiratory syndrome (SARS) is a...  \n",
              "3                                      Not provided.  \n",
              "4   Background: Influenza immunisation for<br>hea...  "
            ]
          },
          "metadata": {
            "tags": []
          },
          "execution_count": 6
        }
      ]
    },
    {
      "cell_type": "markdown",
      "metadata": {
        "id": "BRqJt4OPBXY6"
      },
      "source": [
        "# Feature Engineering"
      ]
    },
    {
      "cell_type": "code",
      "metadata": {
        "id": "Rnfw6F77lzZK",
        "outputId": "2b404fef-a7be-4832-8ed7-ea800538e3ba"
      },
      "source": [
        "\n",
        "df_covid['abstract_word_count'] = df_covid['abstract'].apply(lambda x: len(x.strip().split()))  # word count in abstract\n",
        "df_covid['body_word_count'] = df_covid['body_text'].apply(lambda x: len(x.strip().split()))  # word count in body\n",
        "df_covid['body_unique_words']=df_covid['body_text'].apply(lambda x:len(set(str(x).split())))  # number of unique words in body\n",
        "df_covid.head()"
      ],
      "execution_count": null,
      "outputs": [
        {
          "output_type": "execute_result",
          "data": {
            "text/html": [
              "<div>\n",
              "<style scoped>\n",
              "    .dataframe tbody tr th:only-of-type {\n",
              "        vertical-align: middle;\n",
              "    }\n",
              "\n",
              "    .dataframe tbody tr th {\n",
              "        vertical-align: top;\n",
              "    }\n",
              "\n",
              "    .dataframe thead th {\n",
              "        text-align: right;\n",
              "    }\n",
              "</style>\n",
              "<table border=\"1\" class=\"dataframe\">\n",
              "  <thead>\n",
              "    <tr style=\"text-align: right;\">\n",
              "      <th></th>\n",
              "      <th>paper_id</th>\n",
              "      <th>doi</th>\n",
              "      <th>abstract</th>\n",
              "      <th>body_text</th>\n",
              "      <th>authors</th>\n",
              "      <th>title</th>\n",
              "      <th>journal</th>\n",
              "      <th>abstract_summary</th>\n",
              "      <th>abstract_word_count</th>\n",
              "      <th>body_word_count</th>\n",
              "      <th>body_unique_words</th>\n",
              "    </tr>\n",
              "  </thead>\n",
              "  <tbody>\n",
              "    <tr>\n",
              "      <th>0</th>\n",
              "      <td>0001418189999fea7f7cbe3e82703d71c85a6fe5</td>\n",
              "      <td>10.1016/j.vetmic.2006.11.026</td>\n",
              "      <td>Feline infectious peritonitis virus (FIPV) pos...</td>\n",
              "      <td>Feline infectious peritonitis (FIP) is a fatal...</td>\n",
              "      <td>Cornelissen, E..  Dewerchin, H. L..  Van Hamm...</td>\n",
              "      <td>Absence of surface expression of feline&lt;br&gt;in...</td>\n",
              "      <td>Veterinary Microbiology</td>\n",
              "      <td>Feline infectious peritonitis virus (FIPV)&lt;br...</td>\n",
              "      <td>165</td>\n",
              "      <td>2071</td>\n",
              "      <td>756</td>\n",
              "    </tr>\n",
              "    <tr>\n",
              "      <th>1</th>\n",
              "      <td>0003793cf9e709bc2b9d0c8111186f78fb73fc04</td>\n",
              "      <td>10.1016/j.msard.2020.102139</td>\n",
              "      <td></td>\n",
              "      <td>How do we protect our 'high-risk' patient popu...</td>\n",
              "      <td>Vishnevetsky, Anastasia.  Levy, Michael</td>\n",
              "      <td>Rethinking high-risk groups in COVID-19</td>\n",
              "      <td>Mult Scler Relat Disord</td>\n",
              "      <td>Not provided.</td>\n",
              "      <td>0</td>\n",
              "      <td>943</td>\n",
              "      <td>486</td>\n",
              "    </tr>\n",
              "    <tr>\n",
              "      <th>2</th>\n",
              "      <td>00039b94e6cb7609ecbddee1755314bcfeb77faa</td>\n",
              "      <td>10.1111/j.1365-2249.2004.02415.x</td>\n",
              "      <td>Severe acute respiratory syndrome (SARS) is a ...</td>\n",
              "      <td>Severe acute respiratory syndrome (SARS) is a ...</td>\n",
              "      <td>WONG, C K.  LAM, C W K.  WU, A K L.  IP, W K....</td>\n",
              "      <td>Plasma inflammatory cytokines and chemokines&lt;...</td>\n",
              "      <td>Clinical &amp; Experimental Immunology</td>\n",
              "      <td>Severe acute respiratory syndrome (SARS) is a...</td>\n",
              "      <td>179</td>\n",
              "      <td>2822</td>\n",
              "      <td>1103</td>\n",
              "    </tr>\n",
              "    <tr>\n",
              "      <th>3</th>\n",
              "      <td>0003ddc51c4291d742855e9ac56076a3bea33ad7</td>\n",
              "      <td>10.1016/j.bbi.2020.06.003</td>\n",
              "      <td></td>\n",
              "      <td>It is said that crisis reveals character. The ...</td>\n",
              "      <td>Ajilore, Olusola.  Thames, April D.</td>\n",
              "      <td>The Fire This Time: The Stress of Racism,&lt;br&gt;...</td>\n",
              "      <td>Brain Behav Immun</td>\n",
              "      <td>Not provided.</td>\n",
              "      <td>0</td>\n",
              "      <td>986</td>\n",
              "      <td>491</td>\n",
              "    </tr>\n",
              "    <tr>\n",
              "      <th>4</th>\n",
              "      <td>0004456994f6c1d5db7327990386d33c01cff32a</td>\n",
              "      <td>10.1186/1471-2334-10-8</td>\n",
              "      <td>Background: Influenza immunisation for healthc...</td>\n",
              "      <td>The German standing commission for immunisatio...</td>\n",
              "      <td>Williams, Chris J.  Schweiger, Brunhilde. &lt;br...</td>\n",
              "      <td>Seasonal influenza risk in hospital&lt;br&gt;health...</td>\n",
              "      <td>BMC Infect Dis</td>\n",
              "      <td>Background: Influenza immunisation for&lt;br&gt;hea...</td>\n",
              "      <td>365</td>\n",
              "      <td>4414</td>\n",
              "      <td>1396</td>\n",
              "    </tr>\n",
              "  </tbody>\n",
              "</table>\n",
              "</div>"
            ],
            "text/plain": [
              "                                   paper_id                               doi  \\\n",
              "0  0001418189999fea7f7cbe3e82703d71c85a6fe5      10.1016/j.vetmic.2006.11.026   \n",
              "1  0003793cf9e709bc2b9d0c8111186f78fb73fc04       10.1016/j.msard.2020.102139   \n",
              "2  00039b94e6cb7609ecbddee1755314bcfeb77faa  10.1111/j.1365-2249.2004.02415.x   \n",
              "3  0003ddc51c4291d742855e9ac56076a3bea33ad7         10.1016/j.bbi.2020.06.003   \n",
              "4  0004456994f6c1d5db7327990386d33c01cff32a            10.1186/1471-2334-10-8   \n",
              "\n",
              "                                            abstract  \\\n",
              "0  Feline infectious peritonitis virus (FIPV) pos...   \n",
              "1                                                      \n",
              "2  Severe acute respiratory syndrome (SARS) is a ...   \n",
              "3                                                      \n",
              "4  Background: Influenza immunisation for healthc...   \n",
              "\n",
              "                                           body_text  \\\n",
              "0  Feline infectious peritonitis (FIP) is a fatal...   \n",
              "1  How do we protect our 'high-risk' patient popu...   \n",
              "2  Severe acute respiratory syndrome (SARS) is a ...   \n",
              "3  It is said that crisis reveals character. The ...   \n",
              "4  The German standing commission for immunisatio...   \n",
              "\n",
              "                                             authors  \\\n",
              "0   Cornelissen, E..  Dewerchin, H. L..  Van Hamm...   \n",
              "1            Vishnevetsky, Anastasia.  Levy, Michael   \n",
              "2   WONG, C K.  LAM, C W K.  WU, A K L.  IP, W K....   \n",
              "3                Ajilore, Olusola.  Thames, April D.   \n",
              "4   Williams, Chris J.  Schweiger, Brunhilde. <br...   \n",
              "\n",
              "                                               title  \\\n",
              "0   Absence of surface expression of feline<br>in...   \n",
              "1            Rethinking high-risk groups in COVID-19   \n",
              "2   Plasma inflammatory cytokines and chemokines<...   \n",
              "3   The Fire This Time: The Stress of Racism,<br>...   \n",
              "4   Seasonal influenza risk in hospital<br>health...   \n",
              "\n",
              "                              journal  \\\n",
              "0             Veterinary Microbiology   \n",
              "1             Mult Scler Relat Disord   \n",
              "2  Clinical & Experimental Immunology   \n",
              "3                   Brain Behav Immun   \n",
              "4                      BMC Infect Dis   \n",
              "\n",
              "                                    abstract_summary  abstract_word_count  \\\n",
              "0   Feline infectious peritonitis virus (FIPV)<br...                  165   \n",
              "1                                      Not provided.                    0   \n",
              "2   Severe acute respiratory syndrome (SARS) is a...                  179   \n",
              "3                                      Not provided.                    0   \n",
              "4   Background: Influenza immunisation for<br>hea...                  365   \n",
              "\n",
              "   body_word_count  body_unique_words  \n",
              "0             2071                756  \n",
              "1              943                486  \n",
              "2             2822               1103  \n",
              "3              986                491  \n",
              "4             4414               1396  "
            ]
          },
          "metadata": {
            "tags": []
          },
          "execution_count": 7
        }
      ]
    },
    {
      "cell_type": "code",
      "metadata": {
        "id": "sehZl97hlzZN",
        "outputId": "7ae904ec-f3f8-4da5-b86e-8edd48d79eae"
      },
      "source": [
        "# Handle Duplicates\n",
        "df_covid.drop_duplicates(['abstract', 'body_text'], inplace=True)\n",
        "df_covid['abstract'].describe(include='all')"
      ],
      "execution_count": null,
      "outputs": [
        {
          "output_type": "execute_result",
          "data": {
            "text/plain": [
              "count     64295\n",
              "unique    44321\n",
              "top            \n",
              "freq      19761\n",
              "Name: abstract, dtype: object"
            ]
          },
          "metadata": {
            "tags": []
          },
          "execution_count": 8
        }
      ]
    },
    {
      "cell_type": "code",
      "metadata": {
        "id": "qsvl5gUMlzZP",
        "outputId": "06f47a72-759e-4a1f-9c98-8873b31060e0"
      },
      "source": [
        "df_covid['body_text'].describe(include='all')"
      ],
      "execution_count": null,
      "outputs": [
        {
          "output_type": "execute_result",
          "data": {
            "text/plain": [
              "count                                                 64295\n",
              "unique                                                64290\n",
              "top       The use of indicator organisms for estuarine a...\n",
              "freq                                                      2\n",
              "Name: body_text, dtype: object"
            ]
          },
          "metadata": {
            "tags": []
          },
          "execution_count": 9
        }
      ]
    },
    {
      "cell_type": "code",
      "metadata": {
        "id": "_tPDUZznlzZS",
        "outputId": "0f1aac4e-eeb3-4198-fed2-9755a6605aa9"
      },
      "source": [
        "df_covid.describe()"
      ],
      "execution_count": null,
      "outputs": [
        {
          "output_type": "execute_result",
          "data": {
            "text/html": [
              "<div>\n",
              "<style scoped>\n",
              "    .dataframe tbody tr th:only-of-type {\n",
              "        vertical-align: middle;\n",
              "    }\n",
              "\n",
              "    .dataframe tbody tr th {\n",
              "        vertical-align: top;\n",
              "    }\n",
              "\n",
              "    .dataframe thead th {\n",
              "        text-align: right;\n",
              "    }\n",
              "</style>\n",
              "<table border=\"1\" class=\"dataframe\">\n",
              "  <thead>\n",
              "    <tr style=\"text-align: right;\">\n",
              "      <th></th>\n",
              "      <th>abstract_word_count</th>\n",
              "      <th>body_word_count</th>\n",
              "      <th>body_unique_words</th>\n",
              "    </tr>\n",
              "  </thead>\n",
              "  <tbody>\n",
              "    <tr>\n",
              "      <th>count</th>\n",
              "      <td>64295.000000</td>\n",
              "      <td>64295.000000</td>\n",
              "      <td>64295.000000</td>\n",
              "    </tr>\n",
              "    <tr>\n",
              "      <th>mean</th>\n",
              "      <td>152.494922</td>\n",
              "      <td>4322.245587</td>\n",
              "      <td>1301.890427</td>\n",
              "    </tr>\n",
              "    <tr>\n",
              "      <th>std</th>\n",
              "      <td>186.495962</td>\n",
              "      <td>9265.283219</td>\n",
              "      <td>1533.415708</td>\n",
              "    </tr>\n",
              "    <tr>\n",
              "      <th>min</th>\n",
              "      <td>0.000000</td>\n",
              "      <td>1.000000</td>\n",
              "      <td>1.000000</td>\n",
              "    </tr>\n",
              "    <tr>\n",
              "      <th>25%</th>\n",
              "      <td>0.000000</td>\n",
              "      <td>1640.000000</td>\n",
              "      <td>699.000000</td>\n",
              "    </tr>\n",
              "    <tr>\n",
              "      <th>50%</th>\n",
              "      <td>146.000000</td>\n",
              "      <td>3093.000000</td>\n",
              "      <td>1093.000000</td>\n",
              "    </tr>\n",
              "    <tr>\n",
              "      <th>75%</th>\n",
              "      <td>230.000000</td>\n",
              "      <td>4825.000000</td>\n",
              "      <td>1523.000000</td>\n",
              "    </tr>\n",
              "    <tr>\n",
              "      <th>max</th>\n",
              "      <td>7415.000000</td>\n",
              "      <td>279623.000000</td>\n",
              "      <td>38298.000000</td>\n",
              "    </tr>\n",
              "  </tbody>\n",
              "</table>\n",
              "</div>"
            ],
            "text/plain": [
              "       abstract_word_count  body_word_count  body_unique_words\n",
              "count         64295.000000     64295.000000       64295.000000\n",
              "mean            152.494922      4322.245587        1301.890427\n",
              "std             186.495962      9265.283219        1533.415708\n",
              "min               0.000000         1.000000           1.000000\n",
              "25%               0.000000      1640.000000         699.000000\n",
              "50%             146.000000      3093.000000        1093.000000\n",
              "75%             230.000000      4825.000000        1523.000000\n",
              "max            7415.000000    279623.000000       38298.000000"
            ]
          },
          "metadata": {
            "tags": []
          },
          "execution_count": 10
        }
      ]
    },
    {
      "cell_type": "code",
      "metadata": {
        "id": "BrwHXxXklzZU",
        "outputId": "6ea9df58-c7ec-40f9-93b7-8224b44387e6"
      },
      "source": [
        "# Data Pre-Processing\n",
        "df_covid.dropna(inplace=True)\n",
        "df_covid.info()"
      ],
      "execution_count": null,
      "outputs": [
        {
          "output_type": "stream",
          "text": [
            "<class 'pandas.core.frame.DataFrame'>\n",
            "Int64Index: 57497 entries, 0 to 64445\n",
            "Data columns (total 11 columns):\n",
            " #   Column               Non-Null Count  Dtype \n",
            "---  ------               --------------  ----- \n",
            " 0   paper_id             57497 non-null  object\n",
            " 1   doi                  57497 non-null  object\n",
            " 2   abstract             57497 non-null  object\n",
            " 3   body_text            57497 non-null  object\n",
            " 4   authors              57497 non-null  object\n",
            " 5   title                57497 non-null  object\n",
            " 6   journal              57497 non-null  object\n",
            " 7   abstract_summary     57497 non-null  object\n",
            " 8   abstract_word_count  57497 non-null  int64 \n",
            " 9   body_word_count      57497 non-null  int64 \n",
            " 10  body_unique_words    57497 non-null  int64 \n",
            "dtypes: int64(3), object(8)\n",
            "memory usage: 5.3+ MB\n"
          ],
          "name": "stdout"
        }
      ]
    },
    {
      "cell_type": "code",
      "metadata": {
        "id": "Gf3R6ykQlzZW",
        "outputId": "4fb050e4-ea29-4ce2-cb31-9ca7215a1cd3"
      },
      "source": [
        "# Handling Multiple Languages\n",
        "from tqdm import tqdm\n",
        "from langdetect import detect\n",
        "from langdetect import DetectorFactory\n",
        "\n",
        "# set seed\n",
        "DetectorFactory.seed = 0\n",
        "\n",
        "# hold label - language\n",
        "languages = []\n",
        "\n",
        "# go through each text\n",
        "for ii in tqdm(range(0,len(df_covid))):\n",
        "    # split by space into list, take the first x intex, join with space\n",
        "    text = df_covid.iloc[ii]['body_text'].split(\" \")\n",
        "    \n",
        "    lang = \"en\"\n",
        "    try:\n",
        "        if len(text) > 50:\n",
        "            lang = detect(\" \".join(text[:50]))\n",
        "        elif len(text) > 0:\n",
        "            lang = detect(\" \".join(text[:len(text)]))\n",
        "    # ught... beginning of the document was not in a good format\n",
        "    except Exception as e:\n",
        "        all_words = set(text)\n",
        "        try:\n",
        "            lang = detect(\" \".join(all_words))\n",
        "        # what!! :( let's see if we can find any text in abstract...\n",
        "        except Exception as e:\n",
        "            \n",
        "            try:\n",
        "                # let's try to label it through the abstract then\n",
        "                lang = detect(df.iloc[ii]['abstract_summary'])\n",
        "            except Exception as e:\n",
        "                lang = \"unknown\"\n",
        "                pass\n",
        "    \n",
        "    # get the language    \n",
        "    languages.append(lang)"
      ],
      "execution_count": null,
      "outputs": [
        {
          "output_type": "stream",
          "text": [
            "100%|██████████| 57497/57497 [04:39<00:00, 205.60it/s]\n"
          ],
          "name": "stderr"
        }
      ]
    },
    {
      "cell_type": "code",
      "metadata": {
        "id": "NA8oTDkzlzZY",
        "outputId": "a6efaa95-8d7e-490f-d8b6-d8c59749406f"
      },
      "source": [
        "# All the languages that are found in the dataset\n",
        "from pprint import pprint\n",
        "\n",
        "languages_dict = {}\n",
        "for lang in set(languages):\n",
        "    languages_dict[lang] = languages.count(lang)\n",
        "    \n",
        "print(\"Total: {}\\n\".format(len(languages)))\n",
        "pprint(languages_dict)"
      ],
      "execution_count": null,
      "outputs": [
        {
          "output_type": "stream",
          "text": [
            "Total: 57497\n",
            "\n",
            "{'af': 2,\n",
            " 'ca': 2,\n",
            " 'cy': 4,\n",
            " 'de': 722,\n",
            " 'en': 55710,\n",
            " 'es': 490,\n",
            " 'fr': 401,\n",
            " 'id': 2,\n",
            " 'it': 38,\n",
            " 'nl': 95,\n",
            " 'pl': 1,\n",
            " 'pt': 22,\n",
            " 'ro': 1,\n",
            " 'sq': 1,\n",
            " 'sv': 1,\n",
            " 'unknown': 2,\n",
            " 'zh-cn': 3}\n"
          ],
          "name": "stdout"
        }
      ]
    },
    {
      "cell_type": "code",
      "metadata": {
        "id": "IC5J7gUzlzZa",
        "outputId": "fa72fd50-9421-4af4-d4e6-731cfda52a21"
      },
      "source": [
        "# A Look at the language distribution\n",
        "df_covid['language'] = languages\n",
        "plt.bar(range(len(languages_dict)), list(languages_dict.values()), align='center')\n",
        "plt.xticks(range(len(languages_dict)), list(languages_dict.keys()))\n",
        "plt.title(\"Distribution of Languages in Dataset\")\n",
        "plt.show()"
      ],
      "execution_count": null,
      "outputs": [
        {
          "output_type": "display_data",
          "data": {
            "image/png": "[encoded data removed]",
            "text/plain": [
              "<Figure size 432x288 with 1 Axes>"
            ]
          },
          "metadata": {
            "tags": [],
            "needs_background": "light"
          }
        }
      ]
    },
    {
      "cell_type": "code",
      "metadata": {
        "id": "cLAXu5KUlzZc",
        "outputId": "84d4f2be-4bf0-4a48-8c7d-091ad48be56d"
      },
      "source": [
        "# Will be dropping any language that is not english\n",
        "df_covid = df_covid[df_covid['language'] == 'en'] \n",
        "df_covid.info()"
      ],
      "execution_count": null,
      "outputs": [
        {
          "output_type": "stream",
          "text": [
            "<class 'pandas.core.frame.DataFrame'>\n",
            "Int64Index: 55710 entries, 0 to 64445\n",
            "Data columns (total 12 columns):\n",
            " #   Column               Non-Null Count  Dtype \n",
            "---  ------               --------------  ----- \n",
            " 0   paper_id             55710 non-null  object\n",
            " 1   doi                  55710 non-null  object\n",
            " 2   abstract             55710 non-null  object\n",
            " 3   body_text            55710 non-null  object\n",
            " 4   authors              55710 non-null  object\n",
            " 5   title                55710 non-null  object\n",
            " 6   journal              55710 non-null  object\n",
            " 7   abstract_summary     55710 non-null  object\n",
            " 8   abstract_word_count  55710 non-null  int64 \n",
            " 9   body_word_count      55710 non-null  int64 \n",
            " 10  body_unique_words    55710 non-null  int64 \n",
            " 11  language             55710 non-null  object\n",
            "dtypes: int64(3), object(9)\n",
            "memory usage: 5.5+ MB\n"
          ],
          "name": "stdout"
        }
      ]
    },
    {
      "cell_type": "code",
      "metadata": {
        "id": "kp_okhFblzZe"
      },
      "source": [
        "# Saved the cleaned dataset\r\n",
        "df_covid.to_csv('df_covid.csv')"
      ],
      "execution_count": null,
      "outputs": []
    },
    {
      "cell_type": "markdown",
      "metadata": {
        "id": "LTPsSLnJRi7a"
      },
      "source": [
        "# Preparation of the data for the application of BERT Model"
      ]
    },
    {
      "cell_type": "code",
      "metadata": {
        "id": "4qs58in1SfMo"
      },
      "source": [
        "import pandas as pd\r\n",
        "df_covid = pd.read_csv('/content/drive/My Drive/data/df_covid.csv')"
      ],
      "execution_count": null,
      "outputs": []
    },
    {
      "cell_type": "code",
      "metadata": {
        "id": "TrzncKBVSl6V"
      },
      "source": [
        "df_covid = df_covid.dropna(how = 'any',axis=0)"
      ],
      "execution_count": null,
      "outputs": []
    },
    {
      "cell_type": "code",
      "metadata": {
        "id": "krBX0nOHSqez",
        "colab": {
          "base_uri": "https://localhost:8080/",
          "height": 453
        },
        "outputId": "8b54c736-671d-416b-d627-228b254f9950"
      },
      "source": [
        "df_covid.isnull()"
      ],
      "execution_count": null,
      "outputs": [
        {
          "output_type": "execute_result",
          "data": {
            "text/html": [
              "<div>\n",
              "<style scoped>\n",
              "    .dataframe tbody tr th:only-of-type {\n",
              "        vertical-align: middle;\n",
              "    }\n",
              "\n",
              "    .dataframe tbody tr th {\n",
              "        vertical-align: top;\n",
              "    }\n",
              "\n",
              "    .dataframe thead th {\n",
              "        text-align: right;\n",
              "    }\n",
              "</style>\n",
              "<table border=\"1\" class=\"dataframe\">\n",
              "  <thead>\n",
              "    <tr style=\"text-align: right;\">\n",
              "      <th></th>\n",
              "      <th>Unnamed: 0</th>\n",
              "      <th>paper_id</th>\n",
              "      <th>doi</th>\n",
              "      <th>abstract</th>\n",
              "      <th>body_text</th>\n",
              "      <th>authors</th>\n",
              "      <th>title</th>\n",
              "      <th>journal</th>\n",
              "      <th>abstract_summary</th>\n",
              "      <th>abstract_word_count</th>\n",
              "      <th>body_word_count</th>\n",
              "      <th>body_unique_words</th>\n",
              "      <th>language</th>\n",
              "    </tr>\n",
              "  </thead>\n",
              "  <tbody>\n",
              "    <tr>\n",
              "      <th>0</th>\n",
              "      <td>False</td>\n",
              "      <td>False</td>\n",
              "      <td>False</td>\n",
              "      <td>False</td>\n",
              "      <td>False</td>\n",
              "      <td>False</td>\n",
              "      <td>False</td>\n",
              "      <td>False</td>\n",
              "      <td>False</td>\n",
              "      <td>False</td>\n",
              "      <td>False</td>\n",
              "      <td>False</td>\n",
              "      <td>False</td>\n",
              "    </tr>\n",
              "    <tr>\n",
              "      <th>2</th>\n",
              "      <td>False</td>\n",
              "      <td>False</td>\n",
              "      <td>False</td>\n",
              "      <td>False</td>\n",
              "      <td>False</td>\n",
              "      <td>False</td>\n",
              "      <td>False</td>\n",
              "      <td>False</td>\n",
              "      <td>False</td>\n",
              "      <td>False</td>\n",
              "      <td>False</td>\n",
              "      <td>False</td>\n",
              "      <td>False</td>\n",
              "    </tr>\n",
              "    <tr>\n",
              "      <th>4</th>\n",
              "      <td>False</td>\n",
              "      <td>False</td>\n",
              "      <td>False</td>\n",
              "      <td>False</td>\n",
              "      <td>False</td>\n",
              "      <td>False</td>\n",
              "      <td>False</td>\n",
              "      <td>False</td>\n",
              "      <td>False</td>\n",
              "      <td>False</td>\n",
              "      <td>False</td>\n",
              "      <td>False</td>\n",
              "      <td>False</td>\n",
              "    </tr>\n",
              "    <tr>\n",
              "      <th>7</th>\n",
              "      <td>False</td>\n",
              "      <td>False</td>\n",
              "      <td>False</td>\n",
              "      <td>False</td>\n",
              "      <td>False</td>\n",
              "      <td>False</td>\n",
              "      <td>False</td>\n",
              "      <td>False</td>\n",
              "      <td>False</td>\n",
              "      <td>False</td>\n",
              "      <td>False</td>\n",
              "      <td>False</td>\n",
              "      <td>False</td>\n",
              "    </tr>\n",
              "    <tr>\n",
              "      <th>9</th>\n",
              "      <td>False</td>\n",
              "      <td>False</td>\n",
              "      <td>False</td>\n",
              "      <td>False</td>\n",
              "      <td>False</td>\n",
              "      <td>False</td>\n",
              "      <td>False</td>\n",
              "      <td>False</td>\n",
              "      <td>False</td>\n",
              "      <td>False</td>\n",
              "      <td>False</td>\n",
              "      <td>False</td>\n",
              "      <td>False</td>\n",
              "    </tr>\n",
              "    <tr>\n",
              "      <th>...</th>\n",
              "      <td>...</td>\n",
              "      <td>...</td>\n",
              "      <td>...</td>\n",
              "      <td>...</td>\n",
              "      <td>...</td>\n",
              "      <td>...</td>\n",
              "      <td>...</td>\n",
              "      <td>...</td>\n",
              "      <td>...</td>\n",
              "      <td>...</td>\n",
              "      <td>...</td>\n",
              "      <td>...</td>\n",
              "      <td>...</td>\n",
              "    </tr>\n",
              "    <tr>\n",
              "      <th>55702</th>\n",
              "      <td>False</td>\n",
              "      <td>False</td>\n",
              "      <td>False</td>\n",
              "      <td>False</td>\n",
              "      <td>False</td>\n",
              "      <td>False</td>\n",
              "      <td>False</td>\n",
              "      <td>False</td>\n",
              "      <td>False</td>\n",
              "      <td>False</td>\n",
              "      <td>False</td>\n",
              "      <td>False</td>\n",
              "      <td>False</td>\n",
              "    </tr>\n",
              "    <tr>\n",
              "      <th>55703</th>\n",
              "      <td>False</td>\n",
              "      <td>False</td>\n",
              "      <td>False</td>\n",
              "      <td>False</td>\n",
              "      <td>False</td>\n",
              "      <td>False</td>\n",
              "      <td>False</td>\n",
              "      <td>False</td>\n",
              "      <td>False</td>\n",
              "      <td>False</td>\n",
              "      <td>False</td>\n",
              "      <td>False</td>\n",
              "      <td>False</td>\n",
              "    </tr>\n",
              "    <tr>\n",
              "      <th>55707</th>\n",
              "      <td>False</td>\n",
              "      <td>False</td>\n",
              "      <td>False</td>\n",
              "      <td>False</td>\n",
              "      <td>False</td>\n",
              "      <td>False</td>\n",
              "      <td>False</td>\n",
              "      <td>False</td>\n",
              "      <td>False</td>\n",
              "      <td>False</td>\n",
              "      <td>False</td>\n",
              "      <td>False</td>\n",
              "      <td>False</td>\n",
              "    </tr>\n",
              "    <tr>\n",
              "      <th>55708</th>\n",
              "      <td>False</td>\n",
              "      <td>False</td>\n",
              "      <td>False</td>\n",
              "      <td>False</td>\n",
              "      <td>False</td>\n",
              "      <td>False</td>\n",
              "      <td>False</td>\n",
              "      <td>False</td>\n",
              "      <td>False</td>\n",
              "      <td>False</td>\n",
              "      <td>False</td>\n",
              "      <td>False</td>\n",
              "      <td>False</td>\n",
              "    </tr>\n",
              "    <tr>\n",
              "      <th>55709</th>\n",
              "      <td>False</td>\n",
              "      <td>False</td>\n",
              "      <td>False</td>\n",
              "      <td>False</td>\n",
              "      <td>False</td>\n",
              "      <td>False</td>\n",
              "      <td>False</td>\n",
              "      <td>False</td>\n",
              "      <td>False</td>\n",
              "      <td>False</td>\n",
              "      <td>False</td>\n",
              "      <td>False</td>\n",
              "      <td>False</td>\n",
              "    </tr>\n",
              "  </tbody>\n",
              "</table>\n",
              "<p>38367 rows × 13 columns</p>\n",
              "</div>"
            ],
            "text/plain": [
              "       Unnamed: 0  paper_id  ...  body_unique_words  language\n",
              "0           False     False  ...              False     False\n",
              "2           False     False  ...              False     False\n",
              "4           False     False  ...              False     False\n",
              "7           False     False  ...              False     False\n",
              "9           False     False  ...              False     False\n",
              "...           ...       ...  ...                ...       ...\n",
              "55702       False     False  ...              False     False\n",
              "55703       False     False  ...              False     False\n",
              "55707       False     False  ...              False     False\n",
              "55708       False     False  ...              False     False\n",
              "55709       False     False  ...              False     False\n",
              "\n",
              "[38367 rows x 13 columns]"
            ]
          },
          "metadata": {
            "tags": []
          },
          "execution_count": 5
        }
      ]
    },
    {
      "cell_type": "code",
      "metadata": {
        "id": "596QuVJbStS2"
      },
      "source": [
        "df_covid.to_csv('df_covid''.csv')"
      ],
      "execution_count": null,
      "outputs": []
    },
    {
      "cell_type": "code",
      "metadata": {
        "id": "t8vvpV4gSwwz"
      },
      "source": [
        "from IPython.utils import io\r\n",
        "with io.capture_output() as captured:\r\n",
        "    !pip install scispacy\r\n",
        "    !pip install '/content/drive/My Drive/data/archive/en_core_sci_md-0.2.4'"
      ],
      "execution_count": null,
      "outputs": []
    },
    {
      "cell_type": "code",
      "metadata": {
        "id": "b4pV16sSlzZi",
        "colab": {
          "base_uri": "https://localhost:8080/"
        },
        "outputId": "c4a2a861-f4eb-4bed-9c7d-ba64e70e8652"
      },
      "source": [
        "import numpy as np \n",
        "import pandas as pd\n",
        "import scispacy\n",
        "import spacy\n",
        "from spacy.lang.en import English\n",
        "from gensim.models import Word2Vec\n",
        "from tqdm import tqdm\n",
        "import en_core_sci_md\n",
        "import logging \n",
        "\n",
        "df = pd.read_csv('/content/df_covid.csv')\n",
        "\n",
        "df.abstract = df.abstract.dropna()\n",
        "df.abstract = df.abstract.astype(str)\n",
        "abstract_doc = ' '.join(df.abstract)\n",
        "\n",
        "nlp = English()\n",
        "nlp.add_pipe(nlp.create_pipe('sentencizer'))\n",
        "nlp.max_length = 90000000\n",
        "doc = nlp(abstract_doc)\n",
        "sentences = [sent.string.strip() for sent in doc.sents]\n",
        "\n",
        "nlp_tkn = en_core_sci_md.load()\n",
        "customize_stop_words = ['Abstract', 'article']\n",
        "for w in customize_stop_words:\n",
        "    nlp_tkn.vocab[w].is_stop = True\n",
        "\n",
        "abstract_tokens = []\n",
        "for sentence in tqdm(sentences):\n",
        "    sent = nlp_tkn(sentence)\n",
        "    token_list = [token.lemma_.lower() for token in sent if not token.is_punct | token.is_space | token.is_stop] \n",
        "    abstract_tokens.append(token_list)\n",
        "\n",
        "logging.basicConfig(format='%(asctime)s : %(levelname)s : %(message)s', level=logging.INFO)\n",
        "model = Word2Vec(abstract_tokens, \n",
        "                 min_count=5,   # Ignore words that appear less than this\n",
        "                 size=100,      # Dimensionality of word embeddings\n",
        "                 workers=4,     # Number of processors (parallelisation)\n",
        "                 window=10,     # Context window for words during training) \n",
        "                 iter=10)     \n",
        "\n",
        "model.save('word2vec.model')\n",
        "model = Word2Vec.load(\"word2vec.model\")\n",
        "model.wv.save_word2vec_format('abstract_word2vec_embeddings')\n",
        "model.most_similar(positive=['transmission'], topn = 10)"
      ],
      "execution_count": null,
      "outputs": [
        {
          "output_type": "stream",
          "text": [
            "/usr/local/lib/python3.6/dist-packages/spacy/util.py:275: UserWarning: [W031] Model 'en_core_sci_md' (0.2.4) requires spaCy v2.2 and is incompatible with the current spaCy version (2.3.5). This may lead to unexpected results or runtime errors. To resolve this, download a newer compatible model or retrain your custom model with the current spaCy version. For more details and available updates, run: python -m spacy validate\n",
            "  warnings.warn(warn_msg)\n",
            "100%|██████████| 415575/415575 [56:24<00:00, 122.79it/s]\n",
            "2020-12-31 17:56:30,425 : INFO : collecting all words and their counts\n",
            "2020-12-31 17:56:30,425 : INFO : PROGRESS: at sentence #0, processed 0 words, keeping 0 word types\n",
            "2020-12-31 17:56:30,455 : INFO : PROGRESS: at sentence #10000, processed 123870 words, keeping 17019 word types\n",
            "2020-12-31 17:56:30,486 : INFO : PROGRESS: at sentence #20000, processed 251929 words, keeping 26958 word types\n",
            "2020-12-31 17:56:30,516 : INFO : PROGRESS: at sentence #30000, processed 379332 words, keeping 34764 word types\n",
            "2020-12-31 17:56:30,547 : INFO : PROGRESS: at sentence #40000, processed 504348 words, keeping 41474 word types\n",
            "2020-12-31 17:56:30,578 : INFO : PROGRESS: at sentence #50000, processed 625769 words, keeping 47442 word types\n",
            "2020-12-31 17:56:30,609 : INFO : PROGRESS: at sentence #60000, processed 751968 words, keeping 53875 word types\n",
            "2020-12-31 17:56:30,638 : INFO : PROGRESS: at sentence #70000, processed 877466 words, keeping 59345 word types\n",
            "2020-12-31 17:56:30,670 : INFO : PROGRESS: at sentence #80000, processed 1004046 words, keeping 64919 word types\n",
            "2020-12-31 17:56:30,699 : INFO : PROGRESS: at sentence #90000, processed 1126718 words, keeping 69752 word types\n",
            "2020-12-31 17:56:30,730 : INFO : PROGRESS: at sentence #100000, processed 1251026 words, keeping 74346 word types\n",
            "2020-12-31 17:56:30,763 : INFO : PROGRESS: at sentence #110000, processed 1375669 words, keeping 79022 word types\n",
            "2020-12-31 17:56:30,791 : INFO : PROGRESS: at sentence #120000, processed 1497427 words, keeping 83633 word types\n",
            "2020-12-31 17:56:30,831 : INFO : PROGRESS: at sentence #130000, processed 1622812 words, keeping 88143 word types\n",
            "2020-12-31 17:56:30,860 : INFO : PROGRESS: at sentence #140000, processed 1749070 words, keeping 92636 word types\n",
            "2020-12-31 17:56:30,890 : INFO : PROGRESS: at sentence #150000, processed 1873013 words, keeping 96687 word types\n",
            "2020-12-31 17:56:30,921 : INFO : PROGRESS: at sentence #160000, processed 1993698 words, keeping 101005 word types\n",
            "2020-12-31 17:56:30,954 : INFO : PROGRESS: at sentence #170000, processed 2119002 words, keeping 105203 word types\n",
            "2020-12-31 17:56:30,984 : INFO : PROGRESS: at sentence #180000, processed 2243062 words, keeping 109197 word types\n",
            "2020-12-31 17:56:31,015 : INFO : PROGRESS: at sentence #190000, processed 2368866 words, keeping 113138 word types\n",
            "2020-12-31 17:56:31,046 : INFO : PROGRESS: at sentence #200000, processed 2490631 words, keeping 117141 word types\n",
            "2020-12-31 17:56:31,075 : INFO : PROGRESS: at sentence #210000, processed 2612642 words, keeping 121125 word types\n",
            "2020-12-31 17:56:31,110 : INFO : PROGRESS: at sentence #220000, processed 2738316 words, keeping 124762 word types\n",
            "2020-12-31 17:56:31,141 : INFO : PROGRESS: at sentence #230000, processed 2863678 words, keeping 128567 word types\n",
            "2020-12-31 17:56:31,171 : INFO : PROGRESS: at sentence #240000, processed 2983143 words, keeping 132583 word types\n",
            "2020-12-31 17:56:31,202 : INFO : PROGRESS: at sentence #250000, processed 3106498 words, keeping 136106 word types\n",
            "2020-12-31 17:56:31,234 : INFO : PROGRESS: at sentence #260000, processed 3231264 words, keeping 139901 word types\n",
            "2020-12-31 17:56:31,263 : INFO : PROGRESS: at sentence #270000, processed 3355511 words, keeping 143797 word types\n",
            "2020-12-31 17:56:31,295 : INFO : PROGRESS: at sentence #280000, processed 3480151 words, keeping 147067 word types\n",
            "2020-12-31 17:56:31,333 : INFO : PROGRESS: at sentence #290000, processed 3605034 words, keeping 150532 word types\n",
            "2020-12-31 17:56:31,365 : INFO : PROGRESS: at sentence #300000, processed 3727176 words, keeping 154193 word types\n",
            "2020-12-31 17:56:31,396 : INFO : PROGRESS: at sentence #310000, processed 3853945 words, keeping 157841 word types\n",
            "2020-12-31 17:56:31,427 : INFO : PROGRESS: at sentence #320000, processed 3978770 words, keeping 161666 word types\n",
            "2020-12-31 17:56:31,459 : INFO : PROGRESS: at sentence #330000, processed 4105689 words, keeping 164871 word types\n",
            "2020-12-31 17:56:31,490 : INFO : PROGRESS: at sentence #340000, processed 4227003 words, keeping 167805 word types\n",
            "2020-12-31 17:56:31,523 : INFO : PROGRESS: at sentence #350000, processed 4351392 words, keeping 171039 word types\n",
            "2020-12-31 17:56:31,554 : INFO : PROGRESS: at sentence #360000, processed 4477462 words, keeping 174444 word types\n",
            "2020-12-31 17:56:31,591 : INFO : PROGRESS: at sentence #370000, processed 4603242 words, keeping 177810 word types\n",
            "2020-12-31 17:56:31,621 : INFO : PROGRESS: at sentence #380000, processed 4723717 words, keeping 181056 word types\n",
            "2020-12-31 17:56:31,652 : INFO : PROGRESS: at sentence #390000, processed 4848603 words, keeping 184129 word types\n",
            "2020-12-31 17:56:31,683 : INFO : PROGRESS: at sentence #400000, processed 4973348 words, keeping 187315 word types\n",
            "2020-12-31 17:56:31,718 : INFO : PROGRESS: at sentence #410000, processed 5099634 words, keeping 190685 word types\n",
            "2020-12-31 17:56:31,736 : INFO : collected 192597 word types from a corpus of 5172289 raw words and 415575 sentences\n",
            "2020-12-31 17:56:31,737 : INFO : Loading a fresh vocabulary\n",
            "2020-12-31 17:56:31,853 : INFO : effective_min_count=5 retains 38463 unique words (19% of original 192597, drops 154134)\n",
            "2020-12-31 17:56:31,853 : INFO : effective_min_count=5 leaves 4947067 word corpus (95% of original 5172289, drops 225222)\n",
            "2020-12-31 17:56:31,963 : INFO : deleting the raw counts dictionary of 192597 items\n",
            "2020-12-31 17:56:31,971 : INFO : sample=0.001 downsamples 18 most-common words\n",
            "2020-12-31 17:56:31,972 : INFO : downsampling leaves estimated 4820801 word corpus (97.4% of prior 4947067)\n",
            "2020-12-31 17:56:32,072 : INFO : estimated required memory for 38463 words and 100 dimensions: 50001900 bytes\n",
            "2020-12-31 17:56:32,073 : INFO : resetting layer weights\n",
            "2020-12-31 17:56:38,513 : INFO : training model with 4 workers on 38463 vocabulary and 100 features, using sg=0 hs=0 sample=0.001 negative=5 window=10\n",
            "2020-12-31 17:56:39,548 : INFO : EPOCH 1 - PROGRESS: at 13.81% examples, 657604 words/s, in_qsize 7, out_qsize 1\n",
            "2020-12-31 17:56:40,562 : INFO : EPOCH 1 - PROGRESS: at 28.11% examples, 667485 words/s, in_qsize 7, out_qsize 0\n",
            "2020-12-31 17:56:41,568 : INFO : EPOCH 1 - PROGRESS: at 42.24% examples, 670136 words/s, in_qsize 6, out_qsize 1\n",
            "2020-12-31 17:56:42,575 : INFO : EPOCH 1 - PROGRESS: at 56.87% examples, 675919 words/s, in_qsize 7, out_qsize 0\n",
            "2020-12-31 17:56:43,582 : INFO : EPOCH 1 - PROGRESS: at 70.82% examples, 673919 words/s, in_qsize 7, out_qsize 0\n",
            "2020-12-31 17:56:44,591 : INFO : EPOCH 1 - PROGRESS: at 85.09% examples, 675415 words/s, in_qsize 7, out_qsize 0\n",
            "2020-12-31 17:56:45,593 : INFO : EPOCH 1 - PROGRESS: at 99.32% examples, 677036 words/s, in_qsize 4, out_qsize 0\n",
            "2020-12-31 17:56:45,602 : INFO : worker thread finished; awaiting finish of 3 more threads\n",
            "2020-12-31 17:56:45,614 : INFO : worker thread finished; awaiting finish of 2 more threads\n",
            "2020-12-31 17:56:45,615 : INFO : worker thread finished; awaiting finish of 1 more threads\n",
            "2020-12-31 17:56:45,617 : INFO : worker thread finished; awaiting finish of 0 more threads\n",
            "2020-12-31 17:56:45,619 : INFO : EPOCH - 1 : training on 5172289 raw words (4820267 effective words) took 7.1s, 679329 effective words/s\n",
            "2020-12-31 17:56:46,636 : INFO : EPOCH 2 - PROGRESS: at 13.81% examples, 666547 words/s, in_qsize 7, out_qsize 0\n",
            "2020-12-31 17:56:47,643 : INFO : EPOCH 2 - PROGRESS: at 28.31% examples, 680648 words/s, in_qsize 7, out_qsize 0\n",
            "2020-12-31 17:56:48,659 : INFO : EPOCH 2 - PROGRESS: at 42.63% examples, 679803 words/s, in_qsize 7, out_qsize 0\n",
            "2020-12-31 17:56:49,678 : INFO : EPOCH 2 - PROGRESS: at 57.46% examples, 683483 words/s, in_qsize 7, out_qsize 0\n",
            "2020-12-31 17:56:50,690 : INFO : EPOCH 2 - PROGRESS: at 71.60% examples, 681247 words/s, in_qsize 7, out_qsize 0\n",
            "2020-12-31 17:56:51,691 : INFO : EPOCH 2 - PROGRESS: at 85.64% examples, 680835 words/s, in_qsize 7, out_qsize 0\n",
            "2020-12-31 17:56:52,663 : INFO : worker thread finished; awaiting finish of 3 more threads\n",
            "2020-12-31 17:56:52,664 : INFO : worker thread finished; awaiting finish of 2 more threads\n",
            "2020-12-31 17:56:52,672 : INFO : worker thread finished; awaiting finish of 1 more threads\n",
            "2020-12-31 17:56:52,681 : INFO : worker thread finished; awaiting finish of 0 more threads\n",
            "2020-12-31 17:56:52,682 : INFO : EPOCH - 2 : training on 5172289 raw words (4820989 effective words) took 7.1s, 683615 effective words/s\n",
            "2020-12-31 17:56:53,692 : INFO : EPOCH 3 - PROGRESS: at 13.81% examples, 670515 words/s, in_qsize 7, out_qsize 0\n",
            "2020-12-31 17:56:54,692 : INFO : EPOCH 3 - PROGRESS: at 28.12% examples, 680093 words/s, in_qsize 7, out_qsize 1\n",
            "2020-12-31 17:56:55,700 : INFO : EPOCH 3 - PROGRESS: at 42.24% examples, 678279 words/s, in_qsize 7, out_qsize 0\n",
            "2020-12-31 17:56:56,708 : INFO : EPOCH 3 - PROGRESS: at 56.87% examples, 681910 words/s, in_qsize 7, out_qsize 0\n",
            "2020-12-31 17:56:57,725 : INFO : EPOCH 3 - PROGRESS: at 71.21% examples, 681655 words/s, in_qsize 7, out_qsize 0\n",
            "2020-12-31 17:56:58,727 : INFO : EPOCH 3 - PROGRESS: at 85.46% examples, 682105 words/s, in_qsize 7, out_qsize 0\n",
            "2020-12-31 17:56:59,731 : INFO : EPOCH 3 - PROGRESS: at 99.32% examples, 679955 words/s, in_qsize 4, out_qsize 0\n",
            "2020-12-31 17:56:59,741 : INFO : worker thread finished; awaiting finish of 3 more threads\n",
            "2020-12-31 17:56:59,751 : INFO : worker thread finished; awaiting finish of 2 more threads\n",
            "2020-12-31 17:56:59,763 : INFO : worker thread finished; awaiting finish of 1 more threads\n",
            "2020-12-31 17:56:59,764 : INFO : worker thread finished; awaiting finish of 0 more threads\n",
            "2020-12-31 17:56:59,765 : INFO : EPOCH - 3 : training on 5172289 raw words (4820577 effective words) took 7.1s, 681497 effective words/s\n",
            "2020-12-31 17:57:00,778 : INFO : EPOCH 4 - PROGRESS: at 13.26% examples, 641502 words/s, in_qsize 7, out_qsize 0\n",
            "2020-12-31 17:57:01,796 : INFO : EPOCH 4 - PROGRESS: at 27.72% examples, 664080 words/s, in_qsize 7, out_qsize 0\n",
            "2020-12-31 17:57:02,809 : INFO : EPOCH 4 - PROGRESS: at 41.85% examples, 667392 words/s, in_qsize 7, out_qsize 1\n",
            "2020-12-31 17:57:03,809 : INFO : EPOCH 4 - PROGRESS: at 56.20% examples, 672216 words/s, in_qsize 7, out_qsize 0\n",
            "2020-12-31 17:57:04,818 : INFO : EPOCH 4 - PROGRESS: at 70.43% examples, 672548 words/s, in_qsize 8, out_qsize 0\n",
            "2020-12-31 17:57:05,818 : INFO : EPOCH 4 - PROGRESS: at 84.50% examples, 673670 words/s, in_qsize 7, out_qsize 0\n",
            "2020-12-31 17:57:06,830 : INFO : EPOCH 4 - PROGRESS: at 98.94% examples, 675881 words/s, in_qsize 6, out_qsize 0\n",
            "2020-12-31 17:57:06,884 : INFO : worker thread finished; awaiting finish of 3 more threads\n",
            "2020-12-31 17:57:06,888 : INFO : worker thread finished; awaiting finish of 2 more threads\n",
            "2020-12-31 17:57:06,894 : INFO : worker thread finished; awaiting finish of 1 more threads\n",
            "2020-12-31 17:57:06,901 : INFO : worker thread finished; awaiting finish of 0 more threads\n",
            "2020-12-31 17:57:06,902 : INFO : EPOCH - 4 : training on 5172289 raw words (4820711 effective words) took 7.1s, 676532 effective words/s\n",
            "2020-12-31 17:57:07,912 : INFO : EPOCH 5 - PROGRESS: at 13.62% examples, 660894 words/s, in_qsize 7, out_qsize 0\n",
            "2020-12-31 17:57:08,929 : INFO : EPOCH 5 - PROGRESS: at 27.92% examples, 669686 words/s, in_qsize 7, out_qsize 0\n",
            "2020-12-31 17:57:09,962 : INFO : EPOCH 5 - PROGRESS: at 42.63% examples, 675066 words/s, in_qsize 7, out_qsize 0\n",
            "2020-12-31 17:57:10,992 : INFO : EPOCH 5 - PROGRESS: at 57.26% examples, 675776 words/s, in_qsize 7, out_qsize 0\n",
            "2020-12-31 17:57:11,992 : INFO : EPOCH 5 - PROGRESS: at 71.79% examples, 680189 words/s, in_qsize 6, out_qsize 1\n",
            "2020-12-31 17:57:12,999 : INFO : EPOCH 5 - PROGRESS: at 86.04% examples, 680917 words/s, in_qsize 7, out_qsize 0\n",
            "2020-12-31 17:57:13,984 : INFO : worker thread finished; awaiting finish of 3 more threads\n",
            "2020-12-31 17:57:13,990 : INFO : worker thread finished; awaiting finish of 2 more threads\n",
            "2020-12-31 17:57:13,991 : INFO : worker thread finished; awaiting finish of 1 more threads\n",
            "2020-12-31 17:57:13,992 : INFO : worker thread finished; awaiting finish of 0 more threads\n",
            "2020-12-31 17:57:13,993 : INFO : EPOCH - 5 : training on 5172289 raw words (4821076 effective words) took 7.1s, 680808 effective words/s\n",
            "2020-12-31 17:57:15,007 : INFO : EPOCH 6 - PROGRESS: at 14.00% examples, 678927 words/s, in_qsize 8, out_qsize 0\n",
            "2020-12-31 17:57:16,013 : INFO : EPOCH 6 - PROGRESS: at 27.92% examples, 672955 words/s, in_qsize 7, out_qsize 0\n",
            "2020-12-31 17:57:17,042 : INFO : EPOCH 6 - PROGRESS: at 42.43% examples, 674877 words/s, in_qsize 7, out_qsize 2\n",
            "2020-12-31 17:57:18,067 : INFO : EPOCH 6 - PROGRESS: at 57.25% examples, 678941 words/s, in_qsize 6, out_qsize 1\n",
            "2020-12-31 17:57:19,067 : INFO : EPOCH 6 - PROGRESS: at 71.81% examples, 682784 words/s, in_qsize 8, out_qsize 0\n",
            "2020-12-31 17:57:20,068 : INFO : EPOCH 6 - PROGRESS: at 86.02% examples, 683614 words/s, in_qsize 7, out_qsize 0\n",
            "2020-12-31 17:57:21,018 : INFO : worker thread finished; awaiting finish of 3 more threads\n",
            "2020-12-31 17:57:21,024 : INFO : worker thread finished; awaiting finish of 2 more threads\n",
            "2020-12-31 17:57:21,030 : INFO : worker thread finished; awaiting finish of 1 more threads\n",
            "2020-12-31 17:57:21,034 : INFO : worker thread finished; awaiting finish of 0 more threads\n",
            "2020-12-31 17:57:21,035 : INFO : EPOCH - 6 : training on 5172289 raw words (4821053 effective words) took 7.0s, 685729 effective words/s\n",
            "2020-12-31 17:57:22,046 : INFO : EPOCH 7 - PROGRESS: at 13.64% examples, 660519 words/s, in_qsize 6, out_qsize 0\n",
            "2020-12-31 17:57:23,057 : INFO : EPOCH 7 - PROGRESS: at 28.12% examples, 676286 words/s, in_qsize 7, out_qsize 0\n",
            "2020-12-31 17:57:24,061 : INFO : EPOCH 7 - PROGRESS: at 42.44% examples, 679696 words/s, in_qsize 7, out_qsize 0\n",
            "2020-12-31 17:57:25,086 : INFO : EPOCH 7 - PROGRESS: at 57.05% examples, 680080 words/s, in_qsize 7, out_qsize 0\n",
            "2020-12-31 17:57:26,088 : INFO : EPOCH 7 - PROGRESS: at 71.22% examples, 679826 words/s, in_qsize 6, out_qsize 1\n",
            "2020-12-31 17:57:27,092 : INFO : EPOCH 7 - PROGRESS: at 85.65% examples, 682328 words/s, in_qsize 6, out_qsize 1\n",
            "2020-12-31 17:57:28,060 : INFO : worker thread finished; awaiting finish of 3 more threads\n",
            "2020-12-31 17:57:28,081 : INFO : worker thread finished; awaiting finish of 2 more threads\n",
            "2020-12-31 17:57:28,082 : INFO : worker thread finished; awaiting finish of 1 more threads\n",
            "2020-12-31 17:57:28,086 : INFO : worker thread finished; awaiting finish of 0 more threads\n",
            "2020-12-31 17:57:28,086 : INFO : EPOCH - 7 : training on 5172289 raw words (4820980 effective words) took 7.0s, 684665 effective words/s\n",
            "2020-12-31 17:57:29,102 : INFO : EPOCH 8 - PROGRESS: at 14.00% examples, 674764 words/s, in_qsize 7, out_qsize 0\n",
            "2020-12-31 17:57:30,106 : INFO : EPOCH 8 - PROGRESS: at 27.92% examples, 671602 words/s, in_qsize 8, out_qsize 2\n",
            "2020-12-31 17:57:31,128 : INFO : EPOCH 8 - PROGRESS: at 42.63% examples, 678894 words/s, in_qsize 7, out_qsize 0\n",
            "2020-12-31 17:57:32,146 : INFO : EPOCH 8 - PROGRESS: at 57.05% examples, 678381 words/s, in_qsize 7, out_qsize 0\n",
            "2020-12-31 17:57:33,147 : INFO : EPOCH 8 - PROGRESS: at 71.41% examples, 680351 words/s, in_qsize 7, out_qsize 0\n",
            "2020-12-31 17:57:34,149 : INFO : EPOCH 8 - PROGRESS: at 85.28% examples, 678495 words/s, in_qsize 7, out_qsize 0\n",
            "2020-12-31 17:57:35,138 : INFO : worker thread finished; awaiting finish of 3 more threads\n",
            "2020-12-31 17:57:35,140 : INFO : worker thread finished; awaiting finish of 2 more threads\n",
            "2020-12-31 17:57:35,153 : INFO : EPOCH 8 - PROGRESS: at 99.87% examples, 682110 words/s, in_qsize 1, out_qsize 1\n",
            "2020-12-31 17:57:35,154 : INFO : worker thread finished; awaiting finish of 1 more threads\n",
            "2020-12-31 17:57:35,158 : INFO : worker thread finished; awaiting finish of 0 more threads\n",
            "2020-12-31 17:57:35,159 : INFO : EPOCH - 8 : training on 5172289 raw words (4821168 effective words) took 7.1s, 682397 effective words/s\n",
            "2020-12-31 17:57:36,171 : INFO : EPOCH 9 - PROGRESS: at 13.81% examples, 669756 words/s, in_qsize 6, out_qsize 1\n",
            "2020-12-31 17:57:37,171 : INFO : EPOCH 9 - PROGRESS: at 28.31% examples, 684346 words/s, in_qsize 7, out_qsize 0\n",
            "2020-12-31 17:57:38,185 : INFO : EPOCH 9 - PROGRESS: at 42.24% examples, 676649 words/s, in_qsize 6, out_qsize 0\n",
            "2020-12-31 17:57:39,214 : INFO : EPOCH 9 - PROGRESS: at 56.58% examples, 675034 words/s, in_qsize 7, out_qsize 0\n",
            "2020-12-31 17:57:40,215 : INFO : EPOCH 9 - PROGRESS: at 71.03% examples, 677643 words/s, in_qsize 6, out_qsize 1\n",
            "2020-12-31 17:57:41,228 : INFO : EPOCH 9 - PROGRESS: at 85.46% examples, 679566 words/s, in_qsize 7, out_qsize 0\n",
            "2020-12-31 17:57:42,211 : INFO : worker thread finished; awaiting finish of 3 more threads\n",
            "2020-12-31 17:57:42,217 : INFO : worker thread finished; awaiting finish of 2 more threads\n",
            "2020-12-31 17:57:42,229 : INFO : EPOCH 9 - PROGRESS: at 99.81% examples, 681509 words/s, in_qsize 1, out_qsize 1\n",
            "2020-12-31 17:57:42,232 : INFO : worker thread finished; awaiting finish of 1 more threads\n",
            "2020-12-31 17:57:42,237 : INFO : worker thread finished; awaiting finish of 0 more threads\n",
            "2020-12-31 17:57:42,238 : INFO : EPOCH - 9 : training on 5172289 raw words (4820953 effective words) took 7.1s, 682042 effective words/s\n",
            "2020-12-31 17:57:43,256 : INFO : EPOCH 10 - PROGRESS: at 13.62% examples, 655984 words/s, in_qsize 7, out_qsize 0\n",
            "2020-12-31 17:57:44,260 : INFO : EPOCH 10 - PROGRESS: at 27.52% examples, 661964 words/s, in_qsize 8, out_qsize 1\n",
            "2020-12-31 17:57:45,262 : INFO : EPOCH 10 - PROGRESS: at 41.85% examples, 670701 words/s, in_qsize 8, out_qsize 0\n",
            "2020-12-31 17:57:46,306 : INFO : EPOCH 10 - PROGRESS: at 56.39% examples, 670359 words/s, in_qsize 7, out_qsize 0\n",
            "2020-12-31 17:57:47,309 : INFO : EPOCH 10 - PROGRESS: at 71.01% examples, 675343 words/s, in_qsize 7, out_qsize 0\n",
            "2020-12-31 17:57:48,322 : INFO : EPOCH 10 - PROGRESS: at 85.28% examples, 676165 words/s, in_qsize 7, out_qsize 0\n",
            "2020-12-31 17:57:49,312 : INFO : worker thread finished; awaiting finish of 3 more threads\n",
            "2020-12-31 17:57:49,319 : INFO : worker thread finished; awaiting finish of 2 more threads\n",
            "2020-12-31 17:57:49,324 : INFO : EPOCH 10 - PROGRESS: at 99.81% examples, 679816 words/s, in_qsize 1, out_qsize 1\n",
            "2020-12-31 17:57:49,325 : INFO : worker thread finished; awaiting finish of 1 more threads\n",
            "2020-12-31 17:57:49,334 : INFO : worker thread finished; awaiting finish of 0 more threads\n",
            "2020-12-31 17:57:49,335 : INFO : EPOCH - 10 : training on 5172289 raw words (4820595 effective words) took 7.1s, 680131 effective words/s\n",
            "2020-12-31 17:57:49,335 : INFO : training on a 51722890 raw words (48208369 effective words) took 70.8s, 680702 effective words/s\n",
            "2020-12-31 17:57:49,336 : INFO : saving Word2Vec object under word2vec.model, separately None\n",
            "2020-12-31 17:57:49,337 : INFO : not storing attribute vectors_norm\n",
            "2020-12-31 17:57:49,339 : INFO : not storing attribute cum_table\n",
            "2020-12-31 17:57:49,696 : INFO : saved word2vec.model\n",
            "2020-12-31 17:57:49,697 : INFO : loading Word2Vec object from word2vec.model\n",
            "2020-12-31 17:57:49,982 : INFO : loading wv recursively from word2vec.model.wv.* with mmap=None\n",
            "2020-12-31 17:57:49,983 : INFO : setting ignored attribute vectors_norm to None\n",
            "2020-12-31 17:57:49,983 : INFO : loading vocabulary recursively from word2vec.model.vocabulary.* with mmap=None\n",
            "2020-12-31 17:57:49,984 : INFO : loading trainables recursively from word2vec.model.trainables.* with mmap=None\n",
            "2020-12-31 17:57:49,984 : INFO : setting ignored attribute cum_table to None\n",
            "2020-12-31 17:57:49,985 : INFO : loaded word2vec.model\n",
            "2020-12-31 17:57:50,063 : INFO : storing 38463x100 projection weights into abstract_word2vec_embeddings\n",
            "/usr/local/lib/python3.6/dist-packages/ipykernel_launcher.py:45: DeprecationWarning: Call to deprecated `most_similar` (Method will be removed in 4.0.0, use self.wv.most_similar() instead).\n",
            "2020-12-31 17:57:52,736 : INFO : precomputing L2-norms of word weight vectors\n"
          ],
          "name": "stderr"
        },
        {
          "output_type": "execute_result",
          "data": {
            "text/plain": [
              "[('spread', 0.7440241575241089),\n",
              " ('spillover', 0.6482548713684082),\n",
              " ('contact', 0.5907633900642395),\n",
              " ('transmit', 0.5866668224334717),\n",
              " ('spreading', 0.5531315803527832),\n",
              " ('dissemination', 0.540109395980835),\n",
              " ('dispersal', 0.5297764539718628),\n",
              " ('transmissibility', 0.5191208124160767),\n",
              " ('epidemic', 0.5162222385406494),\n",
              " ('outbreak', 0.5151717662811279)]"
            ]
          },
          "metadata": {
            "tags": []
          },
          "execution_count": 8
        }
      ]
    },
    {
      "cell_type": "markdown",
      "metadata": {
        "id": "ZTIe0if0jNu5"
      },
      "source": [
        "# Generate the train and test data"
      ]
    },
    {
      "cell_type": "code",
      "metadata": {
        "id": "yIhjpOxnS-ou"
      },
      "source": [
        "# Importing all the libraries\r\n",
        "import numpy as np \r\n",
        "import pandas as pd \r\n",
        "import re\r\n",
        "import numpy as np \r\n",
        "import pandas as pd\r\n",
        "#import scispacy\r\n",
        "import spacy\r\n",
        "from spacy.lang.en import English\r\n",
        "from gensim.models import Word2Vec\r\n",
        "from tqdm import tqdm\r\n",
        "#import en_core_sci_md\r\n",
        "import logging"
      ],
      "execution_count": null,
      "outputs": []
    },
    {
      "cell_type": "code",
      "metadata": {
        "id": "yfNxJ93JTDwY"
      },
      "source": [
        "def count_freq(input_text, key_word):\r\n",
        "    '''\r\n",
        "    This function is to calculate the frequency of each key_word in an input text.\r\n",
        "    '''\r\n",
        "    count = sum(1 for _ in re.finditer(r'(?i)\\b%s\\b' % re.escape(key_word), input_text))\r\n",
        "    return count\r\n",
        "\r\n",
        "def frequency_generator(key_words_weight, df, context_col):\r\n",
        "    '''\r\n",
        "    This function consumes the count_freq function and applies on the dataframe column (context_col) which has input text.\r\n",
        "    It creates new columns with frequency for each key word in the dataframe. \r\n",
        "    '''\r\n",
        "    key_words = [i[0] for i in key_words_weight]\r\n",
        "    df[context_col] = df[context_col].astype(str)\r\n",
        "    for word in key_words:\r\n",
        "        df['count_' + str(word)] = df[context_col].apply(lambda x: count_freq(x, word))\r\n",
        "    return df\r\n",
        "\r\n",
        "def generate_training_data(df, context_col_name, sum_col_name, label_col_name, lower_b, neg_pos_ratio):\r\n",
        "    '''\r\n",
        "    This function has the following steps:\r\n",
        "        1.Drop null and duplicated data in the context column.\r\n",
        "        2.Generate positive examples which have at least n(lower_b) frequency of key words in the context.\r\n",
        "        3.Generate negative examples which have none of the key words in the context. Its size is neg_pos_ratio * the size of the postive examples.\r\n",
        "        4.Combine the positive and negative examples as the traning set and rename the label column.\r\n",
        "    '''\r\n",
        "    df = df.dropna(subset = [context_col_name])\r\n",
        "    df = df.drop_duplicates(subset = [context_col_name])\r\n",
        "    df_positive = df[df[sum_col_name] >= lower_b]\r\n",
        "    negative_set = df[df[sum_col_name] == 0]\r\n",
        "    df_negative = negative_set.sample(n = df_positive.shape[0] * neg_pos_ratio, replace=True, random_state=1)\r\n",
        "    df_training = df_positive.append(df_negative)[[context_col_name, label_col_name]]\r\n",
        "    df_training = df_training.rename(columns = {label_col_name:'label'})\r\n",
        "    return df_training\r\n",
        "\r\n",
        "def generate_test_data(df, context_col_name, sum_col_name, label_col_name, lower_b, upper_b, positive_size, neg_pos_ratio):\r\n",
        "    '''\r\n",
        "    This funtion is to generate test set which is similar as generating the training data.\r\n",
        "    The distinctive point is the upper bound of positive set is defined in the arguements. \r\n",
        "    '''\r\n",
        "    df = df.dropna(subset = [context_col_name])\r\n",
        "    df = df.drop_duplicates(subset = [context_col_name])\r\n",
        "    test_positive = df[(df[sum_col_name] > lower_b) & (df[sum_col_name] < upper_b)].sample(n = positive_size, replace = True, random_state = 1)\r\n",
        "    test_negative = df[df[sum_col_name] == 0]\r\n",
        "    test_negative = test_negative.sample(n = test_positive.shape[0] * neg_pos_ratio, replace=True, random_state=1)\r\n",
        "    df_test = test_positive.append(test_negative)[[context_col_name, sum_col_name, label_col_name]]\r\n",
        "    df_test = df_test.rename(columns = {label_col_name:'label'})\r\n",
        "    return df_test"
      ],
      "execution_count": null,
      "outputs": []
    },
    {
      "cell_type": "code",
      "metadata": {
        "id": "zBzehOJ5TOXk",
        "colab": {
          "base_uri": "https://localhost:8080/"
        },
        "outputId": "95a14bdf-5abf-422d-ff7f-4b921f2a2a9e"
      },
      "source": [
        "metadata_df = pd.read_csv('/content/drive/My Drive/data/metadata.csv', dtype={\r\n",
        "    'pubmed_id': str,\r\n",
        "    'Microsoft Academic Paper ID': str, \r\n",
        "    'doi': str\r\n",
        "})"
      ],
      "execution_count": null,
      "outputs": [
        {
          "output_type": "stream",
          "text": [
            "/usr/local/lib/python3.6/dist-packages/IPython/core/interactiveshell.py:2718: DtypeWarning: Columns (1,5,13,14,15,16) have mixed types.Specify dtype option on import or set low_memory=False.\n",
            "  interactivity=interactivity, compiler=compiler, result=result)\n"
          ],
          "name": "stderr"
        }
      ]
    },
    {
      "cell_type": "code",
      "metadata": {
        "id": "_z4ORssTTWF4"
      },
      "source": [
        "metadata_df = metadata_df.dropna(axis=0, subset=['abstract'])"
      ],
      "execution_count": null,
      "outputs": []
    },
    {
      "cell_type": "code",
      "metadata": {
        "id": "MItpFnviUM4J",
        "colab": {
          "base_uri": "https://localhost:8080/",
          "height": 569
        },
        "outputId": "7e62db8f-e8e9-45ad-dde1-812e3305b4a3"
      },
      "source": [
        "metadata_df.head()"
      ],
      "execution_count": null,
      "outputs": [
        {
          "output_type": "execute_result",
          "data": {
            "text/html": [
              "<div>\n",
              "<style scoped>\n",
              "    .dataframe tbody tr th:only-of-type {\n",
              "        vertical-align: middle;\n",
              "    }\n",
              "\n",
              "    .dataframe tbody tr th {\n",
              "        vertical-align: top;\n",
              "    }\n",
              "\n",
              "    .dataframe thead th {\n",
              "        text-align: right;\n",
              "    }\n",
              "</style>\n",
              "<table border=\"1\" class=\"dataframe\">\n",
              "  <thead>\n",
              "    <tr style=\"text-align: right;\">\n",
              "      <th></th>\n",
              "      <th>cord_uid</th>\n",
              "      <th>sha</th>\n",
              "      <th>source_x</th>\n",
              "      <th>title</th>\n",
              "      <th>doi</th>\n",
              "      <th>pmcid</th>\n",
              "      <th>pubmed_id</th>\n",
              "      <th>license</th>\n",
              "      <th>abstract</th>\n",
              "      <th>publish_time</th>\n",
              "      <th>authors</th>\n",
              "      <th>journal</th>\n",
              "      <th>mag_id</th>\n",
              "      <th>who_covidence_id</th>\n",
              "      <th>arxiv_id</th>\n",
              "      <th>pdf_json_files</th>\n",
              "      <th>pmc_json_files</th>\n",
              "      <th>url</th>\n",
              "      <th>s2_id</th>\n",
              "    </tr>\n",
              "  </thead>\n",
              "  <tbody>\n",
              "    <tr>\n",
              "      <th>0</th>\n",
              "      <td>ug7v899j</td>\n",
              "      <td>d1aafb70c066a2068b02786f8929fd9c900897fb</td>\n",
              "      <td>PMC</td>\n",
              "      <td>Clinical features of culture-proven Mycoplasma...</td>\n",
              "      <td>10.1186/1471-2334-1-6</td>\n",
              "      <td>PMC35282</td>\n",
              "      <td>11472636</td>\n",
              "      <td>no-cc</td>\n",
              "      <td>OBJECTIVE: This retrospective chart review des...</td>\n",
              "      <td>2001-07-04</td>\n",
              "      <td>Madani, Tariq A; Al-Ghamdi, Aisha A</td>\n",
              "      <td>BMC Infect Dis</td>\n",
              "      <td>NaN</td>\n",
              "      <td>NaN</td>\n",
              "      <td>NaN</td>\n",
              "      <td>document_parses/pdf_json/d1aafb70c066a2068b027...</td>\n",
              "      <td>document_parses/pmc_json/PMC35282.xml.json</td>\n",
              "      <td>https://www.ncbi.nlm.nih.gov/pmc/articles/PMC3...</td>\n",
              "      <td>NaN</td>\n",
              "    </tr>\n",
              "    <tr>\n",
              "      <th>1</th>\n",
              "      <td>02tnwd4m</td>\n",
              "      <td>6b0567729c2143a66d737eb0a2f63f2dce2e5a7d</td>\n",
              "      <td>PMC</td>\n",
              "      <td>Nitric oxide: a pro-inflammatory mediator in l...</td>\n",
              "      <td>10.1186/rr14</td>\n",
              "      <td>PMC59543</td>\n",
              "      <td>11667967</td>\n",
              "      <td>no-cc</td>\n",
              "      <td>Inflammatory diseases of the respiratory tract...</td>\n",
              "      <td>2000-08-15</td>\n",
              "      <td>Vliet, Albert van der; Eiserich, Jason P; Cros...</td>\n",
              "      <td>Respir Res</td>\n",
              "      <td>NaN</td>\n",
              "      <td>NaN</td>\n",
              "      <td>NaN</td>\n",
              "      <td>document_parses/pdf_json/6b0567729c2143a66d737...</td>\n",
              "      <td>document_parses/pmc_json/PMC59543.xml.json</td>\n",
              "      <td>https://www.ncbi.nlm.nih.gov/pmc/articles/PMC5...</td>\n",
              "      <td>NaN</td>\n",
              "    </tr>\n",
              "    <tr>\n",
              "      <th>2</th>\n",
              "      <td>ejv2xln0</td>\n",
              "      <td>06ced00a5fc04215949aa72528f2eeaae1d58927</td>\n",
              "      <td>PMC</td>\n",
              "      <td>Surfactant protein-D and pulmonary host defense</td>\n",
              "      <td>10.1186/rr19</td>\n",
              "      <td>PMC59549</td>\n",
              "      <td>11667972</td>\n",
              "      <td>no-cc</td>\n",
              "      <td>Surfactant protein-D (SP-D) participates in th...</td>\n",
              "      <td>2000-08-25</td>\n",
              "      <td>Crouch, Erika C</td>\n",
              "      <td>Respir Res</td>\n",
              "      <td>NaN</td>\n",
              "      <td>NaN</td>\n",
              "      <td>NaN</td>\n",
              "      <td>document_parses/pdf_json/06ced00a5fc04215949aa...</td>\n",
              "      <td>document_parses/pmc_json/PMC59549.xml.json</td>\n",
              "      <td>https://www.ncbi.nlm.nih.gov/pmc/articles/PMC5...</td>\n",
              "      <td>NaN</td>\n",
              "    </tr>\n",
              "    <tr>\n",
              "      <th>3</th>\n",
              "      <td>2b73a28n</td>\n",
              "      <td>348055649b6b8cf2b9a376498df9bf41f7123605</td>\n",
              "      <td>PMC</td>\n",
              "      <td>Role of endothelin-1 in lung disease</td>\n",
              "      <td>10.1186/rr44</td>\n",
              "      <td>PMC59574</td>\n",
              "      <td>11686871</td>\n",
              "      <td>no-cc</td>\n",
              "      <td>Endothelin-1 (ET-1) is a 21 amino acid peptide...</td>\n",
              "      <td>2001-02-22</td>\n",
              "      <td>Fagan, Karen A; McMurtry, Ivan F; Rodman, David M</td>\n",
              "      <td>Respir Res</td>\n",
              "      <td>NaN</td>\n",
              "      <td>NaN</td>\n",
              "      <td>NaN</td>\n",
              "      <td>document_parses/pdf_json/348055649b6b8cf2b9a37...</td>\n",
              "      <td>document_parses/pmc_json/PMC59574.xml.json</td>\n",
              "      <td>https://www.ncbi.nlm.nih.gov/pmc/articles/PMC5...</td>\n",
              "      <td>NaN</td>\n",
              "    </tr>\n",
              "    <tr>\n",
              "      <th>4</th>\n",
              "      <td>9785vg6d</td>\n",
              "      <td>5f48792a5fa08bed9f56016f4981ae2ca6031b32</td>\n",
              "      <td>PMC</td>\n",
              "      <td>Gene expression in epithelial cells in respons...</td>\n",
              "      <td>10.1186/rr61</td>\n",
              "      <td>PMC59580</td>\n",
              "      <td>11686888</td>\n",
              "      <td>no-cc</td>\n",
              "      <td>Respiratory syncytial virus (RSV) and pneumoni...</td>\n",
              "      <td>2001-05-11</td>\n",
              "      <td>Domachowske, Joseph B; Bonville, Cynthia A; Ro...</td>\n",
              "      <td>Respir Res</td>\n",
              "      <td>NaN</td>\n",
              "      <td>NaN</td>\n",
              "      <td>NaN</td>\n",
              "      <td>document_parses/pdf_json/5f48792a5fa08bed9f560...</td>\n",
              "      <td>document_parses/pmc_json/PMC59580.xml.json</td>\n",
              "      <td>https://www.ncbi.nlm.nih.gov/pmc/articles/PMC5...</td>\n",
              "      <td>NaN</td>\n",
              "    </tr>\n",
              "  </tbody>\n",
              "</table>\n",
              "</div>"
            ],
            "text/plain": [
              "   cord_uid  ... s2_id\n",
              "0  ug7v899j  ...   NaN\n",
              "1  02tnwd4m  ...   NaN\n",
              "2  ejv2xln0  ...   NaN\n",
              "3  2b73a28n  ...   NaN\n",
              "4  9785vg6d  ...   NaN\n",
              "\n",
              "[5 rows x 19 columns]"
            ]
          },
          "metadata": {
            "tags": []
          },
          "execution_count": 13
        }
      ]
    },
    {
      "cell_type": "code",
      "metadata": {
        "id": "95klv_AElzZq",
        "colab": {
          "base_uri": "https://localhost:8080/"
        },
        "outputId": "7d11bce2-62e5-495c-a9b9-becc41851fbd"
      },
      "source": [
        "'''Key words extracted from word2vec. For key words: transmission, incubation, virus shedding and shedding virus \n",
        "existing in the first task and subtasks, the weights are 1 for each word. For the remaining ones extracted \n",
        "from word2vec, the weights are based on word2vec similarity scores.\n",
        "'''\n",
        "w2v_model = Word2Vec.load(\"/content/drive/My Drive/data/df_covid_training_test_data/word2vec.model\")\n",
        "w2v_model.wv.save_word2vec_format('/content/drive/My Drive/cord_df_training_test_data/abstract_word2vec_embeddings')\n",
        "key_words_weight = w2v_model.most_similar(positive=['transmission'], topn = 10)\n",
        "key_words_weight = [('transmission', 1), \n",
        " ('incubation', 1),\n",
        " ('virus shedding', 1),\n",
        " ('shedding virus', 1),\n",
        " ('environmental stability', 1)] + key_words_weight\n",
        "\n",
        "print(key_words_weight)\n",
        "keywords_weight_dict = dict(key_words_weight)"
      ],
      "execution_count": null,
      "outputs": [
        {
          "output_type": "stream",
          "text": [
            "2020-12-31 18:01:12,645 : INFO : loading Word2Vec object from /content/drive/My Drive/data/df_covid_training_test_data/word2vec.model\n",
            "2020-12-31 18:01:14,828 : INFO : loading wv recursively from /content/drive/My Drive/data/df_covid_training_test_data/word2vec.model.wv.* with mmap=None\n",
            "2020-12-31 18:01:14,829 : INFO : setting ignored attribute vectors_norm to None\n",
            "2020-12-31 18:01:14,829 : INFO : loading vocabulary recursively from /content/drive/My Drive/data/df_covid_training_test_data/word2vec.model.vocabulary.* with mmap=None\n",
            "2020-12-31 18:01:14,833 : INFO : loading trainables recursively from /content/drive/My Drive/data/df_covid_training_test_data/word2vec.model.trainables.* with mmap=None\n",
            "2020-12-31 18:01:14,834 : INFO : setting ignored attribute cum_table to None\n",
            "2020-12-31 18:01:14,836 : INFO : loaded /content/drive/My Drive/data/df_covid_training_test_data/word2vec.model\n",
            "2020-12-31 18:01:14,903 : INFO : storing 38451x100 projection weights into /content/drive/My Drive/cord_df_training_test_data/abstract_word2vec_embeddings\n",
            "/usr/local/lib/python3.6/dist-packages/ipykernel_launcher.py:7: DeprecationWarning: Call to deprecated `most_similar` (Method will be removed in 4.0.0, use self.wv.most_similar() instead).\n",
            "  import sys\n",
            "2020-12-31 18:01:17,976 : INFO : precomputing L2-norms of word weight vectors\n"
          ],
          "name": "stderr"
        },
        {
          "output_type": "stream",
          "text": [
            "[('transmission', 1), ('incubation', 1), ('virus shedding', 1), ('shedding virus', 1), ('environmental stability', 1), ('spread', 0.7580268979072571), ('spillover', 0.64621901512146), ('contact', 0.6034995317459106), ('transmit', 0.5859647393226624), ('dissemination', 0.5617706775665283), ('spreading', 0.5543307065963745), ('movement', 0.5496647357940674), ('importation', 0.54944908618927), ('exposure', 0.548215389251709), ('transmissibility', 0.5438992977142334)]\n"
          ],
          "name": "stdout"
        }
      ]
    },
    {
      "cell_type": "markdown",
      "metadata": {
        "id": "Y4ylmTpZlzZs"
      },
      "source": [
        "# Generate Training set on abstract"
      ]
    },
    {
      "cell_type": "code",
      "metadata": {
        "id": "T0ScNAUnlzZt"
      },
      "source": [
        "neg_pos_ratio = 4 #4 means the ratio of negative examples to positive examples is 4:1\n",
        "threshold = 3 #3 is the 97th percentile of the dot product of key words frequency and weights on the abstract context\n",
        "meta_df = frequency_generator(key_words_weight, metadata_df, 'abstract')\n",
        "col_list = ['count_' + i for i in list(keywords_weight_dict)]\n",
        "meta_df['keywords_sum'] = meta_df[col_list].values.dot(pd.Series(keywords_weight_dict))\n",
        "meta_df['keywords_exist'] = meta_df['keywords_sum'].apply(lambda x: 1 if x>= threshold else 0)\n",
        "training_set = generate_training_data(meta_df, 'abstract', 'keywords_sum', 'keywords_exist', threshold, neg_pos_ratio)\n",
        "training_set.to_csv('training_set_threshold_' + str(threshold) + '.csv')"
      ],
      "execution_count": null,
      "outputs": []
    },
    {
      "cell_type": "code",
      "metadata": {
        "id": "4919XVKnVnfA"
      },
      "source": [
        "training_df = pd.read_csv('training_set_threshold_3.csv')"
      ],
      "execution_count": null,
      "outputs": []
    },
    {
      "cell_type": "markdown",
      "metadata": {
        "id": "BWWMuoWYn8Y1"
      },
      "source": [
        "# New Section"
      ]
    },
    {
      "cell_type": "code",
      "metadata": {
        "id": "hUlUc0q3VqQR",
        "colab": {
          "base_uri": "https://localhost:8080/",
          "height": 202
        },
        "outputId": "a0ba7f7e-6c68-41a0-b5c7-b5ee6fa2aa9d"
      },
      "source": [
        "training_df.head()"
      ],
      "execution_count": null,
      "outputs": [
        {
          "output_type": "execute_result",
          "data": {
            "text/html": [
              "<div>\n",
              "<style scoped>\n",
              "    .dataframe tbody tr th:only-of-type {\n",
              "        vertical-align: middle;\n",
              "    }\n",
              "\n",
              "    .dataframe tbody tr th {\n",
              "        vertical-align: top;\n",
              "    }\n",
              "\n",
              "    .dataframe thead th {\n",
              "        text-align: right;\n",
              "    }\n",
              "</style>\n",
              "<table border=\"1\" class=\"dataframe\">\n",
              "  <thead>\n",
              "    <tr style=\"text-align: right;\">\n",
              "      <th></th>\n",
              "      <th>Unnamed: 0</th>\n",
              "      <th>abstract</th>\n",
              "      <th>label</th>\n",
              "    </tr>\n",
              "  </thead>\n",
              "  <tbody>\n",
              "    <tr>\n",
              "      <th>0</th>\n",
              "      <td>17</td>\n",
              "      <td>BACKGROUND: Previous smallpox ring vaccination...</td>\n",
              "      <td>1</td>\n",
              "    </tr>\n",
              "    <tr>\n",
              "      <th>1</th>\n",
              "      <td>68</td>\n",
              "      <td>BACKGROUND: EpiFlex is a flexible, easy to use...</td>\n",
              "      <td>1</td>\n",
              "    </tr>\n",
              "    <tr>\n",
              "      <th>2</th>\n",
              "      <td>96</td>\n",
              "      <td>Despite intensive ongoing research, key aspect...</td>\n",
              "      <td>1</td>\n",
              "    </tr>\n",
              "    <tr>\n",
              "      <th>3</th>\n",
              "      <td>110</td>\n",
              "      <td>The human APOBEC3G protein is an innate anti-v...</td>\n",
              "      <td>1</td>\n",
              "    </tr>\n",
              "    <tr>\n",
              "      <th>4</th>\n",
              "      <td>127</td>\n",
              "      <td>Influenza A viruses have a wide host range for...</td>\n",
              "      <td>1</td>\n",
              "    </tr>\n",
              "  </tbody>\n",
              "</table>\n",
              "</div>"
            ],
            "text/plain": [
              "   Unnamed: 0                                           abstract  label\n",
              "0          17  BACKGROUND: Previous smallpox ring vaccination...      1\n",
              "1          68  BACKGROUND: EpiFlex is a flexible, easy to use...      1\n",
              "2          96  Despite intensive ongoing research, key aspect...      1\n",
              "3         110  The human APOBEC3G protein is an innate anti-v...      1\n",
              "4         127  Influenza A viruses have a wide host range for...      1"
            ]
          },
          "metadata": {
            "tags": []
          },
          "execution_count": 17
        }
      ]
    },
    {
      "cell_type": "markdown",
      "metadata": {
        "id": "k4qSUKknlzZu"
      },
      "source": [
        "# Generate Test set on Body_Text"
      ]
    },
    {
      "cell_type": "code",
      "metadata": {
        "id": "aLs2w8aClzZv"
      },
      "source": [
        "threshold = 38 #38 is the 97th percentile of the dot product of key words frequency and weights on the body text context\n",
        "full_data = pd.read_csv('/content/df_covid.csv') #This dataset is the output of this notebook: https://www.kaggle.com/danielwolffram/cord-19-create-dataframe\n",
        "full_text_freq = frequency_generator(key_words_weight, full_data, 'body_text')\n",
        "full_text_freq['keywords_sum'] = full_text_freq[col_list].values.dot(pd.Series(keywords_weight_dict))\n",
        "full_text_freq['keywords_exist'] = full_text_freq['keywords_sum'].apply(lambda x: 1 if x >= threshold else (0 if x == 0 else None))"
      ],
      "execution_count": null,
      "outputs": []
    },
    {
      "cell_type": "code",
      "metadata": {
        "id": "Fww9IufWlzZx"
      },
      "source": [
        "#Take the first 3000 characters of body_text as test data\n",
        "full_text_freq['body_text'] = full_text_freq['body_text'].apply(lambda x: re.sub(r'[^\\w\\s]','',x)[:3000])\n",
        "full_text_freq = full_text_freq.rename(columns = {'keywords_exist': 'label'})\n",
        "full_text_freq.to_csv('body_text_with_keywords_freq_38.csv')"
      ],
      "execution_count": null,
      "outputs": []
    },
    {
      "cell_type": "code",
      "metadata": {
        "id": "rbJ9VNVlV4wv"
      },
      "source": [
        "test_df = pd.read_csv('body_text_with_keywords_freq_38.csv')"
      ],
      "execution_count": null,
      "outputs": []
    },
    {
      "cell_type": "code",
      "metadata": {
        "id": "kbAIvsXSV7LP",
        "colab": {
          "base_uri": "https://localhost:8080/",
          "height": 551
        },
        "outputId": "9f7af8df-d7ec-40df-f6d0-d44b703ff3a0"
      },
      "source": [
        "test_df.head()"
      ],
      "execution_count": null,
      "outputs": [
        {
          "output_type": "execute_result",
          "data": {
            "text/html": [
              "<div>\n",
              "<style scoped>\n",
              "    .dataframe tbody tr th:only-of-type {\n",
              "        vertical-align: middle;\n",
              "    }\n",
              "\n",
              "    .dataframe tbody tr th {\n",
              "        vertical-align: top;\n",
              "    }\n",
              "\n",
              "    .dataframe thead th {\n",
              "        text-align: right;\n",
              "    }\n",
              "</style>\n",
              "<table border=\"1\" class=\"dataframe\">\n",
              "  <thead>\n",
              "    <tr style=\"text-align: right;\">\n",
              "      <th></th>\n",
              "      <th>Unnamed: 0</th>\n",
              "      <th>Unnamed: 0.1</th>\n",
              "      <th>Unnamed: 0.1.1</th>\n",
              "      <th>paper_id</th>\n",
              "      <th>doi</th>\n",
              "      <th>abstract</th>\n",
              "      <th>body_text</th>\n",
              "      <th>authors</th>\n",
              "      <th>title</th>\n",
              "      <th>journal</th>\n",
              "      <th>abstract_summary</th>\n",
              "      <th>abstract_word_count</th>\n",
              "      <th>body_word_count</th>\n",
              "      <th>body_unique_words</th>\n",
              "      <th>language</th>\n",
              "      <th>count_transmission</th>\n",
              "      <th>count_incubation</th>\n",
              "      <th>count_virus shedding</th>\n",
              "      <th>count_shedding virus</th>\n",
              "      <th>count_environmental stability</th>\n",
              "      <th>count_spread</th>\n",
              "      <th>count_spillover</th>\n",
              "      <th>count_contact</th>\n",
              "      <th>count_transmit</th>\n",
              "      <th>count_dissemination</th>\n",
              "      <th>count_spreading</th>\n",
              "      <th>count_movement</th>\n",
              "      <th>count_importation</th>\n",
              "      <th>count_exposure</th>\n",
              "      <th>count_transmissibility</th>\n",
              "      <th>keywords_sum</th>\n",
              "      <th>label</th>\n",
              "    </tr>\n",
              "  </thead>\n",
              "  <tbody>\n",
              "    <tr>\n",
              "      <th>0</th>\n",
              "      <td>0</td>\n",
              "      <td>0</td>\n",
              "      <td>0</td>\n",
              "      <td>0001418189999fea7f7cbe3e82703d71c85a6fe5</td>\n",
              "      <td>10.1016/j.vetmic.2006.11.026</td>\n",
              "      <td>Feline infectious peritonitis virus (FIPV) pos...</td>\n",
              "      <td>Feline infectious peritonitis FIP is a fatal c...</td>\n",
              "      <td>Cornelissen, E..  Dewerchin, H. L..  Van Hamm...</td>\n",
              "      <td>Absence of surface expression of feline&lt;br&gt;in...</td>\n",
              "      <td>Veterinary Microbiology</td>\n",
              "      <td>Feline infectious peritonitis virus (FIPV)&lt;br...</td>\n",
              "      <td>165</td>\n",
              "      <td>2071</td>\n",
              "      <td>756</td>\n",
              "      <td>en</td>\n",
              "      <td>0</td>\n",
              "      <td>0</td>\n",
              "      <td>0</td>\n",
              "      <td>0</td>\n",
              "      <td>0</td>\n",
              "      <td>0</td>\n",
              "      <td>0</td>\n",
              "      <td>0</td>\n",
              "      <td>0</td>\n",
              "      <td>0</td>\n",
              "      <td>0</td>\n",
              "      <td>0</td>\n",
              "      <td>0</td>\n",
              "      <td>0</td>\n",
              "      <td>0</td>\n",
              "      <td>0.000000</td>\n",
              "      <td>0.0</td>\n",
              "    </tr>\n",
              "    <tr>\n",
              "      <th>1</th>\n",
              "      <td>1</td>\n",
              "      <td>2</td>\n",
              "      <td>2</td>\n",
              "      <td>00039b94e6cb7609ecbddee1755314bcfeb77faa</td>\n",
              "      <td>10.1111/j.1365-2249.2004.02415.x</td>\n",
              "      <td>Severe acute respiratory syndrome (SARS) is a ...</td>\n",
              "      <td>Severe acute respiratory syndrome SARS is a re...</td>\n",
              "      <td>WONG, C K.  LAM, C W K.  WU, A K L.  IP, W K....</td>\n",
              "      <td>Plasma inflammatory cytokines and chemokines&lt;...</td>\n",
              "      <td>Clinical &amp; Experimental Immunology</td>\n",
              "      <td>Severe acute respiratory syndrome (SARS) is a...</td>\n",
              "      <td>179</td>\n",
              "      <td>2822</td>\n",
              "      <td>1103</td>\n",
              "      <td>en</td>\n",
              "      <td>0</td>\n",
              "      <td>1</td>\n",
              "      <td>0</td>\n",
              "      <td>0</td>\n",
              "      <td>0</td>\n",
              "      <td>0</td>\n",
              "      <td>0</td>\n",
              "      <td>1</td>\n",
              "      <td>0</td>\n",
              "      <td>0</td>\n",
              "      <td>0</td>\n",
              "      <td>0</td>\n",
              "      <td>0</td>\n",
              "      <td>0</td>\n",
              "      <td>0</td>\n",
              "      <td>1.603500</td>\n",
              "      <td>NaN</td>\n",
              "    </tr>\n",
              "    <tr>\n",
              "      <th>2</th>\n",
              "      <td>2</td>\n",
              "      <td>4</td>\n",
              "      <td>4</td>\n",
              "      <td>0004456994f6c1d5db7327990386d33c01cff32a</td>\n",
              "      <td>10.1186/1471-2334-10-8</td>\n",
              "      <td>Background: Influenza immunisation for healthc...</td>\n",
              "      <td>The German standing commission for immunisatio...</td>\n",
              "      <td>Williams, Chris J.  Schweiger, Brunhilde. &lt;br...</td>\n",
              "      <td>Seasonal influenza risk in hospital&lt;br&gt;health...</td>\n",
              "      <td>BMC Infect Dis</td>\n",
              "      <td>Background: Influenza immunisation for&lt;br&gt;hea...</td>\n",
              "      <td>365</td>\n",
              "      <td>4414</td>\n",
              "      <td>1396</td>\n",
              "      <td>en</td>\n",
              "      <td>3</td>\n",
              "      <td>0</td>\n",
              "      <td>0</td>\n",
              "      <td>0</td>\n",
              "      <td>0</td>\n",
              "      <td>0</td>\n",
              "      <td>0</td>\n",
              "      <td>12</td>\n",
              "      <td>2</td>\n",
              "      <td>0</td>\n",
              "      <td>0</td>\n",
              "      <td>0</td>\n",
              "      <td>0</td>\n",
              "      <td>7</td>\n",
              "      <td>0</td>\n",
              "      <td>15.251432</td>\n",
              "      <td>NaN</td>\n",
              "    </tr>\n",
              "    <tr>\n",
              "      <th>3</th>\n",
              "      <td>3</td>\n",
              "      <td>7</td>\n",
              "      <td>7</td>\n",
              "      <td>00073cb65dd2596249230fab8b15a71c4a135895</td>\n",
              "      <td>10.1086/605034</td>\n",
              "      <td>A clinical picture of patients with acute resp...</td>\n",
              "      <td>Since then many clinical case reports have bee...</td>\n",
              "      <td>Kawachi, Shoji.  Luong, San Thi.  Shigematsu,...</td>\n",
              "      <td>Risk Parameters of Fulminant Acute&lt;br&gt;Respira...</td>\n",
              "      <td>J Infect Dis</td>\n",
              "      <td>A clinical picture of patients with acute&lt;br&gt;...</td>\n",
              "      <td>255</td>\n",
              "      <td>1653</td>\n",
              "      <td>649</td>\n",
              "      <td>en</td>\n",
              "      <td>0</td>\n",
              "      <td>0</td>\n",
              "      <td>0</td>\n",
              "      <td>0</td>\n",
              "      <td>0</td>\n",
              "      <td>0</td>\n",
              "      <td>0</td>\n",
              "      <td>1</td>\n",
              "      <td>0</td>\n",
              "      <td>0</td>\n",
              "      <td>0</td>\n",
              "      <td>0</td>\n",
              "      <td>0</td>\n",
              "      <td>0</td>\n",
              "      <td>0</td>\n",
              "      <td>0.603500</td>\n",
              "      <td>NaN</td>\n",
              "    </tr>\n",
              "    <tr>\n",
              "      <th>4</th>\n",
              "      <td>4</td>\n",
              "      <td>9</td>\n",
              "      <td>9</td>\n",
              "      <td>0008c57de475138d903f2cca7003cf1e1ad93cf4</td>\n",
              "      <td>10.1140/epje/i2018-11644-5</td>\n",
              "      <td>We study the local effect of the antimicrobial...</td>\n",
              "      <td>The effect on the cell membrane of inclusions ...</td>\n",
              "      <td>Azar, Elise.  Constantin, Doru.  Warschawski,...</td>\n",
              "      <td>The effect of gramicidin inclusions on the&lt;br...</td>\n",
              "      <td>Eur Phys J E Soft Matter</td>\n",
              "      <td>We study the local effect of the antimicrobia...</td>\n",
              "      <td>102</td>\n",
              "      <td>4383</td>\n",
              "      <td>1315</td>\n",
              "      <td>en</td>\n",
              "      <td>0</td>\n",
              "      <td>0</td>\n",
              "      <td>0</td>\n",
              "      <td>0</td>\n",
              "      <td>0</td>\n",
              "      <td>0</td>\n",
              "      <td>0</td>\n",
              "      <td>1</td>\n",
              "      <td>0</td>\n",
              "      <td>0</td>\n",
              "      <td>0</td>\n",
              "      <td>0</td>\n",
              "      <td>0</td>\n",
              "      <td>0</td>\n",
              "      <td>0</td>\n",
              "      <td>0.603500</td>\n",
              "      <td>NaN</td>\n",
              "    </tr>\n",
              "  </tbody>\n",
              "</table>\n",
              "</div>"
            ],
            "text/plain": [
              "   Unnamed: 0  Unnamed: 0.1  ...  keywords_sum label\n",
              "0           0             0  ...      0.000000   0.0\n",
              "1           1             2  ...      1.603500   NaN\n",
              "2           2             4  ...     15.251432   NaN\n",
              "3           3             7  ...      0.603500   NaN\n",
              "4           4             9  ...      0.603500   NaN\n",
              "\n",
              "[5 rows x 32 columns]"
            ]
          },
          "metadata": {
            "tags": []
          },
          "execution_count": 21
        }
      ]
    },
    {
      "cell_type": "markdown",
      "metadata": {
        "id": "jOtxm_snV-Td"
      },
      "source": [
        "#Bert Classification *Model*"
      ]
    },
    {
      "cell_type": "code",
      "metadata": {
        "id": "wTuTW1YsWDHW",
        "colab": {
          "base_uri": "https://localhost:8080/"
        },
        "outputId": "212b915b-a309-4755-de2b-95ea5001fc0b"
      },
      "source": [
        "! pip install transformers==3.5.1"
      ],
      "execution_count": null,
      "outputs": [
        {
          "output_type": "stream",
          "text": [
            "Collecting transformers==3.5.1\n",
            "\u001b[?25l  Downloading https://files.pythonhosted.org/packages/3a/83/e74092e7f24a08d751aa59b37a9fc572b2e4af3918cb66f7766c3affb1b4/transformers-3.5.1-py3-none-any.whl (1.3MB)\n",
            "\u001b[K     |████████████████████████████████| 1.3MB 13.0MB/s \n",
            "\u001b[?25hRequirement already satisfied: numpy in /usr/local/lib/python3.6/dist-packages (from transformers==3.5.1) (1.19.4)\n",
            "Requirement already satisfied: packaging in /usr/local/lib/python3.6/dist-packages (from transformers==3.5.1) (20.8)\n",
            "Collecting sacremoses\n",
            "\u001b[?25l  Downloading https://files.pythonhosted.org/packages/7d/34/09d19aff26edcc8eb2a01bed8e98f13a1537005d31e95233fd48216eed10/sacremoses-0.0.43.tar.gz (883kB)\n",
            "\u001b[K     |████████████████████████████████| 890kB 53.5MB/s \n",
            "\u001b[?25hRequirement already satisfied: protobuf in /usr/local/lib/python3.6/dist-packages (from transformers==3.5.1) (3.12.4)\n",
            "Collecting sentencepiece==0.1.91\n",
            "\u001b[?25l  Downloading https://files.pythonhosted.org/packages/d4/a4/d0a884c4300004a78cca907a6ff9a5e9fe4f090f5d95ab341c53d28cbc58/sentencepiece-0.1.91-cp36-cp36m-manylinux1_x86_64.whl (1.1MB)\n",
            "\u001b[K     |████████████████████████████████| 1.1MB 49.5MB/s \n",
            "\u001b[?25hCollecting tokenizers==0.9.3\n",
            "\u001b[?25l  Downloading https://files.pythonhosted.org/packages/4c/34/b39eb9994bc3c999270b69c9eea40ecc6f0e97991dba28282b9fd32d44ee/tokenizers-0.9.3-cp36-cp36m-manylinux1_x86_64.whl (2.9MB)\n",
            "\u001b[K     |████████████████████████████████| 2.9MB 50.8MB/s \n",
            "\u001b[?25hRequirement already satisfied: requests in /usr/local/lib/python3.6/dist-packages (from transformers==3.5.1) (2.23.0)\n",
            "Requirement already satisfied: tqdm>=4.27 in /usr/local/lib/python3.6/dist-packages (from transformers==3.5.1) (4.41.1)\n",
            "Requirement already satisfied: filelock in /usr/local/lib/python3.6/dist-packages (from transformers==3.5.1) (3.0.12)\n",
            "Requirement already satisfied: dataclasses; python_version < \"3.7\" in /usr/local/lib/python3.6/dist-packages (from transformers==3.5.1) (0.8)\n",
            "Requirement already satisfied: regex!=2019.12.17 in /usr/local/lib/python3.6/dist-packages (from transformers==3.5.1) (2019.12.20)\n",
            "Requirement already satisfied: pyparsing>=2.0.2 in /usr/local/lib/python3.6/dist-packages (from packaging->transformers==3.5.1) (2.4.7)\n",
            "Requirement already satisfied: six in /usr/local/lib/python3.6/dist-packages (from sacremoses->transformers==3.5.1) (1.15.0)\n",
            "Requirement already satisfied: click in /usr/local/lib/python3.6/dist-packages (from sacremoses->transformers==3.5.1) (7.1.2)\n",
            "Requirement already satisfied: joblib in /usr/local/lib/python3.6/dist-packages (from sacremoses->transformers==3.5.1) (1.0.0)\n",
            "Requirement already satisfied: setuptools in /usr/local/lib/python3.6/dist-packages (from protobuf->transformers==3.5.1) (51.0.0)\n",
            "Requirement already satisfied: idna<3,>=2.5 in /usr/local/lib/python3.6/dist-packages (from requests->transformers==3.5.1) (2.10)\n",
            "Requirement already satisfied: chardet<4,>=3.0.2 in /usr/local/lib/python3.6/dist-packages (from requests->transformers==3.5.1) (3.0.4)\n",
            "Requirement already satisfied: urllib3!=1.25.0,!=1.25.1,<1.26,>=1.21.1 in /usr/local/lib/python3.6/dist-packages (from requests->transformers==3.5.1) (1.24.3)\n",
            "Requirement already satisfied: certifi>=2017.4.17 in /usr/local/lib/python3.6/dist-packages (from requests->transformers==3.5.1) (2020.12.5)\n",
            "Building wheels for collected packages: sacremoses\n",
            "  Building wheel for sacremoses (setup.py) ... \u001b[?25l\u001b[?25hdone\n",
            "  Created wheel for sacremoses: filename=sacremoses-0.0.43-cp36-none-any.whl size=893261 sha256=82dfa82ee78226a57961e05319195a92de0bd1125e9d3273d59b704fe213bd28\n",
            "  Stored in directory: /root/.cache/pip/wheels/29/3c/fd/7ce5c3f0666dab31a50123635e6fb5e19ceb42ce38d4e58f45\n",
            "Successfully built sacremoses\n",
            "Installing collected packages: sacremoses, sentencepiece, tokenizers, transformers\n",
            "Successfully installed sacremoses-0.0.43 sentencepiece-0.1.91 tokenizers-0.9.3 transformers-3.5.1\n"
          ],
          "name": "stdout"
        }
      ]
    },
    {
      "cell_type": "code",
      "metadata": {
        "id": "c61WOyN3WHh9"
      },
      "source": [
        "import pandas as pd\r\n",
        "import csv\r\n",
        "import random\r\n",
        "import time\r\n",
        "import datetime\r\n",
        "from transformers import BertTokenizer\r\n",
        "from torch.utils.data import TensorDataset, random_split, DataLoader, RandomSampler, SequentialSampler\r\n",
        "from transformers import BertForSequenceClassification, AdamW, BertConfig\r\n",
        "from transformers import get_linear_schedule_with_warmup"
      ],
      "execution_count": null,
      "outputs": []
    },
    {
      "cell_type": "code",
      "metadata": {
        "id": "KU_vX1d9WKy1"
      },
      "source": [
        "def flat_accuracy(preds, labels):\r\n",
        "    pred_flat = np.argmax(preds, axis=1).flatten()\r\n",
        "    labels_flat = labels.flatten()\r\n",
        "    return np.sum(pred_flat == labels_flat) / len(labels_flat)\r\n",
        "\r\n",
        "def format_time(elapsed):\r\n",
        "    '''\r\n",
        "    Takes a time in seconds and returns a string hh:mm:ss\r\n",
        "    '''\r\n",
        "    # Round to the nearest second.\r\n",
        "    elapsed_rounded = int(round((elapsed)))\r\n",
        "    \r\n",
        "    # Format as hh:mm:ss\r\n",
        "    return str(datetime.timedelta(seconds=elapsed_rounded))"
      ],
      "execution_count": null,
      "outputs": []
    },
    {
      "cell_type": "code",
      "metadata": {
        "id": "hdxjozlsWREX"
      },
      "source": [
        "class train_bert:\r\n",
        "    def __init__(self, training_df, context_col, label_col):\r\n",
        "        self.df = training_df\r\n",
        "        self.df[context_col] = self.df[context_col].astype('str')\r\n",
        "        self.context = self.df[context_col].values\r\n",
        "        self.label = self.df[label_col].values\r\n",
        "    \r\n",
        "    def tokenizer(self):\r\n",
        "        self.tokenizer = BertTokenizer.from_pretrained('bert-base-uncased', do_lower_case=True)\r\n",
        "        self.input_ids = []\r\n",
        "        self.attention_masks = []\r\n",
        "        for item in self.context:\r\n",
        "            self.encoded_dict = self.tokenizer.encode_plus(\r\n",
        "                    item,                      \r\n",
        "                    add_special_tokens = True, \r\n",
        "                    max_length = 300,           \r\n",
        "                    pad_to_max_length = True,\r\n",
        "                    truncation = 'longest_first',\r\n",
        "                    return_attention_mask = True,  \r\n",
        "                    return_tensors = 'pt')\r\n",
        "            self.input_ids.append(self.encoded_dict['input_ids'])\r\n",
        "            self.attention_masks.append(self.encoded_dict['attention_mask'])\r\n",
        "        self.input_ids = torch.cat(self.input_ids, dim=0)\r\n",
        "        self.attention_masks = torch.cat(self.attention_masks, dim=0)\r\n",
        "        self.label = torch.tensor(self.label)    \r\n",
        "        return self\r\n",
        "    \r\n",
        "    def data_preparation(self, train_val_ratio): \r\n",
        "        self.dataset = TensorDataset(self.input_ids, self.attention_masks, self.label)\r\n",
        "        self.train_size = int(train_val_ratio * len(self.dataset))\r\n",
        "        self.val_size = len(self.dataset) - self.train_size\r\n",
        "        self.train_dataset, self.val_dataset = random_split(self.dataset, [self.train_size, self.val_size])\r\n",
        "        print('{:>5,} training samples'.format(self.train_size))\r\n",
        "        print('{:>5,} validation samples'.format(self.val_size))\r\n",
        "        return self\r\n",
        "    \r\n",
        "    def generate_data_loader(self, batch_size):\r\n",
        "        self.batch_size = batch_size\r\n",
        "        self.train_dataloader = DataLoader(\r\n",
        "                    self.train_dataset,\r\n",
        "                    sampler = RandomSampler(self.train_dataset),\r\n",
        "                    batch_size = self.batch_size)\r\n",
        "        self.validation_dataloader = DataLoader(\r\n",
        "                    self.val_dataset,\r\n",
        "                    sampler = SequentialSampler(self.val_dataset),\r\n",
        "                    batch_size = self.batch_size)\r\n",
        "        return self\r\n",
        "    \r\n",
        "    def model(self):\r\n",
        "        self.model = BertForSequenceClassification.from_pretrained(\r\n",
        "                    'bert-base-uncased', \r\n",
        "                    num_labels = 2,  \r\n",
        "                    output_attentions = False, \r\n",
        "                    output_hidden_states = False)\r\n",
        "        self.model.cuda()\r\n",
        "        return self\r\n",
        "    \r\n",
        "    def optimizer(self):\r\n",
        "        self.optimizer = AdamW(self.model.parameters(),\r\n",
        "                  lr = 2e-5, \r\n",
        "                  eps = 1e-8\r\n",
        "                )\r\n",
        "        return self\r\n",
        "    \r\n",
        "    def scheduler(self, epochs):\r\n",
        "        self.epochs = epochs\r\n",
        "        self.total_steps = len(self.train_dataloader) * self.epochs\r\n",
        "        self.scheduler = get_linear_schedule_with_warmup(\r\n",
        "                    self.optimizer, \r\n",
        "                    num_warmup_steps = 0,\r\n",
        "                    num_training_steps = self.total_steps)\r\n",
        "        return self\r\n",
        "    \r\n",
        "    def fine_tuning(self, seed_val):\r\n",
        "        self.seed_val = seed_val\r\n",
        "        random.seed(self.seed_val)\r\n",
        "        np.random.seed(self.seed_val)\r\n",
        "        torch.manual_seed(self.seed_val)\r\n",
        "        torch.cuda.manual_seed_all(self.seed_val)\r\n",
        "        self.training_stats = []\r\n",
        "        self.total_t0 = time.time()\r\n",
        "        for epoch_i in range(0, self.epochs):\r\n",
        "            print(\"\")\r\n",
        "            print('======== Epoch {:} / {:} ========'.format(epoch_i + 1, self.epochs))\r\n",
        "            print('Training...')\r\n",
        "            self.t0 = time.time()\r\n",
        "            self.total_train_loss = 0\r\n",
        "            self.model.train()\r\n",
        "            \r\n",
        "            for step, batch in enumerate(self.train_dataloader):\r\n",
        "                if step % 40 == 0 and not step == 0:\r\n",
        "                    self.elapsed = format_time(time.time() - self.t0)\r\n",
        "                    print('  Batch {:>5,}  of  {:>5,}.    Elapsed: {:}.'.format(step, len(self.train_dataloader), self.elapsed))\r\n",
        "                self.b_input_ids = batch[0].to(device)\r\n",
        "                self.b_input_mask = batch[1].to(device)\r\n",
        "                self.b_labels = batch[2].to(device)\r\n",
        "                self.model.zero_grad()        \r\n",
        "\r\n",
        "                self.loss, self.logits = self.model(self.b_input_ids, \r\n",
        "                             token_type_ids=None, \r\n",
        "                             attention_mask=self.b_input_mask, \r\n",
        "                             labels=self.b_labels)\r\n",
        "                self.total_train_loss += self.loss.item()\r\n",
        "                self.loss.backward()\r\n",
        "                torch.nn.utils.clip_grad_norm_(self.model.parameters(), 1.0)\r\n",
        "                self.optimizer.step()\r\n",
        "                self.scheduler.step()\r\n",
        "            self.avg_train_loss = self.total_train_loss / len(self.train_dataloader)        \r\n",
        "            self.training_time = format_time(time.time() - self.t0)\r\n",
        "            print(\"\")\r\n",
        "            print(\"  Average training loss: {0:.2f}\".format(self.avg_train_loss))\r\n",
        "            print(\"  Training epcoh took: {:}\".format(self.training_time))\r\n",
        "\r\n",
        "            print(\"\")\r\n",
        "            print(\"Running Validation...\")\r\n",
        "\r\n",
        "            self.t0 = time.time()\r\n",
        "            self.model.eval()\r\n",
        "\r\n",
        "            self.total_eval_accuracy = 0\r\n",
        "            self.total_eval_loss = 0\r\n",
        "            self.nb_eval_steps = 0\r\n",
        "\r\n",
        "            for batch in self.validation_dataloader:\r\n",
        "                self.b_input_ids = batch[0].to(device)\r\n",
        "                self.b_input_mask = batch[1].to(device)\r\n",
        "                self.b_labels = batch[2].to(device)\r\n",
        "                with torch.no_grad():\r\n",
        "                    (self.loss, self.logits) = self.model(self.b_input_ids, \r\n",
        "                                   token_type_ids=None, \r\n",
        "                                   attention_mask=self.b_input_mask,\r\n",
        "                                   labels=self.b_labels)\r\n",
        "                self.total_eval_loss += self.loss.item()\r\n",
        "                self.logits = self.logits.detach().cpu().numpy()\r\n",
        "                self.label_ids = self.b_labels.to('cpu').numpy()\r\n",
        "                self.total_eval_accuracy += flat_accuracy(self.logits, self.label_ids)\r\n",
        "            self.avg_val_accuracy = self.total_eval_accuracy / len(self.validation_dataloader)\r\n",
        "            print(\"  Accuracy: {0:.3f}\".format(self.avg_val_accuracy))\r\n",
        "            self.avg_val_loss = self.total_eval_loss / len(self.validation_dataloader)\r\n",
        "            self.validation_time = format_time(time.time() - self.t0)\r\n",
        "            print(\"  Validation Loss: {0:.3f}\".format(self.avg_val_loss))\r\n",
        "            print(\"  Validation took: {:}\".format(self.validation_time))\r\n",
        "            self.training_stats.append(\r\n",
        "                {\r\n",
        "            'epoch': epoch_i + 1,\r\n",
        "            'Training Loss': self.avg_train_loss,\r\n",
        "            'Valid. Loss': self.avg_val_loss,\r\n",
        "            'Valid. Accur.': self.avg_val_accuracy,\r\n",
        "            'Training Time': self.training_time,\r\n",
        "            'Validation Time': self.validation_time\r\n",
        "                }\r\n",
        "            )\r\n",
        "        \r\n",
        "        print(\"\")\r\n",
        "        print(\"Training complete!\")\r\n",
        "        print(\"Total training took {:} (h:mm:ss)\".format(format_time(time.time()- self.total_t0)))\r\n",
        "        return self\r\n",
        "    \r\n",
        "    def save_model(self, file_name):\r\n",
        "        self.file_name = file_name\r\n",
        "        torch.save(self.model, self.file_name)"
      ],
      "execution_count": null,
      "outputs": []
    },
    {
      "cell_type": "code",
      "metadata": {
        "id": "EQmxCGzIWWqb",
        "colab": {
          "base_uri": "https://localhost:8080/",
          "height": 1000,
          "referenced_widgets": [
            "446eb73c3a1f4da183cc5412a6502076",
            "f1985ba94266464d83caeb9d7e216ac0",
            "fe31aaa4726d436da5872811ea0bf73a",
            "2d3a1323f3c747fe9d77d7fe69b9c59b",
            "176802e2c63f46f6a820ab5d68899871",
            "87dde1d5dd25467ab8a4eb34b12c5404",
            "4e8861482a3d4b2a8e11e2ad650e3ce5",
            "48b4df83699448fdbe7a4aca990d961d",
            "b5aa4cf62871441ba658b5226e36d41b",
            "c1a2f65a5790452daa2dd848f19b98da",
            "ebe1b219b4cb4bba8eb68cd6f59291e3",
            "20bdb8919ca749a1869480cabab18a48",
            "80d953fef66643a2ac40bad050693d27",
            "ab4e68084e144a98952e336e26a1f77e",
            "c623b86e2d1e4b00a7dd4f4023ddb95c",
            "c62b85fe7af84838b0ae3e309efe8d87",
            "3d50f8dd0b5144509da7f3151e046bc2",
            "e49da5d5e093459f8c647d0180c92ea3",
            "e66df34851cb4cf6b919f120547d2d4b",
            "76780c233ddd4c45a25336cf5ee9e343",
            "add53a00d1794942b61cc98be7dae988",
            "d950589538eb48fc83645e3a8e024ac2",
            "5c7679b9e9f44870b5a4bff811a3a223",
            "f32a87c0741e4c008969958b29b07a51"
          ]
        },
        "outputId": "4e8b5040-bc38-4448-c1ee-ff5a783a18a3"
      },
      "source": [
        "df = pd.read_csv('/content/training_set_threshold_3.csv', engine = 'python', sep= ',', header=0)\r\n",
        "bert = train_bert(df, 'abstract', 'label' )\r\n",
        "token = bert.tokenizer().data_preparation(0.9).generate_data_loader(16).model().optimizer().scheduler(2).fine_tuning(42)"
      ],
      "execution_count": null,
      "outputs": [
        {
          "output_type": "stream",
          "text": [
            "2020-12-31 18:18:48,043 : INFO : Lock 139815325679456 acquired on /root/.cache/torch/transformers/45c3f7a79a80e1cf0a489e5c62b43f173c15db47864303a55d623bb3c96f72a5.d789d64ebfe299b0e416afc4a169632f903f693095b4629a7ea271d5a0cf2c99.lock\n"
          ],
          "name": "stderr"
        },
        {
          "output_type": "display_data",
          "data": {
            "application/vnd.jupyter.widget-view+json": {
              "model_id": "446eb73c3a1f4da183cc5412a6502076",
              "version_minor": 0,
              "version_major": 2
            },
            "text/plain": [
              "HBox(children=(FloatProgress(value=0.0, description='Downloading', max=231508.0, style=ProgressStyle(descripti…"
            ]
          },
          "metadata": {
            "tags": []
          }
        },
        {
          "output_type": "stream",
          "text": [
            "2020-12-31 18:18:48,110 : INFO : Lock 139815325679456 released on /root/.cache/torch/transformers/45c3f7a79a80e1cf0a489e5c62b43f173c15db47864303a55d623bb3c96f72a5.d789d64ebfe299b0e416afc4a169632f903f693095b4629a7ea271d5a0cf2c99.lock\n",
            "/usr/local/lib/python3.6/dist-packages/transformers/tokenization_utils_base.py:2022: FutureWarning: The `pad_to_max_length` argument is deprecated and will be removed in a future version, use `padding=True` or `padding='longest'` to pad to the longest sequence in the batch, or use `padding='max_length'` to pad to a max length. In this case, you can give a specific length with `max_length` (e.g. `max_length=45`) or leave max_length to None to pad to the maximal input size of the model (e.g. 512 for Bert).\n",
            "  FutureWarning,\n"
          ],
          "name": "stderr"
        },
        {
          "output_type": "stream",
          "text": [
            "\n"
          ],
          "name": "stdout"
        },
        {
          "output_type": "stream",
          "text": [
            "2020-12-31 18:20:39,850 : INFO : Lock 139810179666552 acquired on /root/.cache/torch/transformers/3c61d016573b14f7f008c02c4e51a366c67ab274726fe2910691e2a761acf43e.637c6035640bacb831febcc2b7f7bee0a96f9b30c2d7e9ef84082d9f252f3170.lock\n"
          ],
          "name": "stderr"
        },
        {
          "output_type": "stream",
          "text": [
            "21,370 training samples\n",
            "2,375 validation samples\n"
          ],
          "name": "stdout"
        },
        {
          "output_type": "display_data",
          "data": {
            "application/vnd.jupyter.widget-view+json": {
              "model_id": "b5aa4cf62871441ba658b5226e36d41b",
              "version_minor": 0,
              "version_major": 2
            },
            "text/plain": [
              "HBox(children=(FloatProgress(value=0.0, description='Downloading', max=433.0, style=ProgressStyle(description_…"
            ]
          },
          "metadata": {
            "tags": []
          }
        },
        {
          "output_type": "stream",
          "text": [
            "2020-12-31 18:20:39,902 : INFO : Lock 139810179666552 released on /root/.cache/torch/transformers/3c61d016573b14f7f008c02c4e51a366c67ab274726fe2910691e2a761acf43e.637c6035640bacb831febcc2b7f7bee0a96f9b30c2d7e9ef84082d9f252f3170.lock\n",
            "2020-12-31 18:20:39,938 : INFO : Lock 139818805097248 acquired on /root/.cache/torch/transformers/a8041bf617d7f94ea26d15e218abd04afc2004805632abc0ed2066aa16d50d04.faf6ea826ae9c5867d12b22257f9877e6b8367890837bd60f7c54a29633f7f2f.lock\n"
          ],
          "name": "stderr"
        },
        {
          "output_type": "stream",
          "text": [
            "\n"
          ],
          "name": "stdout"
        },
        {
          "output_type": "display_data",
          "data": {
            "application/vnd.jupyter.widget-view+json": {
              "model_id": "3d50f8dd0b5144509da7f3151e046bc2",
              "version_minor": 0,
              "version_major": 2
            },
            "text/plain": [
              "HBox(children=(FloatProgress(value=0.0, description='Downloading', max=440473133.0, style=ProgressStyle(descri…"
            ]
          },
          "metadata": {
            "tags": []
          }
        },
        {
          "output_type": "stream",
          "text": [
            "2020-12-31 18:20:45,515 : INFO : Lock 139818805097248 released on /root/.cache/torch/transformers/a8041bf617d7f94ea26d15e218abd04afc2004805632abc0ed2066aa16d50d04.faf6ea826ae9c5867d12b22257f9877e6b8367890837bd60f7c54a29633f7f2f.lock\n"
          ],
          "name": "stderr"
        },
        {
          "output_type": "stream",
          "text": [
            "\n"
          ],
          "name": "stdout"
        },
        {
          "output_type": "stream",
          "text": [
            "Some weights of the model checkpoint at bert-base-uncased were not used when initializing BertForSequenceClassification: ['cls.predictions.bias', 'cls.predictions.transform.dense.weight', 'cls.predictions.transform.dense.bias', 'cls.predictions.decoder.weight', 'cls.seq_relationship.weight', 'cls.seq_relationship.bias', 'cls.predictions.transform.LayerNorm.weight', 'cls.predictions.transform.LayerNorm.bias']\n",
            "- This IS expected if you are initializing BertForSequenceClassification from the checkpoint of a model trained on another task or with another architecture (e.g. initializing a BertForSequenceClassification model from a BertForPreTraining model).\n",
            "- This IS NOT expected if you are initializing BertForSequenceClassification from the checkpoint of a model that you expect to be exactly identical (initializing a BertForSequenceClassification model from a BertForSequenceClassification model).\n",
            "Some weights of BertForSequenceClassification were not initialized from the model checkpoint at bert-base-uncased and are newly initialized: ['classifier.weight', 'classifier.bias']\n",
            "You should probably TRAIN this model on a down-stream task to be able to use it for predictions and inference.\n"
          ],
          "name": "stderr"
        },
        {
          "output_type": "stream",
          "text": [
            "\n",
            "======== Epoch 1 / 2 ========\n",
            "Training...\n",
            "  Batch    40  of  1,336.    Elapsed: 0:00:34.\n",
            "  Batch    80  of  1,336.    Elapsed: 0:01:09.\n",
            "  Batch   120  of  1,336.    Elapsed: 0:01:46.\n",
            "  Batch   160  of  1,336.    Elapsed: 0:02:25.\n",
            "  Batch   200  of  1,336.    Elapsed: 0:03:03.\n",
            "  Batch   240  of  1,336.    Elapsed: 0:03:41.\n",
            "  Batch   280  of  1,336.    Elapsed: 0:04:20.\n",
            "  Batch   320  of  1,336.    Elapsed: 0:04:58.\n",
            "  Batch   360  of  1,336.    Elapsed: 0:05:36.\n",
            "  Batch   400  of  1,336.    Elapsed: 0:06:15.\n",
            "  Batch   440  of  1,336.    Elapsed: 0:06:53.\n",
            "  Batch   480  of  1,336.    Elapsed: 0:07:31.\n",
            "  Batch   520  of  1,336.    Elapsed: 0:08:10.\n",
            "  Batch   560  of  1,336.    Elapsed: 0:08:48.\n",
            "  Batch   600  of  1,336.    Elapsed: 0:09:27.\n",
            "  Batch   640  of  1,336.    Elapsed: 0:10:05.\n",
            "  Batch   680  of  1,336.    Elapsed: 0:10:43.\n",
            "  Batch   720  of  1,336.    Elapsed: 0:11:22.\n",
            "  Batch   760  of  1,336.    Elapsed: 0:12:00.\n",
            "  Batch   800  of  1,336.    Elapsed: 0:12:39.\n",
            "  Batch   840  of  1,336.    Elapsed: 0:13:17.\n",
            "  Batch   880  of  1,336.    Elapsed: 0:13:55.\n",
            "  Batch   920  of  1,336.    Elapsed: 0:14:34.\n",
            "  Batch   960  of  1,336.    Elapsed: 0:15:12.\n",
            "  Batch 1,000  of  1,336.    Elapsed: 0:15:50.\n",
            "  Batch 1,040  of  1,336.    Elapsed: 0:16:29.\n",
            "  Batch 1,080  of  1,336.    Elapsed: 0:17:07.\n",
            "  Batch 1,120  of  1,336.    Elapsed: 0:17:46.\n",
            "  Batch 1,160  of  1,336.    Elapsed: 0:18:24.\n",
            "  Batch 1,200  of  1,336.    Elapsed: 0:19:02.\n",
            "  Batch 1,240  of  1,336.    Elapsed: 0:19:40.\n",
            "  Batch 1,280  of  1,336.    Elapsed: 0:20:19.\n",
            "  Batch 1,320  of  1,336.    Elapsed: 0:20:57.\n",
            "\n",
            "  Average training loss: 0.05\n",
            "  Training epcoh took: 0:21:12\n",
            "\n",
            "Running Validation...\n",
            "  Accuracy: 0.999\n",
            "  Validation Loss: 0.006\n",
            "  Validation took: 0:00:50\n",
            "\n",
            "======== Epoch 2 / 2 ========\n",
            "Training...\n",
            "  Batch    40  of  1,336.    Elapsed: 0:00:38.\n",
            "  Batch    80  of  1,336.    Elapsed: 0:01:17.\n",
            "  Batch   120  of  1,336.    Elapsed: 0:01:55.\n",
            "  Batch   160  of  1,336.    Elapsed: 0:02:34.\n",
            "  Batch   200  of  1,336.    Elapsed: 0:03:12.\n",
            "  Batch   240  of  1,336.    Elapsed: 0:03:50.\n",
            "  Batch   280  of  1,336.    Elapsed: 0:04:29.\n",
            "  Batch   320  of  1,336.    Elapsed: 0:05:07.\n",
            "  Batch   360  of  1,336.    Elapsed: 0:05:45.\n",
            "  Batch   400  of  1,336.    Elapsed: 0:06:24.\n",
            "  Batch   440  of  1,336.    Elapsed: 0:07:02.\n",
            "  Batch   480  of  1,336.    Elapsed: 0:07:40.\n",
            "  Batch   520  of  1,336.    Elapsed: 0:08:19.\n",
            "  Batch   560  of  1,336.    Elapsed: 0:08:57.\n",
            "  Batch   600  of  1,336.    Elapsed: 0:09:35.\n",
            "  Batch   640  of  1,336.    Elapsed: 0:10:13.\n",
            "  Batch   680  of  1,336.    Elapsed: 0:10:52.\n",
            "  Batch   720  of  1,336.    Elapsed: 0:11:30.\n",
            "  Batch   760  of  1,336.    Elapsed: 0:12:09.\n",
            "  Batch   800  of  1,336.    Elapsed: 0:12:47.\n",
            "  Batch   840  of  1,336.    Elapsed: 0:13:25.\n",
            "  Batch   880  of  1,336.    Elapsed: 0:14:04.\n",
            "  Batch   920  of  1,336.    Elapsed: 0:14:42.\n",
            "  Batch   960  of  1,336.    Elapsed: 0:15:20.\n",
            "  Batch 1,000  of  1,336.    Elapsed: 0:15:59.\n",
            "  Batch 1,040  of  1,336.    Elapsed: 0:16:37.\n",
            "  Batch 1,080  of  1,336.    Elapsed: 0:17:16.\n",
            "  Batch 1,120  of  1,336.    Elapsed: 0:17:54.\n",
            "  Batch 1,160  of  1,336.    Elapsed: 0:18:32.\n",
            "  Batch 1,200  of  1,336.    Elapsed: 0:19:11.\n",
            "  Batch 1,240  of  1,336.    Elapsed: 0:19:49.\n",
            "  Batch 1,280  of  1,336.    Elapsed: 0:20:27.\n",
            "  Batch 1,320  of  1,336.    Elapsed: 0:21:06.\n",
            "\n",
            "  Average training loss: 0.01\n",
            "  Training epcoh took: 0:21:21\n",
            "\n",
            "Running Validation...\n",
            "  Accuracy: 0.999\n",
            "  Validation Loss: 0.004\n",
            "  Validation took: 0:00:50\n",
            "\n",
            "Training complete!\n",
            "Total training took 0:44:13 (h:mm:ss)\n"
          ],
          "name": "stdout"
        }
      ]
    },
    {
      "cell_type": "code",
      "metadata": {
        "id": "fKPXAorglzZ_"
      },
      "source": [
        "token.save_model('bert_model_3')"
      ],
      "execution_count": null,
      "outputs": []
    },
    {
      "cell_type": "code",
      "metadata": {
        "id": "2ET0XPbxlzaC"
      },
      "source": [
        "model_train = torch.load('/content/bert_model_3')"
      ],
      "execution_count": null,
      "outputs": []
    },
    {
      "cell_type": "code",
      "metadata": {
        "id": "0o0zq37zlzaE"
      },
      "source": [
        "test_df = pd.read_csv('/content/body_text_with_keywords_freq_38.csv')"
      ],
      "execution_count": null,
      "outputs": []
    },
    {
      "cell_type": "code",
      "metadata": {
        "id": "MR0MntekW503",
        "colab": {
          "base_uri": "https://localhost:8080/"
        },
        "outputId": "41881b49-34a3-414c-ecf0-bf031b5b08c5"
      },
      "source": [
        "test_df.info()"
      ],
      "execution_count": null,
      "outputs": [
        {
          "output_type": "stream",
          "text": [
            "<class 'pandas.core.frame.DataFrame'>\n",
            "RangeIndex: 38367 entries, 0 to 38366\n",
            "Data columns (total 32 columns):\n",
            " #   Column                         Non-Null Count  Dtype  \n",
            "---  ------                         --------------  -----  \n",
            " 0   Unnamed: 0                     38367 non-null  int64  \n",
            " 1   Unnamed: 0.1                   38367 non-null  int64  \n",
            " 2   Unnamed: 0.1.1                 38367 non-null  int64  \n",
            " 3   paper_id                       38367 non-null  object \n",
            " 4   doi                            38367 non-null  object \n",
            " 5   abstract                       38367 non-null  object \n",
            " 6   body_text                      38367 non-null  object \n",
            " 7   authors                        38367 non-null  object \n",
            " 8   title                          38367 non-null  object \n",
            " 9   journal                        38367 non-null  object \n",
            " 10  abstract_summary               38367 non-null  object \n",
            " 11  abstract_word_count            38367 non-null  int64  \n",
            " 12  body_word_count                38367 non-null  int64  \n",
            " 13  body_unique_words              38367 non-null  int64  \n",
            " 14  language                       38367 non-null  object \n",
            " 15  count_transmission             38367 non-null  int64  \n",
            " 16  count_incubation               38367 non-null  int64  \n",
            " 17  count_virus shedding           38367 non-null  int64  \n",
            " 18  count_shedding virus           38367 non-null  int64  \n",
            " 19  count_environmental stability  38367 non-null  int64  \n",
            " 20  count_spread                   38367 non-null  int64  \n",
            " 21  count_spillover                38367 non-null  int64  \n",
            " 22  count_contact                  38367 non-null  int64  \n",
            " 23  count_transmit                 38367 non-null  int64  \n",
            " 24  count_dissemination            38367 non-null  int64  \n",
            " 25  count_spreading                38367 non-null  int64  \n",
            " 26  count_movement                 38367 non-null  int64  \n",
            " 27  count_importation              38367 non-null  int64  \n",
            " 28  count_exposure                 38367 non-null  int64  \n",
            " 29  count_transmissibility         38367 non-null  int64  \n",
            " 30  keywords_sum                   38367 non-null  float64\n",
            " 31  label                          10160 non-null  float64\n",
            "dtypes: float64(2), int64(21), object(9)\n",
            "memory usage: 9.4+ MB\n"
          ],
          "name": "stdout"
        }
      ]
    },
    {
      "cell_type": "code",
      "metadata": {
        "id": "G7Kd75mQW9EO"
      },
      "source": [
        " test_df= test_df[['Unnamed: 0', 'body_text', 'label']]"
      ],
      "execution_count": null,
      "outputs": []
    },
    {
      "cell_type": "code",
      "metadata": {
        "id": "fjetExEGW99U",
        "colab": {
          "base_uri": "https://localhost:8080/",
          "height": 202
        },
        "outputId": "53d3284f-6389-4f5c-fadc-93707fca9784"
      },
      "source": [
        "test_df.head()"
      ],
      "execution_count": null,
      "outputs": [
        {
          "output_type": "execute_result",
          "data": {
            "text/html": [
              "<div>\n",
              "<style scoped>\n",
              "    .dataframe tbody tr th:only-of-type {\n",
              "        vertical-align: middle;\n",
              "    }\n",
              "\n",
              "    .dataframe tbody tr th {\n",
              "        vertical-align: top;\n",
              "    }\n",
              "\n",
              "    .dataframe thead th {\n",
              "        text-align: right;\n",
              "    }\n",
              "</style>\n",
              "<table border=\"1\" class=\"dataframe\">\n",
              "  <thead>\n",
              "    <tr style=\"text-align: right;\">\n",
              "      <th></th>\n",
              "      <th>Unnamed: 0</th>\n",
              "      <th>body_text</th>\n",
              "      <th>label</th>\n",
              "    </tr>\n",
              "  </thead>\n",
              "  <tbody>\n",
              "    <tr>\n",
              "      <th>0</th>\n",
              "      <td>0</td>\n",
              "      <td>Feline infectious peritonitis FIP is a fatal c...</td>\n",
              "      <td>0.0</td>\n",
              "    </tr>\n",
              "    <tr>\n",
              "      <th>1</th>\n",
              "      <td>1</td>\n",
              "      <td>Severe acute respiratory syndrome SARS is a re...</td>\n",
              "      <td>NaN</td>\n",
              "    </tr>\n",
              "    <tr>\n",
              "      <th>2</th>\n",
              "      <td>2</td>\n",
              "      <td>The German standing commission for immunisatio...</td>\n",
              "      <td>NaN</td>\n",
              "    </tr>\n",
              "    <tr>\n",
              "      <th>3</th>\n",
              "      <td>3</td>\n",
              "      <td>Since then many clinical case reports have bee...</td>\n",
              "      <td>NaN</td>\n",
              "    </tr>\n",
              "    <tr>\n",
              "      <th>4</th>\n",
              "      <td>4</td>\n",
              "      <td>The effect on the cell membrane of inclusions ...</td>\n",
              "      <td>NaN</td>\n",
              "    </tr>\n",
              "  </tbody>\n",
              "</table>\n",
              "</div>"
            ],
            "text/plain": [
              "   Unnamed: 0                                          body_text  label\n",
              "0           0  Feline infectious peritonitis FIP is a fatal c...    0.0\n",
              "1           1  Severe acute respiratory syndrome SARS is a re...    NaN\n",
              "2           2  The German standing commission for immunisatio...    NaN\n",
              "3           3  Since then many clinical case reports have bee...    NaN\n",
              "4           4  The effect on the cell membrane of inclusions ...    NaN"
            ]
          },
          "metadata": {
            "tags": []
          },
          "execution_count": 33
        }
      ]
    },
    {
      "cell_type": "code",
      "metadata": {
        "id": "xss7PqYFXBxw"
      },
      "source": [
        "test_df = test_df.dropna(how = 'any',axis=0)"
      ],
      "execution_count": null,
      "outputs": []
    },
    {
      "cell_type": "code",
      "metadata": {
        "id": "IN2Oa89-XD6W",
        "colab": {
          "base_uri": "https://localhost:8080/",
          "height": 415
        },
        "outputId": "ba0a0f7c-7569-483a-da05-51f9919dcbeb"
      },
      "source": [
        "test_df.isnull()"
      ],
      "execution_count": null,
      "outputs": [
        {
          "output_type": "execute_result",
          "data": {
            "text/html": [
              "<div>\n",
              "<style scoped>\n",
              "    .dataframe tbody tr th:only-of-type {\n",
              "        vertical-align: middle;\n",
              "    }\n",
              "\n",
              "    .dataframe tbody tr th {\n",
              "        vertical-align: top;\n",
              "    }\n",
              "\n",
              "    .dataframe thead th {\n",
              "        text-align: right;\n",
              "    }\n",
              "</style>\n",
              "<table border=\"1\" class=\"dataframe\">\n",
              "  <thead>\n",
              "    <tr style=\"text-align: right;\">\n",
              "      <th></th>\n",
              "      <th>Unnamed: 0</th>\n",
              "      <th>body_text</th>\n",
              "      <th>label</th>\n",
              "    </tr>\n",
              "  </thead>\n",
              "  <tbody>\n",
              "    <tr>\n",
              "      <th>0</th>\n",
              "      <td>False</td>\n",
              "      <td>False</td>\n",
              "      <td>False</td>\n",
              "    </tr>\n",
              "    <tr>\n",
              "      <th>9</th>\n",
              "      <td>False</td>\n",
              "      <td>False</td>\n",
              "      <td>False</td>\n",
              "    </tr>\n",
              "    <tr>\n",
              "      <th>11</th>\n",
              "      <td>False</td>\n",
              "      <td>False</td>\n",
              "      <td>False</td>\n",
              "    </tr>\n",
              "    <tr>\n",
              "      <th>14</th>\n",
              "      <td>False</td>\n",
              "      <td>False</td>\n",
              "      <td>False</td>\n",
              "    </tr>\n",
              "    <tr>\n",
              "      <th>15</th>\n",
              "      <td>False</td>\n",
              "      <td>False</td>\n",
              "      <td>False</td>\n",
              "    </tr>\n",
              "    <tr>\n",
              "      <th>...</th>\n",
              "      <td>...</td>\n",
              "      <td>...</td>\n",
              "      <td>...</td>\n",
              "    </tr>\n",
              "    <tr>\n",
              "      <th>38347</th>\n",
              "      <td>False</td>\n",
              "      <td>False</td>\n",
              "      <td>False</td>\n",
              "    </tr>\n",
              "    <tr>\n",
              "      <th>38357</th>\n",
              "      <td>False</td>\n",
              "      <td>False</td>\n",
              "      <td>False</td>\n",
              "    </tr>\n",
              "    <tr>\n",
              "      <th>38361</th>\n",
              "      <td>False</td>\n",
              "      <td>False</td>\n",
              "      <td>False</td>\n",
              "    </tr>\n",
              "    <tr>\n",
              "      <th>38364</th>\n",
              "      <td>False</td>\n",
              "      <td>False</td>\n",
              "      <td>False</td>\n",
              "    </tr>\n",
              "    <tr>\n",
              "      <th>38365</th>\n",
              "      <td>False</td>\n",
              "      <td>False</td>\n",
              "      <td>False</td>\n",
              "    </tr>\n",
              "  </tbody>\n",
              "</table>\n",
              "<p>10160 rows × 3 columns</p>\n",
              "</div>"
            ],
            "text/plain": [
              "       Unnamed: 0  body_text  label\n",
              "0           False      False  False\n",
              "9           False      False  False\n",
              "11          False      False  False\n",
              "14          False      False  False\n",
              "15          False      False  False\n",
              "...           ...        ...    ...\n",
              "38347       False      False  False\n",
              "38357       False      False  False\n",
              "38361       False      False  False\n",
              "38364       False      False  False\n",
              "38365       False      False  False\n",
              "\n",
              "[10160 rows x 3 columns]"
            ]
          },
          "metadata": {
            "tags": []
          },
          "execution_count": 35
        }
      ]
    },
    {
      "cell_type": "code",
      "metadata": {
        "id": "u0h0G2PJXG6V",
        "colab": {
          "base_uri": "https://localhost:8080/",
          "height": 202
        },
        "outputId": "e9f8f78b-438a-4180-fa90-17e8b089f40b"
      },
      "source": [
        "test_df.head()"
      ],
      "execution_count": null,
      "outputs": [
        {
          "output_type": "execute_result",
          "data": {
            "text/html": [
              "<div>\n",
              "<style scoped>\n",
              "    .dataframe tbody tr th:only-of-type {\n",
              "        vertical-align: middle;\n",
              "    }\n",
              "\n",
              "    .dataframe tbody tr th {\n",
              "        vertical-align: top;\n",
              "    }\n",
              "\n",
              "    .dataframe thead th {\n",
              "        text-align: right;\n",
              "    }\n",
              "</style>\n",
              "<table border=\"1\" class=\"dataframe\">\n",
              "  <thead>\n",
              "    <tr style=\"text-align: right;\">\n",
              "      <th></th>\n",
              "      <th>Unnamed: 0</th>\n",
              "      <th>body_text</th>\n",
              "      <th>label</th>\n",
              "    </tr>\n",
              "  </thead>\n",
              "  <tbody>\n",
              "    <tr>\n",
              "      <th>0</th>\n",
              "      <td>0</td>\n",
              "      <td>Feline infectious peritonitis FIP is a fatal c...</td>\n",
              "      <td>0.0</td>\n",
              "    </tr>\n",
              "    <tr>\n",
              "      <th>9</th>\n",
              "      <td>9</td>\n",
              "      <td>In contrast to the lengthy often redundant gen...</td>\n",
              "      <td>0.0</td>\n",
              "    </tr>\n",
              "    <tr>\n",
              "      <th>11</th>\n",
              "      <td>11</td>\n",
              "      <td>iNTRODUCTiON Human beings are constantly expos...</td>\n",
              "      <td>0.0</td>\n",
              "    </tr>\n",
              "    <tr>\n",
              "      <th>14</th>\n",
              "      <td>14</td>\n",
              "      <td>Heart arrhythmia is known as abnormal heart rh...</td>\n",
              "      <td>0.0</td>\n",
              "    </tr>\n",
              "    <tr>\n",
              "      <th>15</th>\n",
              "      <td>15</td>\n",
              "      <td>Feline infectious peritonitis virus FIPV famil...</td>\n",
              "      <td>0.0</td>\n",
              "    </tr>\n",
              "  </tbody>\n",
              "</table>\n",
              "</div>"
            ],
            "text/plain": [
              "    Unnamed: 0                                          body_text  label\n",
              "0            0  Feline infectious peritonitis FIP is a fatal c...    0.0\n",
              "9            9  In contrast to the lengthy often redundant gen...    0.0\n",
              "11          11  iNTRODUCTiON Human beings are constantly expos...    0.0\n",
              "14          14  Heart arrhythmia is known as abnormal heart rh...    0.0\n",
              "15          15  Feline infectious peritonitis virus FIPV famil...    0.0"
            ]
          },
          "metadata": {
            "tags": []
          },
          "execution_count": 36
        }
      ]
    },
    {
      "cell_type": "code",
      "metadata": {
        "id": "p6PXwiK1lzaG"
      },
      "source": [
        "class prediction:\n",
        "    \n",
        "    def __init__(self, test_df, context_col, label_col, model_train):\n",
        "        self.df = test_df\n",
        "        self.context_col = context_col\n",
        "        self.model_train = model_train\n",
        "        self.df[context_col] = self.df[context_col].astype('str')\n",
        "        self.context = self.df[context_col].values\n",
        "        self.label = self.df[label_col].values\n",
        "        print('Number of {}: {:,}\\n'.format(context_col, df.shape[0]))\n",
        "    \n",
        "    def test_tokenizer(self):\n",
        "        train_bert.tokenizer(self)\n",
        "        return self\n",
        "    \n",
        "    def prediction(self, batch_size):\n",
        "        self.batch_size = batch_size\n",
        "        self.prediction_data = TensorDataset(self.input_ids, self.attention_masks, self.label)\n",
        "        self.prediction_sampler = SequentialSampler(self.prediction_data)\n",
        "        self.prediction_dataloader = DataLoader(self.prediction_data, sampler=self.prediction_sampler, batch_size=self.batch_size)\n",
        "        print('Predicting labels for {:,} test {}...'.format(len(self.input_ids), self.context_col))\n",
        "        self.model_train.eval()\n",
        "        self.predictions , self.true_labels = [], []\n",
        "        for batch in self.prediction_dataloader:\n",
        "            batch = tuple(t.to(device) for t in batch)\n",
        "            self.b_input_ids, self.b_input_mask, self.b_labels = batch\n",
        "            with torch.no_grad():\n",
        "                self.outputs = self.model_train(self.b_input_ids, token_type_ids=None, \n",
        "                      attention_mask=self.b_input_mask)\n",
        "            self.logits = self.outputs[0]\n",
        "            self.logits = self.logits.detach().cpu().numpy()\n",
        "            self.label_ids = self.b_labels.to('cpu').numpy()\n",
        "            self.predictions.append(self.logits)\n",
        "            self.true_labels.append(self.label_ids)\n",
        "        print('    DONE.')\n",
        "        return self"
      ],
      "execution_count": null,
      "outputs": []
    },
    {
      "cell_type": "code",
      "metadata": {
        "id": "y8dAyRaulzaI",
        "colab": {
          "base_uri": "https://localhost:8080/"
        },
        "outputId": "ab14304a-8497-47d5-c00c-d62219208939"
      },
      "source": [
        "prediction = prediction(test_df, 'body_text', 'label', model_train).test_tokenizer().prediction(16)"
      ],
      "execution_count": null,
      "outputs": [
        {
          "output_type": "stream",
          "text": [
            "Number of body_text: 23,745\n",
            "\n"
          ],
          "name": "stdout"
        },
        {
          "output_type": "stream",
          "text": [
            "/usr/local/lib/python3.6/dist-packages/transformers/tokenization_utils_base.py:2022: FutureWarning: The `pad_to_max_length` argument is deprecated and will be removed in a future version, use `padding=True` or `padding='longest'` to pad to the longest sequence in the batch, or use `padding='max_length'` to pad to a max length. In this case, you can give a specific length with `max_length` (e.g. `max_length=45`) or leave max_length to None to pad to the maximal input size of the model (e.g. 512 for Bert).\n",
            "  FutureWarning,\n"
          ],
          "name": "stderr"
        },
        {
          "output_type": "stream",
          "text": [
            "Predicting labels for 10,160 test body_text...\n",
            "    DONE.\n"
          ],
          "name": "stdout"
        }
      ]
    },
    {
      "cell_type": "code",
      "metadata": {
        "id": "d7eLWAz7lzaK"
      },
      "source": [
        "flat_predictions = np.concatenate(prediction.predictions, axis=0)\n",
        "flat_predictions = np.argmax(flat_predictions, axis=1).flatten()\n",
        "flat_true_labels = np.concatenate(prediction.true_labels, axis=0)"
      ],
      "execution_count": null,
      "outputs": []
    },
    {
      "cell_type": "code",
      "metadata": {
        "id": "ouu3iPUolzaM",
        "colab": {
          "base_uri": "https://localhost:8080/"
        },
        "outputId": "64670dd5-9a8f-4d28-ef3f-3ad76ad6899d"
      },
      "source": [
        "# Confusion matrix for the BERT Model\n",
        "from sklearn.metrics import confusion_matrix\n",
        "cm = confusion_matrix(flat_true_labels, flat_predictions)\n",
        "print(cm)"
      ],
      "execution_count": null,
      "outputs": [
        {
          "output_type": "stream",
          "text": [
            "[[9487   10]\n",
            " [ 110  553]]\n"
          ],
          "name": "stdout"
        }
      ]
    },
    {
      "cell_type": "code",
      "metadata": {
        "id": "zWAnMoe3lzaO",
        "colab": {
          "base_uri": "https://localhost:8080/"
        },
        "outputId": "a3cc3613-a11f-450a-9bec-b445f3750a78"
      },
      "source": [
        "# Calculating the presicion and recall for the BERT Model\n",
        "tn, fp, fn, tp = confusion_matrix(flat_true_labels, flat_predictions).ravel()\n",
        "precision = tp / (tp + fp)\n",
        "recall = tp / (tp + fn)\n",
        "print('The precision is {}'.format(precision))\n",
        "print('The recall is {}'.format(recall))"
      ],
      "execution_count": null,
      "outputs": [
        {
          "output_type": "stream",
          "text": [
            "The precision is 0.9822380106571936\n",
            "The recall is 0.8340874811463047\n"
          ],
          "name": "stdout"
        }
      ]
    },
    {
      "cell_type": "code",
      "metadata": {
        "id": "84h1u2SHXy2X",
        "colab": {
          "base_uri": "https://localhost:8080/"
        },
        "outputId": "6cb03d60-1273-4e3b-b0f3-37ba87be0e1a"
      },
      "source": [
        "# Calculating the accuracy score for the BERT Model\r\n",
        "from sklearn.metrics import accuracy_score \r\n",
        "print(accuracy_score(flat_true_labels,flat_predictions))"
      ],
      "execution_count": null,
      "outputs": [
        {
          "output_type": "stream",
          "text": [
            "0.9881889763779528\n"
          ],
          "name": "stdout"
        }
      ]
    },
    {
      "cell_type": "code",
      "metadata": {
        "id": "_up34AlxYAPa",
        "colab": {
          "base_uri": "https://localhost:8080/"
        },
        "outputId": "07cdc0b1-d449-4890-a6f6-7e5392ae376d"
      },
      "source": [
        "# Importing the required libraries for generating the ROC curve\r\n",
        "from sklearn.metrics import roc_curve, roc_auc_score\r\n",
        "roc_curve(flat_true_labels,flat_predictions)"
      ],
      "execution_count": null,
      "outputs": [
        {
          "output_type": "execute_result",
          "data": {
            "text/plain": [
              "(array([0.        , 0.00105296, 1.        ]),\n",
              " array([0.        , 0.83408748, 1.        ]),\n",
              " array([2, 1, 0]))"
            ]
          },
          "metadata": {
            "tags": []
          },
          "execution_count": 43
        }
      ]
    },
    {
      "cell_type": "code",
      "metadata": {
        "id": "k-f2uH1IYM7V"
      },
      "source": [
        "fpr, tpr, thresholds = roc_curve(flat_true_labels,flat_predictions)"
      ],
      "execution_count": null,
      "outputs": []
    },
    {
      "cell_type": "code",
      "metadata": {
        "id": "rR-EOuQ3YNzR"
      },
      "source": [
        "import matplotlib.pyplot as plt\r\n",
        "import seaborn as sns\r\n",
        "sns.set()"
      ],
      "execution_count": null,
      "outputs": []
    },
    {
      "cell_type": "code",
      "metadata": {
        "id": "3o40GKsLYQC4",
        "colab": {
          "base_uri": "https://localhost:8080/",
          "height": 319
        },
        "outputId": "3bd187fe-3101-4ee6-8f62-50282d2b4510"
      },
      "source": [
        "# Generating the ROC Curve\r\n",
        "plt.plot(fpr, tpr)\r\n",
        "plt.plot(fpr, fpr, linestyle = '--', color = 'k')\r\n",
        "plt.xlabel('False positive rate')\r\n",
        "plt.ylabel('True positive rate')\r\n",
        "plt.title('ROC curve')"
      ],
      "execution_count": null,
      "outputs": [
        {
          "output_type": "execute_result",
          "data": {
            "text/plain": [
              "Text(0.5, 1.0, 'ROC curve')"
            ]
          },
          "metadata": {
            "tags": []
          },
          "execution_count": 46
        },
        {
          "output_type": "display_data",
          "data": {
            "image/png": "[encoded data removed]",
            "text/plain": [
              "<Figure size 432x288 with 1 Axes>"
            ]
          },
          "metadata": {
            "tags": []
          }
        }
      ]
    },
    {
      "cell_type": "code",
      "metadata": {
        "id": "Sz942q1MYcYB",
        "colab": {
          "base_uri": "https://localhost:8080/"
        },
        "outputId": "404dc650-0d67-4704-fdee-866620f4534d"
      },
      "source": [
        "# ROC Score\r\n",
        "AUROC = roc_auc_score(flat_true_labels,flat_predictions)\r\n",
        "AUROC"
      ],
      "execution_count": null,
      "outputs": [
        {
          "output_type": "execute_result",
          "data": {
            "text/plain": [
              "0.9165172585261903"
            ]
          },
          "metadata": {
            "tags": []
          },
          "execution_count": 47
        }
      ]
    },
    {
      "cell_type": "code",
      "metadata": {
        "id": "iR-lmG0EYhQK",
        "colab": {
          "base_uri": "https://localhost:8080/"
        },
        "outputId": "7ce82537-d2e7-4e93-dada-ce08809eee08"
      },
      "source": [
        "# Calculating the f1_score\r\n",
        "from sklearn.metrics import f1_score\r\n",
        "f1 = f1_score(flat_true_labels,flat_predictions)\r\n",
        "print('F1 score: %f' % f1)"
      ],
      "execution_count": null,
      "outputs": [
        {
          "output_type": "stream",
          "text": [
            "F1 score: 0.902121\n"
          ],
          "name": "stdout"
        }
      ]
    },
    {
      "cell_type": "markdown",
      "metadata": {
        "id": "D6GUtWVVZDRf"
      },
      "source": [
        "# Preparing the data for the application of CNN Model"
      ]
    },
    {
      "cell_type": "code",
      "metadata": {
        "id": "ZF8MDi4XZONJ"
      },
      "source": [
        "# Getting the training data\r\n",
        "train_data = pd.read_csv('/content/training_set_threshold_3.csv')"
      ],
      "execution_count": null,
      "outputs": []
    },
    {
      "cell_type": "code",
      "metadata": {
        "id": "Qvs6d8FtZmtP"
      },
      "source": [
        "# Getting the test data\r\n",
        "test_data = pd.read_csv('/content/body_text_with_keywords_freq_38.csv')"
      ],
      "execution_count": null,
      "outputs": []
    },
    {
      "cell_type": "code",
      "metadata": {
        "id": "x0ZjD5TJZwE_"
      },
      "source": [
        " test_data= test_data[['Unnamed: 0', 'body_text', 'label']]"
      ],
      "execution_count": null,
      "outputs": []
    },
    {
      "cell_type": "code",
      "metadata": {
        "id": "GKhVCVeNZyx3",
        "colab": {
          "base_uri": "https://localhost:8080/",
          "height": 415
        },
        "outputId": "5e61d558-9a64-424e-c83d-bfaa81af4430"
      },
      "source": [
        "test_data.isnull()"
      ],
      "execution_count": null,
      "outputs": [
        {
          "output_type": "execute_result",
          "data": {
            "text/html": [
              "<div>\n",
              "<style scoped>\n",
              "    .dataframe tbody tr th:only-of-type {\n",
              "        vertical-align: middle;\n",
              "    }\n",
              "\n",
              "    .dataframe tbody tr th {\n",
              "        vertical-align: top;\n",
              "    }\n",
              "\n",
              "    .dataframe thead th {\n",
              "        text-align: right;\n",
              "    }\n",
              "</style>\n",
              "<table border=\"1\" class=\"dataframe\">\n",
              "  <thead>\n",
              "    <tr style=\"text-align: right;\">\n",
              "      <th></th>\n",
              "      <th>Unnamed: 0</th>\n",
              "      <th>body_text</th>\n",
              "      <th>label</th>\n",
              "    </tr>\n",
              "  </thead>\n",
              "  <tbody>\n",
              "    <tr>\n",
              "      <th>0</th>\n",
              "      <td>False</td>\n",
              "      <td>False</td>\n",
              "      <td>False</td>\n",
              "    </tr>\n",
              "    <tr>\n",
              "      <th>1</th>\n",
              "      <td>False</td>\n",
              "      <td>False</td>\n",
              "      <td>True</td>\n",
              "    </tr>\n",
              "    <tr>\n",
              "      <th>2</th>\n",
              "      <td>False</td>\n",
              "      <td>False</td>\n",
              "      <td>True</td>\n",
              "    </tr>\n",
              "    <tr>\n",
              "      <th>3</th>\n",
              "      <td>False</td>\n",
              "      <td>False</td>\n",
              "      <td>True</td>\n",
              "    </tr>\n",
              "    <tr>\n",
              "      <th>4</th>\n",
              "      <td>False</td>\n",
              "      <td>False</td>\n",
              "      <td>True</td>\n",
              "    </tr>\n",
              "    <tr>\n",
              "      <th>...</th>\n",
              "      <td>...</td>\n",
              "      <td>...</td>\n",
              "      <td>...</td>\n",
              "    </tr>\n",
              "    <tr>\n",
              "      <th>38362</th>\n",
              "      <td>False</td>\n",
              "      <td>False</td>\n",
              "      <td>True</td>\n",
              "    </tr>\n",
              "    <tr>\n",
              "      <th>38363</th>\n",
              "      <td>False</td>\n",
              "      <td>False</td>\n",
              "      <td>True</td>\n",
              "    </tr>\n",
              "    <tr>\n",
              "      <th>38364</th>\n",
              "      <td>False</td>\n",
              "      <td>False</td>\n",
              "      <td>False</td>\n",
              "    </tr>\n",
              "    <tr>\n",
              "      <th>38365</th>\n",
              "      <td>False</td>\n",
              "      <td>False</td>\n",
              "      <td>False</td>\n",
              "    </tr>\n",
              "    <tr>\n",
              "      <th>38366</th>\n",
              "      <td>False</td>\n",
              "      <td>False</td>\n",
              "      <td>True</td>\n",
              "    </tr>\n",
              "  </tbody>\n",
              "</table>\n",
              "<p>38367 rows × 3 columns</p>\n",
              "</div>"
            ],
            "text/plain": [
              "       Unnamed: 0  body_text  label\n",
              "0           False      False  False\n",
              "1           False      False   True\n",
              "2           False      False   True\n",
              "3           False      False   True\n",
              "4           False      False   True\n",
              "...           ...        ...    ...\n",
              "38362       False      False   True\n",
              "38363       False      False   True\n",
              "38364       False      False  False\n",
              "38365       False      False  False\n",
              "38366       False      False   True\n",
              "\n",
              "[38367 rows x 3 columns]"
            ]
          },
          "metadata": {
            "tags": []
          },
          "execution_count": 52
        }
      ]
    },
    {
      "cell_type": "code",
      "metadata": {
        "id": "IrDL4K4KZ21I"
      },
      "source": [
        "test_data = test_data.dropna(how = 'any',axis=0)"
      ],
      "execution_count": null,
      "outputs": []
    },
    {
      "cell_type": "code",
      "metadata": {
        "id": "y8zT1lCyZ4r8",
        "colab": {
          "base_uri": "https://localhost:8080/"
        },
        "outputId": "73cb9a01-b63c-43d9-a057-9ff879b56857"
      },
      "source": [
        "test_data.info()"
      ],
      "execution_count": null,
      "outputs": [
        {
          "output_type": "stream",
          "text": [
            "<class 'pandas.core.frame.DataFrame'>\n",
            "Int64Index: 10160 entries, 0 to 38365\n",
            "Data columns (total 3 columns):\n",
            " #   Column      Non-Null Count  Dtype  \n",
            "---  ------      --------------  -----  \n",
            " 0   Unnamed: 0  10160 non-null  int64  \n",
            " 1   body_text   10160 non-null  object \n",
            " 2   label       10160 non-null  float64\n",
            "dtypes: float64(1), int64(1), object(1)\n",
            "memory usage: 317.5+ KB\n"
          ],
          "name": "stdout"
        }
      ]
    },
    {
      "cell_type": "code",
      "metadata": {
        "id": "smkKiQknZ8QX",
        "colab": {
          "base_uri": "https://localhost:8080/"
        },
        "outputId": "a0c4abbd-e6d7-41b9-efb8-c59ff1c9a741"
      },
      "source": [
        "!pip install pandas_summary"
      ],
      "execution_count": null,
      "outputs": [
        {
          "output_type": "stream",
          "text": [
            "Collecting pandas_summary\n",
            "  Downloading https://files.pythonhosted.org/packages/f5/20/865d4785f86e86f7ad7ebd52fc14810ef59ef13cd959f1363a2615d1c665/pandas_summary-0.0.7-py2.py3-none-any.whl\n",
            "Requirement already satisfied: numpy in /usr/local/lib/python3.6/dist-packages (from pandas_summary) (1.19.4)\n",
            "Requirement already satisfied: pandas in /usr/local/lib/python3.6/dist-packages (from pandas_summary) (1.1.5)\n",
            "Requirement already satisfied: python-dateutil>=2.7.3 in /usr/local/lib/python3.6/dist-packages (from pandas->pandas_summary) (2.8.1)\n",
            "Requirement already satisfied: pytz>=2017.2 in /usr/local/lib/python3.6/dist-packages (from pandas->pandas_summary) (2018.9)\n",
            "Requirement already satisfied: six>=1.5 in /usr/local/lib/python3.6/dist-packages (from python-dateutil>=2.7.3->pandas->pandas_summary) (1.15.0)\n",
            "Installing collected packages: pandas-summary\n",
            "Successfully installed pandas-summary-0.0.7\n"
          ],
          "name": "stdout"
        }
      ]
    },
    {
      "cell_type": "code",
      "metadata": {
        "id": "Eznp8aPSZ9EL"
      },
      "source": [
        "# Importing the libraries\r\n",
        "import pandas as pd\r\n",
        "import re\r\n",
        "import numpy as np\r\n",
        "from keras.preprocessing import sequence\r\n",
        "from keras.regularizers import l2\r\n",
        "from keras.models import Model\r\n",
        "from keras.layers.merge import concatenate\r\n",
        "from keras.callbacks import EarlyStopping, ModelCheckpoint, TensorBoard\r\n",
        "from keras.layers import Dense, GlobalMaxPooling1D, Activation, Dropout, GaussianNoise\r\n",
        "from keras.layers import Embedding, Input, BatchNormalization, SpatialDropout1D, Conv1D\r\n",
        "from keras.optimizers import Adam\r\n",
        "from keras.preprocessing.text import Tokenizer\r\n",
        "from keras.preprocessing.sequence import pad_sequences\r\n",
        "from IPython.display import display\r\n",
        "import itertools\r\n",
        "from nltk.corpus import words\r\n",
        "%matplotlib inline\r\n",
        "import matplotlib.pyplot as plt"
      ],
      "execution_count": null,
      "outputs": []
    },
    {
      "cell_type": "code",
      "metadata": {
        "id": "i9jDEYlAaELn",
        "colab": {
          "base_uri": "https://localhost:8080/"
        },
        "outputId": "a5c68852-8e57-46a8-9361-58e7e001f63a"
      },
      "source": [
        "train_data['l'] = train_data['abstract'].apply(lambda x: len(str(x).split(' ')))\r\n",
        "print(\"mean length of sentence: \" + str(train_data.l.mean()))\r\n",
        "print(\"max length of sentence: \" + str(train_data.l.max()))\r\n",
        "print(\"std dev length of sentence: \" + str(train_data.l.std()))"
      ],
      "execution_count": null,
      "outputs": [
        {
          "output_type": "stream",
          "text": [
            "mean length of sentence: 207.04000842282585\n",
            "max length of sentence: 18000\n",
            "std dev length of sentence: 150.16008135771523\n"
          ],
          "name": "stdout"
        }
      ]
    },
    {
      "cell_type": "code",
      "metadata": {
        "id": "49ubOQ0OaNU9"
      },
      "source": [
        "# Load data\r\n",
        "\r\n",
        "\r\n",
        "x_train = train_data[\"abstract\"].fillna(\"_NaN_\").values\r\n",
        "x_test = test_data[\"body_text\"].fillna(\"_NaN_\").values\r\n",
        "y_train = train_data[\"label\"].values\r\n",
        "y_test = test_data[\"label\"].values"
      ],
      "execution_count": null,
      "outputs": []
    },
    {
      "cell_type": "code",
      "metadata": {
        "id": "2iEwtrURaPg0"
      },
      "source": [
        "# these sentences aren't that long so we may as well use the whole string\r\n",
        "sequence_length = 200"
      ],
      "execution_count": null,
      "outputs": []
    },
    {
      "cell_type": "code",
      "metadata": {
        "id": "RXBsqOSQaR7n"
      },
      "source": [
        "max_features = 20000 # this is the number of words we care about\r\n",
        "maxlen = 200\r\n",
        "\r\n",
        "tokenizer = Tokenizer(num_words=max_features, split=' ', oov_token='<unw>')\r\n",
        "#tokenizer.fit_on_texts(train_data[\"abstract\"].values)\r\n",
        "\r\n",
        "tokenizer = Tokenizer(num_words=max_features)\r\n",
        "tokenizer.fit_on_texts(list(x_train))\r\n",
        "X_train = list_tokenized_train = tokenizer.texts_to_sequences(x_train)\r\n",
        "X_test = list_tokenized_test = tokenizer.texts_to_sequences(x_test)\r\n",
        "\r\n",
        "X_train = pad_sequences(list_tokenized_train, maxlen=maxlen)\r\n",
        "X_test = pad_sequences(list_tokenized_test, maxlen=maxlen)\r\n",
        "\r\n"
      ],
      "execution_count": null,
      "outputs": []
    },
    {
      "cell_type": "code",
      "metadata": {
        "id": "PBHQxUAYaYe1"
      },
      "source": [
        "y_train = np.asarray(train_data['label']).astype('float32').reshape((-1,1))\r\n",
        "y_test = np.asarray(test_data['label']).astype('float32').reshape((-1,1))"
      ],
      "execution_count": null,
      "outputs": []
    },
    {
      "cell_type": "code",
      "metadata": {
        "id": "1ZB99aV-aZap"
      },
      "source": [
        "import numpy as np\r\n",
        "import pandas as pd\r\n",
        "\r\n",
        "from sklearn.feature_extraction.text import CountVectorizer\r\n",
        "from sklearn.metrics import confusion_matrix, accuracy_score\r\n",
        "from sklearn.model_selection import train_test_split\r\n",
        "\r\n",
        "from keras.preprocessing.text import Tokenizer\r\n",
        "from keras.preprocessing.sequence import pad_sequences\r\n",
        "from keras.initializers import Constant\r\n",
        "from keras.models import Model\r\n",
        "from keras.layers import *\r\n",
        "from keras.utils.np_utils import to_categorical\r\n",
        "import re\r\n",
        "\r\n",
        "import matplotlib.pyplot as plt\r\n",
        "%matplotlib inline\r\n",
        "from keras import regularizers"
      ],
      "execution_count": null,
      "outputs": []
    },
    {
      "cell_type": "code",
      "metadata": {
        "id": "FZ0BxfkRagrZ"
      },
      "source": [
        "embedding_dim = 200 # Kim uses 300 here\r\n",
        "num_filters = 100\r\n",
        "\r\n",
        "inputs = Input(shape=(sequence_length,), dtype='int32')\r\n",
        "\r\n",
        "# use a random embedding for the text\r\n",
        "embedding_layer = Embedding(input_dim=max_features, output_dim=embedding_dim, input_length=sequence_length)(inputs)\r\n",
        "\r\n",
        "reshape = Reshape((sequence_length, embedding_dim, 1))(embedding_layer)\r\n",
        "\r\n",
        "# Note the relu activation which Kim specifically mentions\r\n",
        "# He also uses an l2 constraint of 3\r\n",
        "# Also, note that the convolution window acts on the whole 200 dimensions - that's important\r\n",
        "conv_0 = Conv2D(num_filters, kernel_size=(3, embedding_dim), activation='relu', kernel_regularizer=regularizers.l2(3))(reshape)\r\n",
        "conv_1 = Conv2D(num_filters, kernel_size=(4, embedding_dim), activation='relu', kernel_regularizer=regularizers.l2(3))(reshape)\r\n",
        "conv_2 = Conv2D(num_filters, kernel_size=(5, embedding_dim), activation='relu', kernel_regularizer=regularizers.l2(3))(reshape)\r\n",
        "\r\n",
        "# perform max pooling on each of the convoluations\r\n",
        "maxpool_0 = MaxPool2D(pool_size=(sequence_length - 3 + 1, 1), strides=(1,1), padding='valid')(conv_0)\r\n",
        "maxpool_1 = MaxPool2D(pool_size=(sequence_length - 4 + 1, 1), strides=(1,1), padding='valid')(conv_1)\r\n",
        "maxpool_2 = MaxPool2D(pool_size=(sequence_length - 5 + 1, 1), strides=(1,1), padding='valid')(conv_2)\r\n",
        "\r\n",
        "# concat and flatten\r\n",
        "concatenated_tensor = Concatenate(axis=1)([maxpool_0, maxpool_1, maxpool_2])\r\n",
        "flatten = Flatten()(concatenated_tensor)\r\n",
        "\r\n",
        "# do dropout and predict\r\n",
        "dropout = Dropout(0.5)(flatten)\r\n",
        "output = Dense(units=5, activation='sigmoid')(dropout)"
      ],
      "execution_count": null,
      "outputs": []
    },
    {
      "cell_type": "code",
      "metadata": {
        "id": "CWnH4FgVajdb",
        "colab": {
          "base_uri": "https://localhost:8080/"
        },
        "outputId": "6190c7a9-e58b-4fc6-ef45-4cf2888315a4"
      },
      "source": [
        "model = Model(inputs=inputs, outputs=output)\r\n",
        "model.compile(optimizer='rmsprop', loss='sparse_categorical_crossentropy', metrics=['accuracy'])\r\n",
        "print(model.summary())"
      ],
      "execution_count": null,
      "outputs": [
        {
          "output_type": "stream",
          "text": [
            "Model: \"model\"\n",
            "__________________________________________________________________________________________________\n",
            "Layer (type)                    Output Shape         Param #     Connected to                     \n",
            "==================================================================================================\n",
            "input_1 (InputLayer)            [(None, 200)]        0                                            \n",
            "__________________________________________________________________________________________________\n",
            "embedding (Embedding)           (None, 200, 200)     4000000     input_1[0][0]                    \n",
            "__________________________________________________________________________________________________\n",
            "reshape (Reshape)               (None, 200, 200, 1)  0           embedding[0][0]                  \n",
            "__________________________________________________________________________________________________\n",
            "conv2d (Conv2D)                 (None, 198, 1, 100)  60100       reshape[0][0]                    \n",
            "__________________________________________________________________________________________________\n",
            "conv2d_1 (Conv2D)               (None, 197, 1, 100)  80100       reshape[0][0]                    \n",
            "__________________________________________________________________________________________________\n",
            "conv2d_2 (Conv2D)               (None, 196, 1, 100)  100100      reshape[0][0]                    \n",
            "__________________________________________________________________________________________________\n",
            "max_pooling2d (MaxPooling2D)    (None, 1, 1, 100)    0           conv2d[0][0]                     \n",
            "__________________________________________________________________________________________________\n",
            "max_pooling2d_1 (MaxPooling2D)  (None, 1, 1, 100)    0           conv2d_1[0][0]                   \n",
            "__________________________________________________________________________________________________\n",
            "max_pooling2d_2 (MaxPooling2D)  (None, 1, 1, 100)    0           conv2d_2[0][0]                   \n",
            "__________________________________________________________________________________________________\n",
            "concatenate (Concatenate)       (None, 3, 1, 100)    0           max_pooling2d[0][0]              \n",
            "                                                                 max_pooling2d_1[0][0]            \n",
            "                                                                 max_pooling2d_2[0][0]            \n",
            "__________________________________________________________________________________________________\n",
            "flatten (Flatten)               (None, 300)          0           concatenate[0][0]                \n",
            "__________________________________________________________________________________________________\n",
            "dropout (Dropout)               (None, 300)          0           flatten[0][0]                    \n",
            "__________________________________________________________________________________________________\n",
            "dense (Dense)                   (None, 5)            1505        dropout[0][0]                    \n",
            "==================================================================================================\n",
            "Total params: 4,241,805\n",
            "Trainable params: 4,241,805\n",
            "Non-trainable params: 0\n",
            "__________________________________________________________________________________________________\n",
            "None\n"
          ],
          "name": "stdout"
        }
      ]
    },
    {
      "cell_type": "code",
      "metadata": {
        "id": "8CSFf6LranIu",
        "colab": {
          "base_uri": "https://localhost:8080/"
        },
        "outputId": "53779059-042e-4fb6-e27b-a0078cd7edfe"
      },
      "source": [
        "batch_size = 50 # Kim uses 50 here, I have a slightly smaller sample size than num\r\n",
        "history = model.fit(X_train, y_train, epochs=10, batch_size=batch_size, verbose=1, validation_split=0.1, shuffle=True)"
      ],
      "execution_count": null,
      "outputs": [
        {
          "output_type": "stream",
          "text": [
            "Epoch 1/10\n",
            "428/428 [==============================] - 26s 38ms/step - loss: 1.3437 - accuracy: 0.7636 - val_loss: 0.4115 - val_accuracy: 1.0000\n",
            "Epoch 2/10\n",
            "428/428 [==============================] - 13s 30ms/step - loss: 0.7044 - accuracy: 0.7782 - val_loss: 0.4819 - val_accuracy: 1.0000\n",
            "Epoch 3/10\n",
            "428/428 [==============================] - 13s 30ms/step - loss: 0.6945 - accuracy: 0.7813 - val_loss: 0.4164 - val_accuracy: 0.9996\n",
            "Epoch 4/10\n",
            "428/428 [==============================] - 13s 30ms/step - loss: 0.6939 - accuracy: 0.8097 - val_loss: 0.4320 - val_accuracy: 0.9937\n",
            "Epoch 5/10\n",
            "428/428 [==============================] - 13s 30ms/step - loss: 0.6911 - accuracy: 0.8292 - val_loss: 0.4551 - val_accuracy: 0.9684\n",
            "Epoch 6/10\n",
            "428/428 [==============================] - 12s 29ms/step - loss: 0.6933 - accuracy: 0.8327 - val_loss: 0.3971 - val_accuracy: 0.9709\n",
            "Epoch 7/10\n",
            "428/428 [==============================] - 12s 28ms/step - loss: 0.6864 - accuracy: 0.8365 - val_loss: 0.4973 - val_accuracy: 0.9764\n",
            "Epoch 8/10\n",
            "428/428 [==============================] - 12s 29ms/step - loss: 0.6859 - accuracy: 0.8385 - val_loss: 0.4367 - val_accuracy: 0.9448\n",
            "Epoch 9/10\n",
            "428/428 [==============================] - 13s 29ms/step - loss: 0.6736 - accuracy: 0.8433 - val_loss: 0.3747 - val_accuracy: 0.9789\n",
            "Epoch 10/10\n",
            "428/428 [==============================] - 13s 30ms/step - loss: 0.6732 - accuracy: 0.8418 - val_loss: 0.5862 - val_accuracy: 0.9937\n"
          ],
          "name": "stdout"
        }
      ]
    },
    {
      "cell_type": "code",
      "metadata": {
        "id": "0tEAIR-san_c",
        "colab": {
          "base_uri": "https://localhost:8080/",
          "height": 585
        },
        "outputId": "21844125-035e-4962-a6cf-517ffaf49e1d"
      },
      "source": [
        "plt.plot(history.history['accuracy'])\r\n",
        "plt.plot(history.history['val_accuracy'])\r\n",
        "plt.title('model accuracy')\r\n",
        "plt.ylabel('accuracy')\r\n",
        "plt.xlabel('epoch')\r\n",
        "plt.legend(['train', 'validation'], loc='upper left')\r\n",
        "plt.show()\r\n",
        "\r\n",
        "plt.plot(history.history['loss'])\r\n",
        "plt.plot(history.history['val_loss'])\r\n",
        "plt.title('model loss')\r\n",
        "plt.ylabel('loss')\r\n",
        "plt.xlabel('epoch')\r\n",
        "plt.legend(['train', 'validation'], loc='upper left')\r\n",
        "plt.show()"
      ],
      "execution_count": null,
      "outputs": [
        {
          "output_type": "display_data",
          "data": {
            "image/png": "[encoded data removed]",
            "text/plain": [
              "<Figure size 432x288 with 1 Axes>"
            ]
          },
          "metadata": {
            "tags": [],
            "needs_background": "light"
          }
        },
        {
          "output_type": "display_data",
          "data": {
            "image/png": "[encoded data removed]",
            "text/plain": [
              "<Figure size 432x288 with 1 Axes>"
            ]
          },
          "metadata": {
            "tags": [],
            "needs_background": "light"
          }
        }
      ]
    },
    {
      "cell_type": "code",
      "metadata": {
        "id": "dVYyRZ1uarM8"
      },
      "source": [
        "y_hat = model.predict(X_test)"
      ],
      "execution_count": null,
      "outputs": []
    },
    {
      "cell_type": "code",
      "metadata": {
        "id": "mkeLxRAwawG1",
        "colab": {
          "base_uri": "https://localhost:8080/"
        },
        "outputId": "a5db16bd-7c2d-4b7f-ff40-17972205d24a"
      },
      "source": [
        "# Calculating the accuracy score for the CNN Model\r\n",
        "accuracy_score(list(map(lambda x: np.argmax(x), y_test)), list(map(lambda x: np.argmax(x), y_hat)))"
      ],
      "execution_count": null,
      "outputs": [
        {
          "output_type": "execute_result",
          "data": {
            "text/plain": [
              "0.9797244094488189"
            ]
          },
          "metadata": {
            "tags": []
          },
          "execution_count": 68
        }
      ]
    },
    {
      "cell_type": "code",
      "metadata": {
        "id": "eWvbIQMQaxJc",
        "colab": {
          "base_uri": "https://localhost:8080/"
        },
        "outputId": "07980fa3-f5f9-430b-c8c2-3f68764e059c"
      },
      "source": [
        "# Generating the confusion matrix for the CNN Model\r\n",
        "cm = confusion_matrix(list(map(lambda x: np.argmax(x), y_test)), list(map(lambda x: np.argmax(x), y_hat)))\r\n",
        "print(cm)"
      ],
      "execution_count": null,
      "outputs": [
        {
          "output_type": "stream",
          "text": [
            "[[9954  206]\n",
            " [   0    0]]\n"
          ],
          "name": "stdout"
        }
      ]
    },
    {
      "cell_type": "code",
      "metadata": {
        "id": "e14B7PsHbPkI"
      },
      "source": [
        "# calculating the precision for the CNN Model\r\n",
        "precision = np.diag(cm) / np.sum(cm, axis = 0)\r\n"
      ],
      "execution_count": null,
      "outputs": []
    },
    {
      "cell_type": "code",
      "metadata": {
        "colab": {
          "base_uri": "https://localhost:8080/"
        },
        "id": "5pz8rwk4Vm1L",
        "outputId": "03c34b87-ab23-4fa8-a47d-50d77d41c74d"
      },
      "source": [
        "# The precision for CNN Model\r\n",
        "np.mean(precision)"
      ],
      "execution_count": null,
      "outputs": [
        {
          "output_type": "execute_result",
          "data": {
            "text/plain": [
              "0.5"
            ]
          },
          "metadata": {
            "tags": []
          },
          "execution_count": 74
        }
      ]
    },
    {
      "cell_type": "markdown",
      "metadata": {
        "id": "356_KqbecdIf"
      },
      "source": [
        "#Preparing the data for the application of Logistic Regression Model"
      ]
    },
    {
      "cell_type": "code",
      "metadata": {
        "id": "VyJSK9ARWVkK"
      },
      "source": [
        "import numpy as np \r\n",
        "import pandas as pd \r\n",
        "import re\r\n",
        "import numpy as np \r\n",
        "import pandas as pd\r\n",
        "#import scispacy\r\n",
        "import spacy\r\n",
        "from spacy.lang.en import English\r\n",
        "from gensim.models import Word2Vec\r\n",
        "from tqdm import tqdm\r\n",
        "#import en_core_sci_md\r\n",
        "import logging"
      ],
      "execution_count": null,
      "outputs": []
    },
    {
      "cell_type": "code",
      "metadata": {
        "id": "bAbBQlikchgJ"
      },
      "source": [
        "# Loading the training data\r\n",
        "train_data = pd.read_csv('/content/training_set_threshold_3.csv')"
      ],
      "execution_count": null,
      "outputs": []
    },
    {
      "cell_type": "code",
      "metadata": {
        "id": "zZOy91PdcxiK"
      },
      "source": [
        "# Loading the test data\r\n",
        "test_data = pd.read_csv('/content/body_text_with_keywords_freq_38.csv')"
      ],
      "execution_count": null,
      "outputs": []
    },
    {
      "cell_type": "code",
      "metadata": {
        "id": "NZzt_DR1c4n1",
        "colab": {
          "base_uri": "https://localhost:8080/",
          "height": 551
        },
        "outputId": "25872985-6ed6-443e-cfcc-3cf240bad9fb"
      },
      "source": [
        "test_data.head()"
      ],
      "execution_count": null,
      "outputs": [
        {
          "output_type": "execute_result",
          "data": {
            "text/html": [
              "<div>\n",
              "<style scoped>\n",
              "    .dataframe tbody tr th:only-of-type {\n",
              "        vertical-align: middle;\n",
              "    }\n",
              "\n",
              "    .dataframe tbody tr th {\n",
              "        vertical-align: top;\n",
              "    }\n",
              "\n",
              "    .dataframe thead th {\n",
              "        text-align: right;\n",
              "    }\n",
              "</style>\n",
              "<table border=\"1\" class=\"dataframe\">\n",
              "  <thead>\n",
              "    <tr style=\"text-align: right;\">\n",
              "      <th></th>\n",
              "      <th>Unnamed: 0</th>\n",
              "      <th>Unnamed: 0.1</th>\n",
              "      <th>Unnamed: 0.1.1</th>\n",
              "      <th>paper_id</th>\n",
              "      <th>doi</th>\n",
              "      <th>abstract</th>\n",
              "      <th>body_text</th>\n",
              "      <th>authors</th>\n",
              "      <th>title</th>\n",
              "      <th>journal</th>\n",
              "      <th>abstract_summary</th>\n",
              "      <th>abstract_word_count</th>\n",
              "      <th>body_word_count</th>\n",
              "      <th>body_unique_words</th>\n",
              "      <th>language</th>\n",
              "      <th>count_transmission</th>\n",
              "      <th>count_incubation</th>\n",
              "      <th>count_virus shedding</th>\n",
              "      <th>count_shedding virus</th>\n",
              "      <th>count_environmental stability</th>\n",
              "      <th>count_spread</th>\n",
              "      <th>count_spillover</th>\n",
              "      <th>count_contact</th>\n",
              "      <th>count_transmit</th>\n",
              "      <th>count_dissemination</th>\n",
              "      <th>count_spreading</th>\n",
              "      <th>count_movement</th>\n",
              "      <th>count_importation</th>\n",
              "      <th>count_exposure</th>\n",
              "      <th>count_transmissibility</th>\n",
              "      <th>keywords_sum</th>\n",
              "      <th>label</th>\n",
              "    </tr>\n",
              "  </thead>\n",
              "  <tbody>\n",
              "    <tr>\n",
              "      <th>0</th>\n",
              "      <td>0</td>\n",
              "      <td>0</td>\n",
              "      <td>0</td>\n",
              "      <td>0001418189999fea7f7cbe3e82703d71c85a6fe5</td>\n",
              "      <td>10.1016/j.vetmic.2006.11.026</td>\n",
              "      <td>Feline infectious peritonitis virus (FIPV) pos...</td>\n",
              "      <td>Feline infectious peritonitis FIP is a fatal c...</td>\n",
              "      <td>Cornelissen, E..  Dewerchin, H. L..  Van Hamm...</td>\n",
              "      <td>Absence of surface expression of feline&lt;br&gt;in...</td>\n",
              "      <td>Veterinary Microbiology</td>\n",
              "      <td>Feline infectious peritonitis virus (FIPV)&lt;br...</td>\n",
              "      <td>165</td>\n",
              "      <td>2071</td>\n",
              "      <td>756</td>\n",
              "      <td>en</td>\n",
              "      <td>0</td>\n",
              "      <td>0</td>\n",
              "      <td>0</td>\n",
              "      <td>0</td>\n",
              "      <td>0</td>\n",
              "      <td>0</td>\n",
              "      <td>0</td>\n",
              "      <td>0</td>\n",
              "      <td>0</td>\n",
              "      <td>0</td>\n",
              "      <td>0</td>\n",
              "      <td>0</td>\n",
              "      <td>0</td>\n",
              "      <td>0</td>\n",
              "      <td>0</td>\n",
              "      <td>0.000000</td>\n",
              "      <td>0.0</td>\n",
              "    </tr>\n",
              "    <tr>\n",
              "      <th>1</th>\n",
              "      <td>1</td>\n",
              "      <td>2</td>\n",
              "      <td>2</td>\n",
              "      <td>00039b94e6cb7609ecbddee1755314bcfeb77faa</td>\n",
              "      <td>10.1111/j.1365-2249.2004.02415.x</td>\n",
              "      <td>Severe acute respiratory syndrome (SARS) is a ...</td>\n",
              "      <td>Severe acute respiratory syndrome SARS is a re...</td>\n",
              "      <td>WONG, C K.  LAM, C W K.  WU, A K L.  IP, W K....</td>\n",
              "      <td>Plasma inflammatory cytokines and chemokines&lt;...</td>\n",
              "      <td>Clinical &amp; Experimental Immunology</td>\n",
              "      <td>Severe acute respiratory syndrome (SARS) is a...</td>\n",
              "      <td>179</td>\n",
              "      <td>2822</td>\n",
              "      <td>1103</td>\n",
              "      <td>en</td>\n",
              "      <td>0</td>\n",
              "      <td>1</td>\n",
              "      <td>0</td>\n",
              "      <td>0</td>\n",
              "      <td>0</td>\n",
              "      <td>0</td>\n",
              "      <td>0</td>\n",
              "      <td>1</td>\n",
              "      <td>0</td>\n",
              "      <td>0</td>\n",
              "      <td>0</td>\n",
              "      <td>0</td>\n",
              "      <td>0</td>\n",
              "      <td>0</td>\n",
              "      <td>0</td>\n",
              "      <td>1.603500</td>\n",
              "      <td>NaN</td>\n",
              "    </tr>\n",
              "    <tr>\n",
              "      <th>2</th>\n",
              "      <td>2</td>\n",
              "      <td>4</td>\n",
              "      <td>4</td>\n",
              "      <td>0004456994f6c1d5db7327990386d33c01cff32a</td>\n",
              "      <td>10.1186/1471-2334-10-8</td>\n",
              "      <td>Background: Influenza immunisation for healthc...</td>\n",
              "      <td>The German standing commission for immunisatio...</td>\n",
              "      <td>Williams, Chris J.  Schweiger, Brunhilde. &lt;br...</td>\n",
              "      <td>Seasonal influenza risk in hospital&lt;br&gt;health...</td>\n",
              "      <td>BMC Infect Dis</td>\n",
              "      <td>Background: Influenza immunisation for&lt;br&gt;hea...</td>\n",
              "      <td>365</td>\n",
              "      <td>4414</td>\n",
              "      <td>1396</td>\n",
              "      <td>en</td>\n",
              "      <td>3</td>\n",
              "      <td>0</td>\n",
              "      <td>0</td>\n",
              "      <td>0</td>\n",
              "      <td>0</td>\n",
              "      <td>0</td>\n",
              "      <td>0</td>\n",
              "      <td>12</td>\n",
              "      <td>2</td>\n",
              "      <td>0</td>\n",
              "      <td>0</td>\n",
              "      <td>0</td>\n",
              "      <td>0</td>\n",
              "      <td>7</td>\n",
              "      <td>0</td>\n",
              "      <td>15.251432</td>\n",
              "      <td>NaN</td>\n",
              "    </tr>\n",
              "    <tr>\n",
              "      <th>3</th>\n",
              "      <td>3</td>\n",
              "      <td>7</td>\n",
              "      <td>7</td>\n",
              "      <td>00073cb65dd2596249230fab8b15a71c4a135895</td>\n",
              "      <td>10.1086/605034</td>\n",
              "      <td>A clinical picture of patients with acute resp...</td>\n",
              "      <td>Since then many clinical case reports have bee...</td>\n",
              "      <td>Kawachi, Shoji.  Luong, San Thi.  Shigematsu,...</td>\n",
              "      <td>Risk Parameters of Fulminant Acute&lt;br&gt;Respira...</td>\n",
              "      <td>J Infect Dis</td>\n",
              "      <td>A clinical picture of patients with acute&lt;br&gt;...</td>\n",
              "      <td>255</td>\n",
              "      <td>1653</td>\n",
              "      <td>649</td>\n",
              "      <td>en</td>\n",
              "      <td>0</td>\n",
              "      <td>0</td>\n",
              "      <td>0</td>\n",
              "      <td>0</td>\n",
              "      <td>0</td>\n",
              "      <td>0</td>\n",
              "      <td>0</td>\n",
              "      <td>1</td>\n",
              "      <td>0</td>\n",
              "      <td>0</td>\n",
              "      <td>0</td>\n",
              "      <td>0</td>\n",
              "      <td>0</td>\n",
              "      <td>0</td>\n",
              "      <td>0</td>\n",
              "      <td>0.603500</td>\n",
              "      <td>NaN</td>\n",
              "    </tr>\n",
              "    <tr>\n",
              "      <th>4</th>\n",
              "      <td>4</td>\n",
              "      <td>9</td>\n",
              "      <td>9</td>\n",
              "      <td>0008c57de475138d903f2cca7003cf1e1ad93cf4</td>\n",
              "      <td>10.1140/epje/i2018-11644-5</td>\n",
              "      <td>We study the local effect of the antimicrobial...</td>\n",
              "      <td>The effect on the cell membrane of inclusions ...</td>\n",
              "      <td>Azar, Elise.  Constantin, Doru.  Warschawski,...</td>\n",
              "      <td>The effect of gramicidin inclusions on the&lt;br...</td>\n",
              "      <td>Eur Phys J E Soft Matter</td>\n",
              "      <td>We study the local effect of the antimicrobia...</td>\n",
              "      <td>102</td>\n",
              "      <td>4383</td>\n",
              "      <td>1315</td>\n",
              "      <td>en</td>\n",
              "      <td>0</td>\n",
              "      <td>0</td>\n",
              "      <td>0</td>\n",
              "      <td>0</td>\n",
              "      <td>0</td>\n",
              "      <td>0</td>\n",
              "      <td>0</td>\n",
              "      <td>1</td>\n",
              "      <td>0</td>\n",
              "      <td>0</td>\n",
              "      <td>0</td>\n",
              "      <td>0</td>\n",
              "      <td>0</td>\n",
              "      <td>0</td>\n",
              "      <td>0</td>\n",
              "      <td>0.603500</td>\n",
              "      <td>NaN</td>\n",
              "    </tr>\n",
              "  </tbody>\n",
              "</table>\n",
              "</div>"
            ],
            "text/plain": [
              "   Unnamed: 0  Unnamed: 0.1  ...  keywords_sum label\n",
              "0           0             0  ...      0.000000   0.0\n",
              "1           1             2  ...      1.603500   NaN\n",
              "2           2             4  ...     15.251432   NaN\n",
              "3           3             7  ...      0.603500   NaN\n",
              "4           4             9  ...      0.603500   NaN\n",
              "\n",
              "[5 rows x 32 columns]"
            ]
          },
          "metadata": {
            "tags": []
          },
          "execution_count": 5
        }
      ]
    },
    {
      "cell_type": "code",
      "metadata": {
        "id": "xuAfH1XIc6iK"
      },
      "source": [
        " test_data= test_data[['Unnamed: 0', 'body_text', 'label']]"
      ],
      "execution_count": null,
      "outputs": []
    },
    {
      "cell_type": "code",
      "metadata": {
        "id": "cQlblCyZc9e3"
      },
      "source": [
        "test_data = test_data.dropna(how = 'any',axis=0)"
      ],
      "execution_count": null,
      "outputs": []
    },
    {
      "cell_type": "code",
      "metadata": {
        "id": "d_Y3SLnkdCUk",
        "colab": {
          "base_uri": "https://localhost:8080/"
        },
        "outputId": "cc21bef6-ac3a-4279-fd88-b09d8685666b"
      },
      "source": [
        "test_data.info()"
      ],
      "execution_count": null,
      "outputs": [
        {
          "output_type": "stream",
          "text": [
            "<class 'pandas.core.frame.DataFrame'>\n",
            "Int64Index: 10160 entries, 0 to 38365\n",
            "Data columns (total 3 columns):\n",
            " #   Column      Non-Null Count  Dtype  \n",
            "---  ------      --------------  -----  \n",
            " 0   Unnamed: 0  10160 non-null  int64  \n",
            " 1   body_text   10160 non-null  object \n",
            " 2   label       10160 non-null  float64\n",
            "dtypes: float64(1), int64(1), object(1)\n",
            "memory usage: 317.5+ KB\n"
          ],
          "name": "stdout"
        }
      ]
    },
    {
      "cell_type": "code",
      "metadata": {
        "id": "VUld8gpadE0o"
      },
      "source": [
        "x_train = train_data['abstract']"
      ],
      "execution_count": null,
      "outputs": []
    },
    {
      "cell_type": "code",
      "metadata": {
        "id": "Cw3i10eudG04"
      },
      "source": [
        "x_test = test_data['body_text']"
      ],
      "execution_count": null,
      "outputs": []
    },
    {
      "cell_type": "code",
      "metadata": {
        "id": "RDyCRy5JdIos"
      },
      "source": [
        "y_train = train_data['label'].values"
      ],
      "execution_count": null,
      "outputs": []
    },
    {
      "cell_type": "code",
      "metadata": {
        "id": "4ExjU0dZdLYj"
      },
      "source": [
        "y_test = test_data['label'].values"
      ],
      "execution_count": null,
      "outputs": []
    },
    {
      "cell_type": "code",
      "metadata": {
        "id": "jlcO0fZFdNHF"
      },
      "source": [
        "from sklearn.linear_model import LogisticRegression"
      ],
      "execution_count": null,
      "outputs": []
    },
    {
      "cell_type": "code",
      "metadata": {
        "id": "N6OUYDvndPkA"
      },
      "source": [
        "#vectorize\r\n",
        "from sklearn.feature_extraction.text import TfidfVectorizer, CountVectorizer\r\n",
        "ctv = CountVectorizer(analyzer='word', token_pattern=r'\\w{1,}',\r\n",
        "                     ngram_range=(2, 3), stop_words='english')"
      ],
      "execution_count": null,
      "outputs": []
    },
    {
      "cell_type": "code",
      "metadata": {
        "id": "70UDZ5HhdSmZ"
      },
      "source": [
        "\r\n",
        "ctv.fit(list(x_train)+list(x_test))\r\n",
        "xtrain_ctv = ctv.transform(x_train)\r\n",
        "xtest_ctv = ctv.transform(x_test)"
      ],
      "execution_count": null,
      "outputs": []
    },
    {
      "cell_type": "code",
      "metadata": {
        "id": "7neZQhgPdTYU",
        "colab": {
          "base_uri": "https://localhost:8080/"
        },
        "outputId": "106ee31e-35a8-4184-8492-e76cb9af7003"
      },
      "source": [
        "#fit logistic regression on CountVectorizer\r\n",
        "from sklearn.linear_model import LogisticRegression\r\n",
        "clf = LogisticRegression(C=1.0, max_iter=4000)\r\n",
        "clf.fit(xtrain_ctv, y_train)"
      ],
      "execution_count": null,
      "outputs": [
        {
          "output_type": "execute_result",
          "data": {
            "text/plain": [
              "LogisticRegression(C=1.0, class_weight=None, dual=False, fit_intercept=True,\n",
              "                   intercept_scaling=1, l1_ratio=None, max_iter=4000,\n",
              "                   multi_class='auto', n_jobs=None, penalty='l2',\n",
              "                   random_state=None, solver='lbfgs', tol=0.0001, verbose=0,\n",
              "                   warm_start=False)"
            ]
          },
          "metadata": {
            "tags": []
          },
          "execution_count": 16
        }
      ]
    },
    {
      "cell_type": "code",
      "metadata": {
        "id": "EuY1t-QZdWjC"
      },
      "source": [
        "\r\n",
        "# predict probabilities for test set\r\n",
        "yhat_probs = clf.predict(xtest_ctv)\r\n",
        "# predict crisp classes for test set\r\n",
        "yhat_classes = clf.predict(xtest_ctv)\r\n",
        "# reduce to 1d array"
      ],
      "execution_count": null,
      "outputs": []
    },
    {
      "cell_type": "code",
      "metadata": {
        "id": "BKu-H1ExdYbs",
        "colab": {
          "base_uri": "https://localhost:8080/"
        },
        "outputId": "fe4a91f1-e200-4169-c31a-b4bfd4eebaba"
      },
      "source": [
        "# import the metrics class\r\n",
        "from sklearn import metrics\r\n",
        "cnf_matrix = metrics.confusion_matrix(y_test, yhat_classes)\r\n",
        "cnf_matrix"
      ],
      "execution_count": null,
      "outputs": [
        {
          "output_type": "execute_result",
          "data": {
            "text/plain": [
              "array([[9480,   17],\n",
              "       [ 222,  441]])"
            ]
          },
          "metadata": {
            "tags": []
          },
          "execution_count": 18
        }
      ]
    },
    {
      "cell_type": "code",
      "metadata": {
        "id": "skVFVU-0dbLG",
        "colab": {
          "base_uri": "https://localhost:8080/"
        },
        "outputId": "e8d283b4-c3a0-4a2f-d48f-31efa624fc12"
      },
      "source": [
        " # Calculating the precision score\r\n",
        " from sklearn.metrics import precision_score\r\n",
        "precision = precision_score(y_test, yhat_classes)\r\n",
        "print('Precision: %f' % precision)"
      ],
      "execution_count": null,
      "outputs": [
        {
          "output_type": "stream",
          "text": [
            "Precision: 0.962882\n"
          ],
          "name": "stdout"
        }
      ]
    },
    {
      "cell_type": "code",
      "metadata": {
        "id": "sWADUTyUdc_T",
        "colab": {
          "base_uri": "https://localhost:8080/"
        },
        "outputId": "25bd868a-a985-4660-9c3f-0f6a65caaf18"
      },
      "source": [
        "# Calculating the recall score\r\n",
        "from sklearn.metrics import recall_score\r\n",
        "recall = recall_score(y_test, yhat_classes)\r\n",
        "print('Recall: %f' % recall)\r\n"
      ],
      "execution_count": null,
      "outputs": [
        {
          "output_type": "stream",
          "text": [
            "Recall: 0.665158\n"
          ],
          "name": "stdout"
        }
      ]
    },
    {
      "cell_type": "code",
      "metadata": {
        "colab": {
          "base_uri": "https://localhost:8080/"
        },
        "id": "Fts0MS2UXx_h",
        "outputId": "2a55411f-552b-4dc6-c37c-225b558175db"
      },
      "source": [
        "from sklearn.metrics import accuracy_score\r\n",
        "# accuracy: (tp + tn) / (p + n)\r\n",
        "accuracy = accuracy_score(y_test, yhat_classes)\r\n",
        "print('Accuracy: %f' % accuracy)"
      ],
      "execution_count": null,
      "outputs": [
        {
          "output_type": "stream",
          "text": [
            "Accuracy: 0.976476\n"
          ],
          "name": "stdout"
        }
      ]
    },
    {
      "cell_type": "code",
      "metadata": {
        "id": "T-ri1xAvdmUe",
        "colab": {
          "base_uri": "https://localhost:8080/"
        },
        "outputId": "17a1b143-16af-4738-b509-4a31b3c905c7"
      },
      "source": [
        "# Calculating the f1_score\r\n",
        "from sklearn.metrics import f1_score\r\n",
        "f1 = f1_score(y_test, yhat_classes)\r\n",
        "print('F1 score: %f' % f1)"
      ],
      "execution_count": null,
      "outputs": [
        {
          "output_type": "stream",
          "text": [
            "F1 score: 0.786798\n"
          ],
          "name": "stdout"
        }
      ]
    },
    {
      "cell_type": "code",
      "metadata": {
        "id": "M7JDbz7sds6L",
        "colab": {
          "base_uri": "https://localhost:8080/"
        },
        "outputId": "0acb5cae-d339-4128-9b8d-b594f7eab805"
      },
      "source": [
        "# Importing the requitred libraries for the calculation of the ROC Curve\r\n",
        "from sklearn.metrics import roc_curve, roc_auc_score\r\n",
        "roc_curve( y_test,yhat_classes)"
      ],
      "execution_count": null,
      "outputs": [
        {
          "output_type": "execute_result",
          "data": {
            "text/plain": [
              "(array([0.        , 0.00179004, 1.        ]),\n",
              " array([0.        , 0.66515837, 1.        ]),\n",
              " array([2, 1, 0]))"
            ]
          },
          "metadata": {
            "tags": []
          },
          "execution_count": 22
        }
      ]
    },
    {
      "cell_type": "code",
      "metadata": {
        "id": "Glg0rWHxd6e5"
      },
      "source": [
        "fpr, tpr, thresholds = roc_curve(y_test,yhat_classes)"
      ],
      "execution_count": null,
      "outputs": []
    },
    {
      "cell_type": "code",
      "metadata": {
        "id": "PM7XXdwLd8rG",
        "colab": {
          "base_uri": "https://localhost:8080/",
          "height": 319
        },
        "outputId": "a0524871-6e49-4447-a2fd-3441a265e878"
      },
      "source": [
        "import matplotlib.pyplot as plt\r\n",
        "import seaborn as sns\r\n",
        "sns.set()\r\n",
        "plt.plot(fpr, tpr)\r\n",
        "plt.plot(fpr, fpr, linestyle = '--', color = 'k')\r\n",
        "plt.xlabel('False positive rate')\r\n",
        "plt.ylabel('True positive rate')\r\n",
        "plt.title('ROC curve')"
      ],
      "execution_count": null,
      "outputs": [
        {
          "output_type": "execute_result",
          "data": {
            "text/plain": [
              "Text(0.5, 1.0, 'ROC curve')"
            ]
          },
          "metadata": {
            "tags": []
          },
          "execution_count": 24
        },
        {
          "output_type": "display_data",
          "data": {
            "image/png": "[encoded data removed]",
            "text/plain": [
              "<Figure size 432x288 with 1 Axes>"
            ]
          },
          "metadata": {
            "tags": []
          }
        }
      ]
    },
    {
      "cell_type": "code",
      "metadata": {
        "id": "MXB2H3HreDrI",
        "colab": {
          "base_uri": "https://localhost:8080/"
        },
        "outputId": "d8c12623-d935-485b-fd4f-32e54bff96f8"
      },
      "source": [
        "# Calculating the ROC score\r\n",
        "AUROC = roc_auc_score( y_test,yhat_classes)\r\n",
        "AUROC"
      ],
      "execution_count": null,
      "outputs": [
        {
          "output_type": "execute_result",
          "data": {
            "text/plain": [
              "0.8316841660405262"
            ]
          },
          "metadata": {
            "tags": []
          },
          "execution_count": 25
        }
      ]
    },
    {
      "cell_type": "code",
      "metadata": {
        "id": "6B_5X4rqXS0g"
      },
      "source": [
        ""
      ],
      "execution_count": null,
      "outputs": []
    }
  ]
}